{
 "cells": [
  {
   "cell_type": "code",
   "execution_count": 1,
   "metadata": {
    "colab": {},
    "colab_type": "code",
    "id": "E0pxrNU0zheq"
   },
   "outputs": [],
   "source": [
    "import numpy as np"
   ]
  },
  {
   "cell_type": "markdown",
   "metadata": {
    "colab_type": "text",
    "id": "NlDSeVRqzhev"
   },
   "source": [
    "<img src = \"http://community.datacamp.com.s3.amazonaws.com/community/production/ckeditor_assets/pictures/332/content_arrays-axes.png\">"
   ]
  },
  {
   "cell_type": "markdown",
   "metadata": {
    "colab_type": "text",
    "id": "gucPxA66zhev"
   },
   "source": [
    "# NumPy Array Syntax\n",
    "The function array takes two arguments: the list to be converted into the array and the type of each member of the list. "
   ]
  },
  {
   "cell_type": "code",
   "execution_count": 2,
   "metadata": {
    "colab": {
     "base_uri": "https://localhost:8080/",
     "height": 34
    },
    "colab_type": "code",
    "executionInfo": {
     "elapsed": 719,
     "status": "ok",
     "timestamp": 1588010076300,
     "user": {
      "displayName": "Sanjay Agarwal",
      "photoUrl": "",
      "userId": "01124094544480722853"
     },
     "user_tz": 420
    },
    "id": "5ZPSM29Fzhew",
    "outputId": "6dee637d-326b-418f-f291-01115b1e26f5"
   },
   "outputs": [
    {
     "data": {
      "text/plain": [
       "array([1, 2, 3, 4, 5, 6, 7, 8, 9])"
      ]
     },
     "execution_count": 2,
     "metadata": {},
     "output_type": "execute_result"
    }
   ],
   "source": [
    "#List to be converted\n",
    "lst = [1,2,3,4,5,6,7,8,9]\n",
    "\n",
    "arr = np.array(lst)\n",
    "arr"
   ]
  },
  {
   "cell_type": "markdown",
   "metadata": {
    "colab_type": "text",
    "id": "_iLMR3cuzhez"
   },
   "source": [
    "Array elements are accessed, sliced, and manipulated just like lists."
   ]
  },
  {
   "cell_type": "code",
   "execution_count": 3,
   "metadata": {
    "colab": {
     "base_uri": "https://localhost:8080/",
     "height": 34
    },
    "colab_type": "code",
    "executionInfo": {
     "elapsed": 449,
     "status": "ok",
     "timestamp": 1588010077481,
     "user": {
      "displayName": "Sanjay Agarwal",
      "photoUrl": "",
      "userId": "01124094544480722853"
     },
     "user_tz": 420
    },
    "id": "_lPlZAmKzhe0",
    "outputId": "118c1382-6d01-448d-a904-46d3ca07cc0f"
   },
   "outputs": [
    {
     "data": {
      "text/plain": [
       "array([3, 4, 5, 6, 7, 8, 9])"
      ]
     },
     "execution_count": 3,
     "metadata": {},
     "output_type": "execute_result"
    }
   ],
   "source": [
    "#Index from the 2nd index on\n",
    "arr[2:]"
   ]
  },
  {
   "cell_type": "code",
   "execution_count": 4,
   "metadata": {
    "colab": {
     "base_uri": "https://localhost:8080/",
     "height": 34
    },
    "colab_type": "code",
    "executionInfo": {
     "elapsed": 740,
     "status": "ok",
     "timestamp": 1588010078370,
     "user": {
      "displayName": "Sanjay Agarwal",
      "photoUrl": "",
      "userId": "01124094544480722853"
     },
     "user_tz": 420
    },
    "id": "KNtsBiVrzhe2",
    "outputId": "80e9dabd-4924-4489-e072-a444d104a183"
   },
   "outputs": [
    {
     "data": {
      "text/plain": [
       "array([10,  2,  3,  4,  5,  6,  7,  8,  9])"
      ]
     },
     "execution_count": 4,
     "metadata": {},
     "output_type": "execute_result"
    }
   ],
   "source": [
    "#manipulate item at index 0\n",
    "arr[0] = 10\n",
    "arr"
   ]
  },
  {
   "cell_type": "markdown",
   "metadata": {
    "colab_type": "text",
    "id": "BzjknHq4zhe6"
   },
   "source": [
    "# Python List VS NumPy Array\n",
    "\n",
    "\"Arrays and lists are both used in Python to store data, but they don't serve exactly the same purposes. They both can be used to store any data type (real numbers, strings, etc), and they both can be indexed and iterated through, but the similarities between the two don't go much further. The main difference between a list and an array is the functions that you can perform to them. For example, you can divide an array by 3, and each number in the array will be divided by 3 and the result will be printed if you request it. If you try to divide a list by 3, Python will tell you that it can't be done, and an error will be thrown.\"\n"
   ]
  },
  {
   "cell_type": "code",
   "execution_count": 5,
   "metadata": {
    "colab": {
     "base_uri": "https://localhost:8080/",
     "height": 185
    },
    "colab_type": "code",
    "executionInfo": {
     "elapsed": 412,
     "status": "error",
     "timestamp": 1588010079733,
     "user": {
      "displayName": "Sanjay Agarwal",
      "photoUrl": "",
      "userId": "01124094544480722853"
     },
     "user_tz": 420
    },
    "id": "hRLIX-pszhe7",
    "outputId": "140660f2-b446-4b0a-8ee8-2fef306d890f"
   },
   "outputs": [
    {
     "ename": "TypeError",
     "evalue": "unsupported operand type(s) for /: 'list' and 'int'",
     "output_type": "error",
     "traceback": [
      "\u001b[1;31m---------------------------------------------------------------------------\u001b[0m",
      "\u001b[1;31mTypeError\u001b[0m                                 Traceback (most recent call last)",
      "\u001b[1;32m<ipython-input-5-f77ccc9ee967>\u001b[0m in \u001b[0;36m<module>\u001b[1;34m\u001b[0m\n\u001b[0;32m      1\u001b[0m \u001b[0mlst\u001b[0m \u001b[1;33m=\u001b[0m \u001b[1;33m[\u001b[0m\u001b[1;36m3\u001b[0m\u001b[1;33m,\u001b[0m\u001b[1;36m6\u001b[0m\u001b[1;33m,\u001b[0m\u001b[1;36m9\u001b[0m\u001b[1;33m,\u001b[0m\u001b[1;36m12\u001b[0m\u001b[1;33m,\u001b[0m\u001b[1;36m15\u001b[0m\u001b[1;33m,\u001b[0m\u001b[1;36m18\u001b[0m\u001b[1;33m,\u001b[0m\u001b[1;36m12\u001b[0m\u001b[1;33m]\u001b[0m\u001b[1;33m\u001b[0m\u001b[1;33m\u001b[0m\u001b[0m\n\u001b[1;32m----> 2\u001b[1;33m \u001b[0mlst\u001b[0m\u001b[1;33m/\u001b[0m\u001b[1;36m3\u001b[0m\u001b[1;33m\u001b[0m\u001b[1;33m\u001b[0m\u001b[0m\n\u001b[0m",
      "\u001b[1;31mTypeError\u001b[0m: unsupported operand type(s) for /: 'list' and 'int'"
     ]
    }
   ],
   "source": [
    "lst = [3,6,9,12,15,18,12]\n",
    "lst/3"
   ]
  },
  {
   "cell_type": "code",
   "execution_count": 6,
   "metadata": {
    "colab": {
     "base_uri": "https://localhost:8080/",
     "height": 34
    },
    "colab_type": "code",
    "executionInfo": {
     "elapsed": 208,
     "status": "ok",
     "timestamp": 1588010079931,
     "user": {
      "displayName": "Sanjay Agarwal",
      "photoUrl": "",
      "userId": "01124094544480722853"
     },
     "user_tz": 420
    },
    "id": "xJtfthIKzhe-",
    "outputId": "f541e232-9a27-4ad3-fda0-6b834c3e038f"
   },
   "outputs": [
    {
     "name": "stdout",
     "output_type": "stream",
     "text": [
      "[12 24 36 48 60 72 48]\n"
     ]
    }
   ],
   "source": [
    "arr = np.array([3,6,9,12,15,18,12])\n",
    "arr1 = arr * 4\n",
    "print(arr1)"
   ]
  },
  {
   "cell_type": "code",
   "execution_count": 7,
   "metadata": {
    "colab": {
     "base_uri": "https://localhost:8080/",
     "height": 34
    },
    "colab_type": "code",
    "executionInfo": {
     "elapsed": 287,
     "status": "ok",
     "timestamp": 1588010080686,
     "user": {
      "displayName": "Sanjay Agarwal",
      "photoUrl": "",
      "userId": "01124094544480722853"
     },
     "user_tz": 420
    },
    "id": "hIbkQM8LzhfB",
    "outputId": "be55405c-dbe8-485f-db57-80f4c750280d"
   },
   "outputs": [
    {
     "data": {
      "text/plain": [
       "array([12, 24, 36, 48, 60, 72, 48])"
      ]
     },
     "metadata": {},
     "output_type": "display_data"
    }
   ],
   "source": [
    "display(arr1)"
   ]
  },
  {
   "cell_type": "markdown",
   "metadata": {
    "colab_type": "text",
    "id": "hlfCK3e2zhfD"
   },
   "source": [
    "Arrays can be multidimensional. Unlike lists, different axes are accessed using commas inside bracket notation. Here is an example with a two-dimensional array (e.g., a matrix)"
   ]
  },
  {
   "cell_type": "code",
   "execution_count": 8,
   "metadata": {
    "colab": {
     "base_uri": "https://localhost:8080/",
     "height": 52
    },
    "colab_type": "code",
    "executionInfo": {
     "elapsed": 284,
     "status": "ok",
     "timestamp": 1588010081716,
     "user": {
      "displayName": "Sanjay Agarwal",
      "photoUrl": "",
      "userId": "01124094544480722853"
     },
     "user_tz": 420
    },
    "id": "b12TJ4Y-zhfF",
    "outputId": "a62c0872-4275-4ad2-dffa-2e65b975a7f0"
   },
   "outputs": [
    {
     "data": {
      "text/plain": [
       "array([[5, 6, 7, 8, 9],\n",
       "       [1, 2, 3, 4, 5]])"
      ]
     },
     "execution_count": 8,
     "metadata": {},
     "output_type": "execute_result"
    }
   ],
   "source": [
    "lst1 = [1,2,3,4,5]\n",
    "lst2 = [5,6,7,8,9]\n",
    "arr = np.array([lst2,lst1])\n",
    "arr"
   ]
  },
  {
   "cell_type": "code",
   "execution_count": 9,
   "metadata": {
    "colab": {
     "base_uri": "https://localhost:8080/",
     "height": 52
    },
    "colab_type": "code",
    "executionInfo": {
     "elapsed": 228,
     "status": "ok",
     "timestamp": 1588010082209,
     "user": {
      "displayName": "Sanjay Agarwal",
      "photoUrl": "",
      "userId": "01124094544480722853"
     },
     "user_tz": 420
    },
    "id": "IZ3MccbDzhfI",
    "outputId": "fcf14ff3-3167-453c-cff1-2be5437ea356"
   },
   "outputs": [
    {
     "data": {
      "text/plain": [
       "array([[1.66666667, 2.        , 2.33333333, 2.66666667, 3.        ],\n",
       "       [0.33333333, 0.66666667, 1.        , 1.33333333, 1.66666667]])"
      ]
     },
     "execution_count": 9,
     "metadata": {},
     "output_type": "execute_result"
    }
   ],
   "source": [
    "(arr/3)"
   ]
  },
  {
   "cell_type": "code",
   "execution_count": 10,
   "metadata": {
    "colab": {
     "base_uri": "https://localhost:8080/",
     "height": 34
    },
    "colab_type": "code",
    "executionInfo": {
     "elapsed": 267,
     "status": "ok",
     "timestamp": 1588010082782,
     "user": {
      "displayName": "Sanjay Agarwal",
      "photoUrl": "",
      "userId": "01124094544480722853"
     },
     "user_tz": 420
    },
    "id": "N3H0ho96zhfK",
    "outputId": "11a1760d-8a70-4b31-8c90-e0789c7a8e1f"
   },
   "outputs": [
    {
     "data": {
      "text/plain": [
       "[[1, 2, 3, 4, 5], [5, 6, 7, 8, 9]]"
      ]
     },
     "execution_count": 10,
     "metadata": {},
     "output_type": "execute_result"
    }
   ],
   "source": [
    "lst_lst = [lst1,lst2]\n",
    "lst_lst"
   ]
  },
  {
   "cell_type": "code",
   "execution_count": 11,
   "metadata": {
    "colab": {
     "base_uri": "https://localhost:8080/",
     "height": 167
    },
    "colab_type": "code",
    "executionInfo": {
     "elapsed": 203,
     "status": "error",
     "timestamp": 1588010083239,
     "user": {
      "displayName": "Sanjay Agarwal",
      "photoUrl": "",
      "userId": "01124094544480722853"
     },
     "user_tz": 420
    },
    "id": "C4BzxyitzhfO",
    "outputId": "f34f4c82-2077-479c-9979-1af4e39d23c0"
   },
   "outputs": [
    {
     "ename": "TypeError",
     "evalue": "unsupported operand type(s) for /: 'list' and 'int'",
     "output_type": "error",
     "traceback": [
      "\u001b[1;31m---------------------------------------------------------------------------\u001b[0m",
      "\u001b[1;31mTypeError\u001b[0m                                 Traceback (most recent call last)",
      "\u001b[1;32m<ipython-input-11-66863a021a51>\u001b[0m in \u001b[0;36m<module>\u001b[1;34m\u001b[0m\n\u001b[1;32m----> 1\u001b[1;33m \u001b[0mlst_lst\u001b[0m\u001b[1;33m/\u001b[0m\u001b[1;36m3\u001b[0m\u001b[1;33m\u001b[0m\u001b[1;33m\u001b[0m\u001b[0m\n\u001b[0m",
      "\u001b[1;31mTypeError\u001b[0m: unsupported operand type(s) for /: 'list' and 'int'"
     ]
    }
   ],
   "source": [
    "lst_lst/3"
   ]
  },
  {
   "cell_type": "markdown",
   "metadata": {
    "colab_type": "text",
    "id": "d8UXtg3czhfQ"
   },
   "source": [
    "# Indexing Arrays VS Lists"
   ]
  },
  {
   "cell_type": "code",
   "execution_count": 12,
   "metadata": {
    "colab": {
     "base_uri": "https://localhost:8080/",
     "height": 52
    },
    "colab_type": "code",
    "executionInfo": {
     "elapsed": 270,
     "status": "ok",
     "timestamp": 1588010084414,
     "user": {
      "displayName": "Sanjay Agarwal",
      "photoUrl": "",
      "userId": "01124094544480722853"
     },
     "user_tz": 420
    },
    "id": "abjwd01kzhfQ",
    "outputId": "6621402d-6369-461e-9afe-8d67ccb4de81"
   },
   "outputs": [
    {
     "data": {
      "text/plain": [
       "array([[5, 6, 7, 8, 9],\n",
       "       [1, 2, 3, 4, 5]])"
      ]
     },
     "execution_count": 12,
     "metadata": {},
     "output_type": "execute_result"
    }
   ],
   "source": [
    "arr"
   ]
  },
  {
   "cell_type": "code",
   "execution_count": 13,
   "metadata": {
    "colab": {
     "base_uri": "https://localhost:8080/",
     "height": 34
    },
    "colab_type": "code",
    "executionInfo": {
     "elapsed": 259,
     "status": "ok",
     "timestamp": 1588010084882,
     "user": {
      "displayName": "Sanjay Agarwal",
      "photoUrl": "",
      "userId": "01124094544480722853"
     },
     "user_tz": 420
    },
    "id": "S8wPUtsazhfT",
    "outputId": "0962157c-a107-4159-d3a9-7cfe9d4872d5"
   },
   "outputs": [
    {
     "data": {
      "text/plain": [
       "6"
      ]
     },
     "execution_count": 13,
     "metadata": {},
     "output_type": "execute_result"
    }
   ],
   "source": [
    "arr[0][1]"
   ]
  },
  {
   "cell_type": "code",
   "execution_count": 14,
   "metadata": {
    "colab": {
     "base_uri": "https://localhost:8080/",
     "height": 34
    },
    "colab_type": "code",
    "executionInfo": {
     "elapsed": 199,
     "status": "ok",
     "timestamp": 1588010085372,
     "user": {
      "displayName": "Sanjay Agarwal",
      "photoUrl": "",
      "userId": "01124094544480722853"
     },
     "user_tz": 420
    },
    "id": "wCXm1XfszhfV",
    "outputId": "737a1cae-44a7-4e47-c70e-99e0b3b7f24c"
   },
   "outputs": [
    {
     "data": {
      "text/plain": [
       "[[1, 2, 3, 4, 5], [5, 6, 7, 8, 9]]"
      ]
     },
     "execution_count": 14,
     "metadata": {},
     "output_type": "execute_result"
    }
   ],
   "source": [
    "lst_lst"
   ]
  },
  {
   "cell_type": "code",
   "execution_count": 15,
   "metadata": {
    "colab": {
     "base_uri": "https://localhost:8080/",
     "height": 167
    },
    "colab_type": "code",
    "executionInfo": {
     "elapsed": 168,
     "status": "error",
     "timestamp": 1588010085874,
     "user": {
      "displayName": "Sanjay Agarwal",
      "photoUrl": "",
      "userId": "01124094544480722853"
     },
     "user_tz": 420
    },
    "id": "qLwHbxsUzhfX",
    "outputId": "37a96959-1d33-4efb-9764-8bb1570005c6",
    "scrolled": true
   },
   "outputs": [
    {
     "ename": "TypeError",
     "evalue": "list indices must be integers or slices, not tuple",
     "output_type": "error",
     "traceback": [
      "\u001b[1;31m---------------------------------------------------------------------------\u001b[0m",
      "\u001b[1;31mTypeError\u001b[0m                                 Traceback (most recent call last)",
      "\u001b[1;32m<ipython-input-15-bbf7ca5ac872>\u001b[0m in \u001b[0;36m<module>\u001b[1;34m\u001b[0m\n\u001b[1;32m----> 1\u001b[1;33m \u001b[0mlst_lst\u001b[0m\u001b[1;33m[\u001b[0m\u001b[1;36m0\u001b[0m\u001b[1;33m,\u001b[0m\u001b[1;36m1\u001b[0m\u001b[1;33m]\u001b[0m\u001b[1;33m\u001b[0m\u001b[1;33m\u001b[0m\u001b[0m\n\u001b[0m",
      "\u001b[1;31mTypeError\u001b[0m: list indices must be integers or slices, not tuple"
     ]
    }
   ],
   "source": [
    "lst_lst[0,1]"
   ]
  },
  {
   "cell_type": "code",
   "execution_count": 16,
   "metadata": {
    "colab": {
     "base_uri": "https://localhost:8080/",
     "height": 34
    },
    "colab_type": "code",
    "executionInfo": {
     "elapsed": 289,
     "status": "ok",
     "timestamp": 1588010086531,
     "user": {
      "displayName": "Sanjay Agarwal",
      "photoUrl": "",
      "userId": "01124094544480722853"
     },
     "user_tz": 420
    },
    "id": "QqzhL8cnzhfa",
    "outputId": "87515060-6187-4da6-e6a8-e517e2a65ecd"
   },
   "outputs": [
    {
     "data": {
      "text/plain": [
       "2"
      ]
     },
     "execution_count": 16,
     "metadata": {},
     "output_type": "execute_result"
    }
   ],
   "source": [
    "lst_lst[0][1]"
   ]
  },
  {
   "cell_type": "code",
   "execution_count": 17,
   "metadata": {
    "colab": {
     "base_uri": "https://localhost:8080/",
     "height": 34
    },
    "colab_type": "code",
    "executionInfo": {
     "elapsed": 179,
     "status": "ok",
     "timestamp": 1588010086971,
     "user": {
      "displayName": "Sanjay Agarwal",
      "photoUrl": "",
      "userId": "01124094544480722853"
     },
     "user_tz": 420
    },
    "id": "BBnSIKHNzhfe",
    "outputId": "619f6988-1ab3-430f-d563-3d941791f79f"
   },
   "outputs": [
    {
     "data": {
      "text/plain": [
       "array([1, 2, 3, 4, 5])"
      ]
     },
     "execution_count": 17,
     "metadata": {},
     "output_type": "execute_result"
    }
   ],
   "source": [
    "arr[-1]"
   ]
  },
  {
   "cell_type": "code",
   "execution_count": 18,
   "metadata": {
    "colab": {
     "base_uri": "https://localhost:8080/",
     "height": 34
    },
    "colab_type": "code",
    "executionInfo": {
     "elapsed": 278,
     "status": "ok",
     "timestamp": 1588010087855,
     "user": {
      "displayName": "Sanjay Agarwal",
      "photoUrl": "",
      "userId": "01124094544480722853"
     },
     "user_tz": 420
    },
    "id": "JmUFrme3zhfh",
    "outputId": "b9c952b9-596a-4304-83a6-387d0ed4ec92"
   },
   "outputs": [
    {
     "data": {
      "text/plain": [
       "[5, 6, 7, 8, 9]"
      ]
     },
     "execution_count": 18,
     "metadata": {},
     "output_type": "execute_result"
    }
   ],
   "source": [
    "lst_lst[-1]"
   ]
  },
  {
   "cell_type": "code",
   "execution_count": 19,
   "metadata": {
    "colab": {
     "base_uri": "https://localhost:8080/",
     "height": 52
    },
    "colab_type": "code",
    "executionInfo": {
     "elapsed": 217,
     "status": "ok",
     "timestamp": 1588010088420,
     "user": {
      "displayName": "Sanjay Agarwal",
      "photoUrl": "",
      "userId": "01124094544480722853"
     },
     "user_tz": 420
    },
    "id": "HTONAdZyzhfj",
    "outputId": "d257d42e-be3b-41da-8778-05fab3a6b7b6"
   },
   "outputs": [
    {
     "data": {
      "text/plain": [
       "array([[5, 6, 7, 8, 9],\n",
       "       [1, 2, 3, 4, 5]])"
      ]
     },
     "execution_count": 19,
     "metadata": {},
     "output_type": "execute_result"
    }
   ],
   "source": [
    "arr"
   ]
  },
  {
   "cell_type": "markdown",
   "metadata": {
    "colab_type": "text",
    "id": "pERVUGQ0zhfl"
   },
   "source": [
    "<h3> How to index a multidemsional array? </h3><br>\n",
    "The individual elements of arrays can be accessed in the same way as for lists.\n",
    "\n",
    "<img src = \"http://www.scipy-lectures.org/_images/numpy_indexing.png\" height = 60% width = 60%>"
   ]
  },
  {
   "cell_type": "code",
   "execution_count": 20,
   "metadata": {
    "colab": {},
    "colab_type": "code",
    "id": "CK8Ipb3uzhfl"
   },
   "outputs": [],
   "source": [
    "list_2d = [[0,1,2,3,4,5],\n",
    "           [10,11,12,13,14,15],\n",
    "           [20,21,22,23,24,25],\n",
    "           [30,31,32,33,34,35],\n",
    "           [40,41,42,43,44,45],\n",
    "           [50,51,52,53,54,55]]"
   ]
  },
  {
   "cell_type": "code",
   "execution_count": 21,
   "metadata": {
    "colab": {
     "base_uri": "https://localhost:8080/",
     "height": 141
    },
    "colab_type": "code",
    "executionInfo": {
     "elapsed": 307,
     "status": "ok",
     "timestamp": 1588010090098,
     "user": {
      "displayName": "Sanjay Agarwal",
      "photoUrl": "",
      "userId": "01124094544480722853"
     },
     "user_tz": 420
    },
    "id": "bxAMv59_zhfq",
    "outputId": "b8ac7324-b950-49ff-a097-7923f51da6b1"
   },
   "outputs": [
    {
     "name": "stdout",
     "output_type": "stream",
     "text": [
      "[[ 0  1  2  3  4  5]\n",
      " [10 11 12 13 14 15]\n",
      " [20 21 22 23 24 25]\n",
      " [30 31 32 33 34 35]\n",
      " [40 41 42 43 44 45]\n",
      " [50 51 52 53 54 55]]\n"
     ]
    },
    {
     "data": {
      "text/plain": [
       "(6, 6)"
      ]
     },
     "execution_count": 21,
     "metadata": {},
     "output_type": "execute_result"
    }
   ],
   "source": [
    "array_2d = np.array(list_2d)\n",
    "print(array_2d)\n",
    "array_2d.shape"
   ]
  },
  {
   "cell_type": "code",
   "execution_count": 22,
   "metadata": {
    "colab": {
     "base_uri": "https://localhost:8080/",
     "height": 34
    },
    "colab_type": "code",
    "executionInfo": {
     "elapsed": 192,
     "status": "ok",
     "timestamp": 1588010090419,
     "user": {
      "displayName": "Sanjay Agarwal",
      "photoUrl": "",
      "userId": "01124094544480722853"
     },
     "user_tz": 420
    },
    "id": "LqGeQ2E0zhfu",
    "outputId": "6eb40605-b611-48b2-d902-f2a237edf4e2"
   },
   "outputs": [
    {
     "name": "stdout",
     "output_type": "stream",
     "text": [
      "[3 4]\n"
     ]
    }
   ],
   "source": [
    "print(array_2d[0,3:5])"
   ]
  },
  {
   "cell_type": "code",
   "execution_count": 23,
   "metadata": {
    "colab": {
     "base_uri": "https://localhost:8080/",
     "height": 52
    },
    "colab_type": "code",
    "executionInfo": {
     "elapsed": 306,
     "status": "ok",
     "timestamp": 1588010091039,
     "user": {
      "displayName": "Sanjay Agarwal",
      "photoUrl": "",
      "userId": "01124094544480722853"
     },
     "user_tz": 420
    },
    "id": "EyFnHAMezhfx",
    "outputId": "56bed2fa-f060-402d-8ff3-c2ca199ac703"
   },
   "outputs": [
    {
     "name": "stdout",
     "output_type": "stream",
     "text": [
      "[[44 45]\n",
      " [54 55]]\n"
     ]
    }
   ],
   "source": [
    "print(array_2d[4:,4:])"
   ]
  },
  {
   "cell_type": "code",
   "execution_count": 24,
   "metadata": {
    "colab": {
     "base_uri": "https://localhost:8080/",
     "height": 34
    },
    "colab_type": "code",
    "executionInfo": {
     "elapsed": 233,
     "status": "ok",
     "timestamp": 1588010091461,
     "user": {
      "displayName": "Sanjay Agarwal",
      "photoUrl": "",
      "userId": "01124094544480722853"
     },
     "user_tz": 420
    },
    "id": "NuAOhrXwzhfz",
    "outputId": "ba6f49f7-40ca-4a13-9455-b86949ca636b"
   },
   "outputs": [
    {
     "name": "stdout",
     "output_type": "stream",
     "text": [
      "[ 2 12 22 32 42 52]\n"
     ]
    }
   ],
   "source": [
    "print(array_2d[:,2])"
   ]
  },
  {
   "cell_type": "code",
   "execution_count": 25,
   "metadata": {
    "colab": {
     "base_uri": "https://localhost:8080/",
     "height": 52
    },
    "colab_type": "code",
    "executionInfo": {
     "elapsed": 169,
     "status": "ok",
     "timestamp": 1588010091931,
     "user": {
      "displayName": "Sanjay Agarwal",
      "photoUrl": "",
      "userId": "01124094544480722853"
     },
     "user_tz": 420
    },
    "id": "mzRuJ9tdzhf1",
    "outputId": "455573ae-58ba-46d7-bc0c-a7a5ecfe8b84"
   },
   "outputs": [
    {
     "name": "stdout",
     "output_type": "stream",
     "text": [
      "[[23 25]\n",
      " [43 45]]\n"
     ]
    }
   ],
   "source": [
    "print(array_2d[2:5:2,3::2]) # step by 2"
   ]
  },
  {
   "cell_type": "code",
   "execution_count": 26,
   "metadata": {
    "colab": {},
    "colab_type": "code",
    "id": "kwYFguQazhf4"
   },
   "outputs": [],
   "source": [
    "# adding new column to numpy array"
   ]
  },
  {
   "cell_type": "code",
   "execution_count": 27,
   "metadata": {
    "colab": {
     "base_uri": "https://localhost:8080/",
     "height": 34
    },
    "colab_type": "code",
    "executionInfo": {
     "elapsed": 213,
     "status": "ok",
     "timestamp": 1588010093050,
     "user": {
      "displayName": "Sanjay Agarwal",
      "photoUrl": "",
      "userId": "01124094544480722853"
     },
     "user_tz": 420
    },
    "id": "EckcTBb7zhf8",
    "outputId": "24b0885b-b9fc-4ec4-f907-723cbcc18c47"
   },
   "outputs": [
    {
     "name": "stdout",
     "output_type": "stream",
     "text": [
      "[ 5.25 15.75 26.25 36.75 47.25 57.75]\n"
     ]
    }
   ],
   "source": [
    "calc = array_2d[:,5] * 1.05\n",
    "# new_column = np.array(calc)\n",
    "print(calc)"
   ]
  },
  {
   "cell_type": "code",
   "execution_count": 28,
   "metadata": {
    "colab": {
     "base_uri": "https://localhost:8080/",
     "height": 123
    },
    "colab_type": "code",
    "executionInfo": {
     "elapsed": 309,
     "status": "ok",
     "timestamp": 1588010093661,
     "user": {
      "displayName": "Sanjay Agarwal",
      "photoUrl": "",
      "userId": "01124094544480722853"
     },
     "user_tz": 420
    },
    "id": "2uWTTrgxzhgA",
    "outputId": "1177ecf4-f3e7-4edf-c6a7-d294de137378"
   },
   "outputs": [
    {
     "name": "stdout",
     "output_type": "stream",
     "text": [
      "[[ 0.    1.    2.    3.    4.    5.    5.25]\n",
      " [10.   11.   12.   13.   14.   15.   15.75]\n",
      " [20.   21.   22.   23.   24.   25.   26.25]\n",
      " [30.   31.   32.   33.   34.   35.   36.75]\n",
      " [40.   41.   42.   43.   44.   45.   47.25]\n",
      " [50.   51.   52.   53.   54.   55.   57.75]]\n"
     ]
    }
   ],
   "source": [
    "new_array_2d = np.column_stack((array_2d,calc))\n",
    "print(new_array_2d)"
   ]
  },
  {
   "cell_type": "markdown",
   "metadata": {
    "colab_type": "text",
    "id": "wLZkzt4qzhgB"
   },
   "source": [
    "# Changing Array to different DataType"
   ]
  },
  {
   "cell_type": "code",
   "execution_count": 29,
   "metadata": {
    "colab": {
     "base_uri": "https://localhost:8080/",
     "height": 34
    },
    "colab_type": "code",
    "executionInfo": {
     "elapsed": 315,
     "status": "ok",
     "timestamp": 1588010094903,
     "user": {
      "displayName": "Sanjay Agarwal",
      "photoUrl": "",
      "userId": "01124094544480722853"
     },
     "user_tz": 420
    },
    "id": "3WJ1ZGXOzhgC",
    "outputId": "ccea7f1b-ebd0-41de-bd3f-4d5b2fd6795d"
   },
   "outputs": [
    {
     "name": "stdout",
     "output_type": "stream",
     "text": [
      "[[5, 6, 7, 8, 9], [1, 2, 3, 4, 5]]\n"
     ]
    }
   ],
   "source": [
    "mylist = arr.tolist()\n",
    "print(mylist)"
   ]
  },
  {
   "cell_type": "code",
   "execution_count": 30,
   "metadata": {
    "colab": {
     "base_uri": "https://localhost:8080/",
     "height": 34
    },
    "colab_type": "code",
    "executionInfo": {
     "elapsed": 238,
     "status": "ok",
     "timestamp": 1588010095454,
     "user": {
      "displayName": "Sanjay Agarwal",
      "photoUrl": "",
      "userId": "01124094544480722853"
     },
     "user_tz": 420
    },
    "id": "c0Fsd9mdzhgF",
    "outputId": "28192eac-1835-4d8e-f358-587c75f0a6d5"
   },
   "outputs": [
    {
     "data": {
      "text/plain": [
       "numpy.ndarray"
      ]
     },
     "execution_count": 30,
     "metadata": {},
     "output_type": "execute_result"
    }
   ],
   "source": [
    "type(arr)"
   ]
  },
  {
   "cell_type": "code",
   "execution_count": 31,
   "metadata": {
    "colab": {
     "base_uri": "https://localhost:8080/",
     "height": 52
    },
    "colab_type": "code",
    "executionInfo": {
     "elapsed": 186,
     "status": "ok",
     "timestamp": 1588010096103,
     "user": {
      "displayName": "Sanjay Agarwal",
      "photoUrl": "",
      "userId": "01124094544480722853"
     },
     "user_tz": 420
    },
    "id": "EB6gKBtlzhgI",
    "outputId": "25e07ae7-dc89-4e95-eef0-cf0d2188554d"
   },
   "outputs": [
    {
     "data": {
      "text/plain": [
       "array([[5, 6, 7, 8, 9],\n",
       "       [1, 2, 3, 4, 5]])"
      ]
     },
     "execution_count": 31,
     "metadata": {},
     "output_type": "execute_result"
    }
   ],
   "source": [
    "arr = np.array(arr)\n",
    "arr"
   ]
  },
  {
   "cell_type": "code",
   "execution_count": 32,
   "metadata": {
    "colab": {
     "base_uri": "https://localhost:8080/",
     "height": 34
    },
    "colab_type": "code",
    "executionInfo": {
     "elapsed": 324,
     "status": "ok",
     "timestamp": 1588010096812,
     "user": {
      "displayName": "Sanjay Agarwal",
      "photoUrl": "",
      "userId": "01124094544480722853"
     },
     "user_tz": 420
    },
    "id": "KaNhGXOgzhgK",
    "outputId": "2d5718a7-32ae-4a16-e383-ad39d565d80d"
   },
   "outputs": [
    {
     "data": {
      "text/plain": [
       "numpy.ndarray"
      ]
     },
     "execution_count": 32,
     "metadata": {},
     "output_type": "execute_result"
    }
   ],
   "source": [
    "type(arr)"
   ]
  },
  {
   "cell_type": "code",
   "execution_count": 33,
   "metadata": {
    "colab": {
     "base_uri": "https://localhost:8080/",
     "height": 34
    },
    "colab_type": "code",
    "executionInfo": {
     "elapsed": 186,
     "status": "ok",
     "timestamp": 1588010097287,
     "user": {
      "displayName": "Sanjay Agarwal",
      "photoUrl": "",
      "userId": "01124094544480722853"
     },
     "user_tz": 420
    },
    "id": "stLJ3CwNzhgN",
    "outputId": "536ab0f3-af0a-4c56-90b9-4c39e9629590"
   },
   "outputs": [
    {
     "data": {
      "text/plain": [
       "(2, 5)"
      ]
     },
     "execution_count": 33,
     "metadata": {},
     "output_type": "execute_result"
    }
   ],
   "source": [
    "arr.shape"
   ]
  },
  {
   "cell_type": "markdown",
   "metadata": {
    "colab_type": "text",
    "id": "RyCzJtcbzhgQ"
   },
   "source": [
    "# Change Array Shape"
   ]
  },
  {
   "cell_type": "markdown",
   "metadata": {
    "colab_type": "text",
    "id": "16i9NRJxzhgR"
   },
   "source": [
    "Transposed versions of arrays can also be generated, which will create a new array with the final two axes switched:"
   ]
  },
  {
   "cell_type": "code",
   "execution_count": 34,
   "metadata": {
    "colab": {
     "base_uri": "https://localhost:8080/",
     "height": 52
    },
    "colab_type": "code",
    "executionInfo": {
     "elapsed": 267,
     "status": "ok",
     "timestamp": 1588010099192,
     "user": {
      "displayName": "Sanjay Agarwal",
      "photoUrl": "",
      "userId": "01124094544480722853"
     },
     "user_tz": 420
    },
    "id": "xZ7y5yObzhgR",
    "outputId": "b1527fe6-0712-420a-fd92-2bbc503a3110"
   },
   "outputs": [
    {
     "data": {
      "text/plain": [
       "array([[5, 6, 7, 8, 9],\n",
       "       [1, 2, 3, 4, 5]])"
      ]
     },
     "execution_count": 34,
     "metadata": {},
     "output_type": "execute_result"
    }
   ],
   "source": [
    "arr"
   ]
  },
  {
   "cell_type": "code",
   "execution_count": 35,
   "metadata": {
    "colab": {
     "base_uri": "https://localhost:8080/",
     "height": 34
    },
    "colab_type": "code",
    "executionInfo": {
     "elapsed": 199,
     "status": "ok",
     "timestamp": 1588010099652,
     "user": {
      "displayName": "Sanjay Agarwal",
      "photoUrl": "",
      "userId": "01124094544480722853"
     },
     "user_tz": 420
    },
    "id": "AucxLwYQzhgT",
    "outputId": "6ee73f77-5ade-409c-c3a3-a9f06bad193c"
   },
   "outputs": [
    {
     "data": {
      "text/plain": [
       "(2, 5)"
      ]
     },
     "execution_count": 35,
     "metadata": {},
     "output_type": "execute_result"
    }
   ],
   "source": [
    "arr.shape"
   ]
  },
  {
   "cell_type": "code",
   "execution_count": 36,
   "metadata": {
    "colab": {
     "base_uri": "https://localhost:8080/",
     "height": 105
    },
    "colab_type": "code",
    "executionInfo": {
     "elapsed": 304,
     "status": "ok",
     "timestamp": 1588010100269,
     "user": {
      "displayName": "Sanjay Agarwal",
      "photoUrl": "",
      "userId": "01124094544480722853"
     },
     "user_tz": 420
    },
    "id": "xVloEPAezhgW",
    "outputId": "5d77e6bf-96a9-4643-909a-b738acdcdb88"
   },
   "outputs": [
    {
     "data": {
      "text/plain": [
       "array([[5, 1],\n",
       "       [6, 2],\n",
       "       [7, 3],\n",
       "       [8, 4],\n",
       "       [9, 5]])"
      ]
     },
     "execution_count": 36,
     "metadata": {},
     "output_type": "execute_result"
    }
   ],
   "source": [
    "arr.transpose()"
   ]
  },
  {
   "cell_type": "code",
   "execution_count": 37,
   "metadata": {
    "colab": {
     "base_uri": "https://localhost:8080/",
     "height": 34
    },
    "colab_type": "code",
    "executionInfo": {
     "elapsed": 248,
     "status": "ok",
     "timestamp": 1588010100866,
     "user": {
      "displayName": "Sanjay Agarwal",
      "photoUrl": "",
      "userId": "01124094544480722853"
     },
     "user_tz": 420
    },
    "id": "9gM1C0ICzhgY",
    "outputId": "d4ef97fe-63f9-4d06-f6bc-2ffab0fc71dc"
   },
   "outputs": [
    {
     "data": {
      "text/plain": [
       "(5, 2)"
      ]
     },
     "execution_count": 37,
     "metadata": {},
     "output_type": "execute_result"
    }
   ],
   "source": [
    "arr.transpose().shape"
   ]
  },
  {
   "cell_type": "markdown",
   "metadata": {
    "colab_type": "text",
    "id": "7upHRazZzhgc"
   },
   "source": [
    "Make multidimensional array into one-dimensional array"
   ]
  },
  {
   "cell_type": "code",
   "execution_count": 38,
   "metadata": {
    "colab": {
     "base_uri": "https://localhost:8080/",
     "height": 34
    },
    "colab_type": "code",
    "executionInfo": {
     "elapsed": 258,
     "status": "ok",
     "timestamp": 1588010102120,
     "user": {
      "displayName": "Sanjay Agarwal",
      "photoUrl": "",
      "userId": "01124094544480722853"
     },
     "user_tz": 420
    },
    "id": "nKiaJeW3zhgc",
    "outputId": "0b6da3d0-1859-48db-88d8-8788e5e74e78"
   },
   "outputs": [
    {
     "data": {
      "text/plain": [
       "(2, 5)"
      ]
     },
     "execution_count": 38,
     "metadata": {},
     "output_type": "execute_result"
    }
   ],
   "source": [
    "arr.shape"
   ]
  },
  {
   "cell_type": "code",
   "execution_count": 39,
   "metadata": {
    "colab": {
     "base_uri": "https://localhost:8080/",
     "height": 34
    },
    "colab_type": "code",
    "executionInfo": {
     "elapsed": 215,
     "status": "ok",
     "timestamp": 1588010102695,
     "user": {
      "displayName": "Sanjay Agarwal",
      "photoUrl": "",
      "userId": "01124094544480722853"
     },
     "user_tz": 420
    },
    "id": "VajAvTuyzhgf",
    "outputId": "84a8dd5b-4179-47db-8c82-efeb70e3a130"
   },
   "outputs": [
    {
     "data": {
      "text/plain": [
       "array([5, 6, 7, 8, 9, 1, 2, 3, 4, 5])"
      ]
     },
     "execution_count": 39,
     "metadata": {},
     "output_type": "execute_result"
    }
   ],
   "source": [
    "arr.flatten()"
   ]
  },
  {
   "cell_type": "code",
   "execution_count": 40,
   "metadata": {
    "colab": {
     "base_uri": "https://localhost:8080/",
     "height": 34
    },
    "colab_type": "code",
    "executionInfo": {
     "elapsed": 311,
     "status": "ok",
     "timestamp": 1588010103545,
     "user": {
      "displayName": "Sanjay Agarwal",
      "photoUrl": "",
      "userId": "01124094544480722853"
     },
     "user_tz": 420
    },
    "id": "Z_hn4EBazhgh",
    "outputId": "55d53685-3a39-44fa-b7c2-b95de3e127ba"
   },
   "outputs": [
    {
     "data": {
      "text/plain": [
       "(10,)"
      ]
     },
     "execution_count": 40,
     "metadata": {},
     "output_type": "execute_result"
    }
   ],
   "source": [
    "arr.flatten().shape"
   ]
  },
  {
   "cell_type": "markdown",
   "metadata": {
    "colab_type": "text",
    "id": "MpVkaFgezhgk"
   },
   "source": [
    "# Create New Array (Specific)\n",
    "\n",
    "Numpy also provides many functions to create arrays."
   ]
  },
  {
   "cell_type": "markdown",
   "metadata": {
    "colab_type": "text",
    "id": "6ealEaK9zhgk"
   },
   "source": [
    "Creates an array of all zeros with a specified shape."
   ]
  },
  {
   "cell_type": "code",
   "execution_count": 41,
   "metadata": {
    "colab": {
     "base_uri": "https://localhost:8080/",
     "height": 34
    },
    "colab_type": "code",
    "executionInfo": {
     "elapsed": 227,
     "status": "ok",
     "timestamp": 1588010105580,
     "user": {
      "displayName": "Sanjay Agarwal",
      "photoUrl": "",
      "userId": "01124094544480722853"
     },
     "user_tz": 420
    },
    "id": "BJV7OAfCzhgk",
    "outputId": "bef91d57-54f5-4fe5-d02a-4f99d0e9367a"
   },
   "outputs": [
    {
     "data": {
      "text/plain": [
       "array([0., 0., 0., 0., 0., 0., 0., 0., 0., 0.])"
      ]
     },
     "execution_count": 41,
     "metadata": {},
     "output_type": "execute_result"
    }
   ],
   "source": [
    "#1-Dimensional\n",
    "np.zeros(10)"
   ]
  },
  {
   "cell_type": "code",
   "execution_count": 42,
   "metadata": {
    "colab": {
     "base_uri": "https://localhost:8080/",
     "height": 52
    },
    "colab_type": "code",
    "executionInfo": {
     "elapsed": 7991,
     "status": "ok",
     "timestamp": 1588010113962,
     "user": {
      "displayName": "Sanjay Agarwal",
      "photoUrl": "",
      "userId": "01124094544480722853"
     },
     "user_tz": 420
    },
    "id": "P195a9Nnzhgm",
    "outputId": "9acfb39e-204c-45c0-f76f-3d77cf3c81dc"
   },
   "outputs": [
    {
     "data": {
      "text/plain": [
       "array([[0, 0],\n",
       "       [0, 0]])"
      ]
     },
     "execution_count": 42,
     "metadata": {},
     "output_type": "execute_result"
    }
   ],
   "source": [
    "#2-Dimensional\n",
    "np.zeros((2,2), int)"
   ]
  },
  {
   "cell_type": "markdown",
   "metadata": {
    "colab_type": "text",
    "id": "9JEB846qzhgq"
   },
   "source": [
    "Creates an array of all ones with a specified shape."
   ]
  },
  {
   "cell_type": "code",
   "execution_count": 43,
   "metadata": {
    "colab": {
     "base_uri": "https://localhost:8080/",
     "height": 34
    },
    "colab_type": "code",
    "executionInfo": {
     "elapsed": 7480,
     "status": "ok",
     "timestamp": 1588010114102,
     "user": {
      "displayName": "Sanjay Agarwal",
      "photoUrl": "",
      "userId": "01124094544480722853"
     },
     "user_tz": 420
    },
    "id": "wkrsWaRezhgq",
    "outputId": "eeeaeaa2-c0fd-4f84-c79b-3f16a8cd3fed"
   },
   "outputs": [
    {
     "data": {
      "text/plain": [
       "array([1, 1, 1, 1, 1, 1, 1, 1, 1, 1])"
      ]
     },
     "execution_count": 43,
     "metadata": {},
     "output_type": "execute_result"
    }
   ],
   "source": [
    "#1-Dimensional\n",
    "np.ones(10, int)"
   ]
  },
  {
   "cell_type": "code",
   "execution_count": 44,
   "metadata": {
    "colab": {
     "base_uri": "https://localhost:8080/",
     "height": 52
    },
    "colab_type": "code",
    "executionInfo": {
     "elapsed": 7302,
     "status": "ok",
     "timestamp": 1588010114103,
     "user": {
      "displayName": "Sanjay Agarwal",
      "photoUrl": "",
      "userId": "01124094544480722853"
     },
     "user_tz": 420
    },
    "id": "bboERONazhgt",
    "outputId": "f88687d6-1a17-449a-e520-5bfe63006680"
   },
   "outputs": [
    {
     "data": {
      "text/plain": [
       "array([[1., 1.],\n",
       "       [1., 1.]])"
      ]
     },
     "execution_count": 44,
     "metadata": {},
     "output_type": "execute_result"
    }
   ],
   "source": [
    "#2-Dimensional\n",
    "np.ones((2,2))"
   ]
  },
  {
   "cell_type": "markdown",
   "metadata": {
    "colab_type": "text",
    "id": "PaUKPlp7zhgv"
   },
   "source": [
    "Creates a constant array (specified number) with a specified shape."
   ]
  },
  {
   "cell_type": "code",
   "execution_count": 45,
   "metadata": {
    "colab": {
     "base_uri": "https://localhost:8080/",
     "height": 34
    },
    "colab_type": "code",
    "executionInfo": {
     "elapsed": 6872,
     "status": "ok",
     "timestamp": 1588010114104,
     "user": {
      "displayName": "Sanjay Agarwal",
      "photoUrl": "",
      "userId": "01124094544480722853"
     },
     "user_tz": 420
    },
    "id": "bkVs7_AXzhgv",
    "outputId": "25e03670-4a9e-4c12-f0c1-839b10a10c53"
   },
   "outputs": [
    {
     "data": {
      "text/plain": [
       "array([7, 7, 7, 7, 7, 7, 7, 7, 7, 7])"
      ]
     },
     "execution_count": 45,
     "metadata": {},
     "output_type": "execute_result"
    }
   ],
   "source": [
    "#1-Dimensional\n",
    "np.full(10,7)"
   ]
  },
  {
   "cell_type": "code",
   "execution_count": 46,
   "metadata": {
    "colab": {
     "base_uri": "https://localhost:8080/",
     "height": 52
    },
    "colab_type": "code",
    "executionInfo": {
     "elapsed": 6700,
     "status": "ok",
     "timestamp": 1588010114104,
     "user": {
      "displayName": "Sanjay Agarwal",
      "photoUrl": "",
      "userId": "01124094544480722853"
     },
     "user_tz": 420
    },
    "id": "-Y2r6xjPzhgx",
    "outputId": "5716166c-9b05-479d-8543-9bffe18cbefe"
   },
   "outputs": [
    {
     "data": {
      "text/plain": [
       "array([[7, 7],\n",
       "       [7, 7]])"
      ]
     },
     "execution_count": 46,
     "metadata": {},
     "output_type": "execute_result"
    }
   ],
   "source": [
    "#2-Dimensional\n",
    "np.full((2, 2), 7)"
   ]
  },
  {
   "cell_type": "markdown",
   "metadata": {
    "colab_type": "text",
    "id": "woov-Sxizhgz"
   },
   "source": [
    "Created an array of a specified shape with random values."
   ]
  },
  {
   "cell_type": "code",
   "execution_count": 47,
   "metadata": {
    "colab": {
     "base_uri": "https://localhost:8080/",
     "height": 52
    },
    "colab_type": "code",
    "executionInfo": {
     "elapsed": 6304,
     "status": "ok",
     "timestamp": 1588010114105,
     "user": {
      "displayName": "Sanjay Agarwal",
      "photoUrl": "",
      "userId": "01124094544480722853"
     },
     "user_tz": 420
    },
    "id": "f5HP49gOzhgz",
    "outputId": "f723bac7-b9e5-4dbf-cc20-23c991a63e67"
   },
   "outputs": [
    {
     "data": {
      "text/plain": [
       "array([0.72630021, 0.86388985, 0.40593828, 0.49350439, 0.22933878,\n",
       "       0.03875007, 0.97197167, 0.15111938, 0.27601477, 0.72103725])"
      ]
     },
     "execution_count": 47,
     "metadata": {},
     "output_type": "execute_result"
    }
   ],
   "source": [
    "#1-Dimensional\n",
    "np.random.random(10)"
   ]
  },
  {
   "cell_type": "code",
   "execution_count": 48,
   "metadata": {
    "colab": {
     "base_uri": "https://localhost:8080/",
     "height": 52
    },
    "colab_type": "code",
    "executionInfo": {
     "elapsed": 302,
     "status": "ok",
     "timestamp": 1588010120062,
     "user": {
      "displayName": "Sanjay Agarwal",
      "photoUrl": "",
      "userId": "01124094544480722853"
     },
     "user_tz": 420
    },
    "id": "9u0PA1STzhg5",
    "outputId": "9c1621b8-909c-4906-83c2-6e1b79a1522c"
   },
   "outputs": [
    {
     "data": {
      "text/plain": [
       "array([[0.05381017, 0.89898305],\n",
       "       [0.02180223, 0.29589705]])"
      ]
     },
     "execution_count": 48,
     "metadata": {},
     "output_type": "execute_result"
    }
   ],
   "source": [
    "#2-Dimensional\n",
    "np.random.random((2,2))"
   ]
  },
  {
   "cell_type": "markdown",
   "metadata": {
    "colab_type": "text",
    "id": "lSvfPtXJzhg7"
   },
   "source": [
    "Create an array of a specified length with evenly spaced values."
   ]
  },
  {
   "cell_type": "code",
   "execution_count": 49,
   "metadata": {
    "colab": {
     "base_uri": "https://localhost:8080/",
     "height": 34
    },
    "colab_type": "code",
    "executionInfo": {
     "elapsed": 235,
     "status": "ok",
     "timestamp": 1588010122207,
     "user": {
      "displayName": "Sanjay Agarwal",
      "photoUrl": "",
      "userId": "01124094544480722853"
     },
     "user_tz": 420
    },
    "id": "vLeJreyTzhg7",
    "outputId": "9ea49831-2227-4013-b913-b1b4e194690e"
   },
   "outputs": [
    {
     "data": {
      "text/plain": [
       "array([0, 1, 2, 3, 4, 5, 6, 7, 8, 9])"
      ]
     },
     "execution_count": 49,
     "metadata": {},
     "output_type": "execute_result"
    }
   ],
   "source": [
    "#1-Dimensional\n",
    "np.arange(10)"
   ]
  },
  {
   "cell_type": "markdown",
   "metadata": {
    "colab_type": "text",
    "id": "a03R-WJrzhg_"
   },
   "source": [
    "Create an array with a specified \"start\", \"stop\", and number of values, evenly spaced."
   ]
  },
  {
   "cell_type": "code",
   "execution_count": 50,
   "metadata": {
    "colab": {
     "base_uri": "https://localhost:8080/",
     "height": 87
    },
    "colab_type": "code",
    "executionInfo": {
     "elapsed": 228,
     "status": "ok",
     "timestamp": 1588010123516,
     "user": {
      "displayName": "Sanjay Agarwal",
      "photoUrl": "",
      "userId": "01124094544480722853"
     },
     "user_tz": 420
    },
    "id": "UTaumA9GzhhA",
    "outputId": "7c8b87f5-ad97-4903-e16c-77e122256ff1"
   },
   "outputs": [
    {
     "data": {
      "text/plain": [
       "array([ 1.        ,  1.47368421,  1.94736842,  2.42105263,  2.89473684,\n",
       "        3.36842105,  3.84210526,  4.31578947,  4.78947368,  5.26315789,\n",
       "        5.73684211,  6.21052632,  6.68421053,  7.15789474,  7.63157895,\n",
       "        8.10526316,  8.57894737,  9.05263158,  9.52631579, 10.        ])"
      ]
     },
     "execution_count": 50,
     "metadata": {},
     "output_type": "execute_result"
    }
   ],
   "source": [
    "#1-Dimensional\n",
    "np.linspace(1, 10, num = 20)"
   ]
  },
  {
   "cell_type": "markdown",
   "metadata": {
    "colab_type": "text",
    "id": "tYLJyc9vzhhF"
   },
   "source": [
    "Creates a 2x2 identity matrix (array).\n",
    "\n",
    "An identity matrix is a square matrix having 1s on the main diagonal, and 0s everywhere else. These are called identity matrices because, when you multiply them with a compatible matrix , you get back the same matrix.\n",
    "http://www.sparknotes.com/math/algebra2/matrices/section3.rhtml"
   ]
  },
  {
   "cell_type": "code",
   "execution_count": 51,
   "metadata": {
    "colab": {
     "base_uri": "https://localhost:8080/",
     "height": 194
    },
    "colab_type": "code",
    "executionInfo": {
     "elapsed": 259,
     "status": "ok",
     "timestamp": 1588010124515,
     "user": {
      "displayName": "Sanjay Agarwal",
      "photoUrl": "",
      "userId": "01124094544480722853"
     },
     "user_tz": 420
    },
    "id": "lBib4jauzhhG",
    "outputId": "5641013f-532c-49e3-c51a-d9b73aebb8e6"
   },
   "outputs": [
    {
     "data": {
      "text/plain": [
       "array([[1., 0., 0., 0., 0., 0., 0., 0., 0., 0.],\n",
       "       [0., 1., 0., 0., 0., 0., 0., 0., 0., 0.],\n",
       "       [0., 0., 1., 0., 0., 0., 0., 0., 0., 0.],\n",
       "       [0., 0., 0., 1., 0., 0., 0., 0., 0., 0.],\n",
       "       [0., 0., 0., 0., 1., 0., 0., 0., 0., 0.],\n",
       "       [0., 0., 0., 0., 0., 1., 0., 0., 0., 0.],\n",
       "       [0., 0., 0., 0., 0., 0., 1., 0., 0., 0.],\n",
       "       [0., 0., 0., 0., 0., 0., 0., 1., 0., 0.],\n",
       "       [0., 0., 0., 0., 0., 0., 0., 0., 1., 0.],\n",
       "       [0., 0., 0., 0., 0., 0., 0., 0., 0., 1.]])"
      ]
     },
     "execution_count": 51,
     "metadata": {},
     "output_type": "execute_result"
    }
   ],
   "source": [
    "#2-Dimensional\n",
    "np.eye(10)"
   ]
  },
  {
   "cell_type": "markdown",
   "metadata": {
    "colab_type": "text",
    "id": "EcIKeF4DzhhI"
   },
   "source": [
    "OR"
   ]
  },
  {
   "cell_type": "code",
   "execution_count": 52,
   "metadata": {
    "colab": {
     "base_uri": "https://localhost:8080/",
     "height": 194
    },
    "colab_type": "code",
    "executionInfo": {
     "elapsed": 244,
     "status": "ok",
     "timestamp": 1588010125022,
     "user": {
      "displayName": "Sanjay Agarwal",
      "photoUrl": "",
      "userId": "01124094544480722853"
     },
     "user_tz": 420
    },
    "id": "CUazLS5izhhJ",
    "outputId": "dd44ae5b-d13c-47de-8026-4d64a30ec15a"
   },
   "outputs": [
    {
     "data": {
      "text/plain": [
       "array([[1., 0., 0., 0., 0., 0., 0., 0., 0., 0.],\n",
       "       [0., 1., 0., 0., 0., 0., 0., 0., 0., 0.],\n",
       "       [0., 0., 1., 0., 0., 0., 0., 0., 0., 0.],\n",
       "       [0., 0., 0., 1., 0., 0., 0., 0., 0., 0.],\n",
       "       [0., 0., 0., 0., 1., 0., 0., 0., 0., 0.],\n",
       "       [0., 0., 0., 0., 0., 1., 0., 0., 0., 0.],\n",
       "       [0., 0., 0., 0., 0., 0., 1., 0., 0., 0.],\n",
       "       [0., 0., 0., 0., 0., 0., 0., 1., 0., 0.],\n",
       "       [0., 0., 0., 0., 0., 0., 0., 0., 1., 0.],\n",
       "       [0., 0., 0., 0., 0., 0., 0., 0., 0., 1.]])"
      ]
     },
     "execution_count": 52,
     "metadata": {},
     "output_type": "execute_result"
    }
   ],
   "source": [
    "#2-Dimensional\n",
    "np.identity(10)"
   ]
  },
  {
   "cell_type": "markdown",
   "metadata": {
    "colab_type": "text",
    "id": "-Q1O-oH2zhhL"
   },
   "source": [
    "# Math Functions using NumPy\n",
    "\n",
    "\"As such, it probably won’t surprise you that you can just use +, -, *, / or % to add, subtract, multiply, divide or calculate the remainder of two (or more) arrays. However, a big part of why NumPy is so handy, is because it also has functions to do this. The equivalent functions of the operations that you have seen just now are, respectively, np.add(), np.subtract(), np.multiply(), np.divide() and np.remainder().\"\n",
    "\n",
    "https://www.datacamp.com/community/tutorials/python-numpy-tutorial"
   ]
  },
  {
   "cell_type": "code",
   "execution_count": 53,
   "metadata": {
    "colab": {
     "base_uri": "https://localhost:8080/",
     "height": 194
    },
    "colab_type": "code",
    "executionInfo": {
     "elapsed": 262,
     "status": "ok",
     "timestamp": 1588010126063,
     "user": {
      "displayName": "Sanjay Agarwal",
      "photoUrl": "",
      "userId": "01124094544480722853"
     },
     "user_tz": 420
    },
    "id": "L36jLg5-zhhM",
    "outputId": "d511874e-9b24-4521-ceb8-157e8a238b22",
    "scrolled": true
   },
   "outputs": [
    {
     "data": {
      "text/plain": [
       "array([[1., 1., 1., 1., 1., 1., 1., 1., 1., 1.],\n",
       "       [1., 1., 1., 1., 1., 1., 1., 1., 1., 1.],\n",
       "       [1., 1., 1., 1., 1., 1., 1., 1., 1., 1.],\n",
       "       [1., 1., 1., 1., 1., 1., 1., 1., 1., 1.],\n",
       "       [1., 1., 1., 1., 1., 1., 1., 1., 1., 1.],\n",
       "       [1., 1., 1., 1., 1., 1., 1., 1., 1., 1.],\n",
       "       [1., 1., 1., 1., 1., 1., 1., 1., 1., 1.],\n",
       "       [1., 1., 1., 1., 1., 1., 1., 1., 1., 1.],\n",
       "       [1., 1., 1., 1., 1., 1., 1., 1., 1., 1.],\n",
       "       [1., 1., 1., 1., 1., 1., 1., 1., 1., 1.]])"
      ]
     },
     "execution_count": 53,
     "metadata": {},
     "output_type": "execute_result"
    }
   ],
   "source": [
    "arr = np.ones((10,10))\n",
    "arr"
   ]
  },
  {
   "cell_type": "code",
   "execution_count": 54,
   "metadata": {
    "colab": {
     "base_uri": "https://localhost:8080/",
     "height": 194
    },
    "colab_type": "code",
    "executionInfo": {
     "elapsed": 203,
     "status": "ok",
     "timestamp": 1588010126524,
     "user": {
      "displayName": "Sanjay Agarwal",
      "photoUrl": "",
      "userId": "01124094544480722853"
     },
     "user_tz": 420
    },
    "id": "aN9LmG1MzhhO",
    "outputId": "c64c9a96-e604-4da3-8e10-eee6515357e2"
   },
   "outputs": [
    {
     "data": {
      "text/plain": [
       "array([[3., 3., 3., 3., 3., 3., 3., 3., 3., 3.],\n",
       "       [3., 3., 3., 3., 3., 3., 3., 3., 3., 3.],\n",
       "       [3., 3., 3., 3., 3., 3., 3., 3., 3., 3.],\n",
       "       [3., 3., 3., 3., 3., 3., 3., 3., 3., 3.],\n",
       "       [3., 3., 3., 3., 3., 3., 3., 3., 3., 3.],\n",
       "       [3., 3., 3., 3., 3., 3., 3., 3., 3., 3.],\n",
       "       [3., 3., 3., 3., 3., 3., 3., 3., 3., 3.],\n",
       "       [3., 3., 3., 3., 3., 3., 3., 3., 3., 3.],\n",
       "       [3., 3., 3., 3., 3., 3., 3., 3., 3., 3.],\n",
       "       [3., 3., 3., 3., 3., 3., 3., 3., 3., 3.]])"
      ]
     },
     "execution_count": 54,
     "metadata": {},
     "output_type": "execute_result"
    }
   ],
   "source": [
    "np.add(arr,2)"
   ]
  },
  {
   "cell_type": "code",
   "execution_count": 55,
   "metadata": {
    "colab": {
     "base_uri": "https://localhost:8080/",
     "height": 194
    },
    "colab_type": "code",
    "executionInfo": {
     "elapsed": 229,
     "status": "ok",
     "timestamp": 1588010127128,
     "user": {
      "displayName": "Sanjay Agarwal",
      "photoUrl": "",
      "userId": "01124094544480722853"
     },
     "user_tz": 420
    },
    "id": "AFFtA_XHzhhT",
    "outputId": "8adc1a15-bf0c-4a2a-d0e8-76476a7c6414"
   },
   "outputs": [
    {
     "data": {
      "text/plain": [
       "array([[3., 3., 3., 3., 3., 3., 3., 3., 3., 3.],\n",
       "       [3., 3., 3., 3., 3., 3., 3., 3., 3., 3.],\n",
       "       [3., 3., 3., 3., 3., 3., 3., 3., 3., 3.],\n",
       "       [3., 3., 3., 3., 3., 3., 3., 3., 3., 3.],\n",
       "       [3., 3., 3., 3., 3., 3., 3., 3., 3., 3.],\n",
       "       [3., 3., 3., 3., 3., 3., 3., 3., 3., 3.],\n",
       "       [3., 3., 3., 3., 3., 3., 3., 3., 3., 3.],\n",
       "       [3., 3., 3., 3., 3., 3., 3., 3., 3., 3.],\n",
       "       [3., 3., 3., 3., 3., 3., 3., 3., 3., 3.],\n",
       "       [3., 3., 3., 3., 3., 3., 3., 3., 3., 3.]])"
      ]
     },
     "execution_count": 55,
     "metadata": {},
     "output_type": "execute_result"
    }
   ],
   "source": [
    "#OR\n",
    "arr + 2"
   ]
  },
  {
   "cell_type": "code",
   "execution_count": 56,
   "metadata": {
    "colab": {
     "base_uri": "https://localhost:8080/",
     "height": 194
    },
    "colab_type": "code",
    "executionInfo": {
     "elapsed": 264,
     "status": "ok",
     "timestamp": 1588010127638,
     "user": {
      "displayName": "Sanjay Agarwal",
      "photoUrl": "",
      "userId": "01124094544480722853"
     },
     "user_tz": 420
    },
    "id": "YCYbmn3nzhhV",
    "outputId": "9c76bb02-7cb1-4b05-c190-6a347c5a30ab"
   },
   "outputs": [
    {
     "data": {
      "text/plain": [
       "array([[3.14, 3.14, 3.14, 3.14, 3.14, 3.14, 3.14, 3.14, 3.14, 3.14],\n",
       "       [3.14, 3.14, 3.14, 3.14, 3.14, 3.14, 3.14, 3.14, 3.14, 3.14],\n",
       "       [3.14, 3.14, 3.14, 3.14, 3.14, 3.14, 3.14, 3.14, 3.14, 3.14],\n",
       "       [3.14, 3.14, 3.14, 3.14, 3.14, 3.14, 3.14, 3.14, 3.14, 3.14],\n",
       "       [3.14, 3.14, 3.14, 3.14, 3.14, 3.14, 3.14, 3.14, 3.14, 3.14],\n",
       "       [3.14, 3.14, 3.14, 3.14, 3.14, 3.14, 3.14, 3.14, 3.14, 3.14],\n",
       "       [3.14, 3.14, 3.14, 3.14, 3.14, 3.14, 3.14, 3.14, 3.14, 3.14],\n",
       "       [3.14, 3.14, 3.14, 3.14, 3.14, 3.14, 3.14, 3.14, 3.14, 3.14],\n",
       "       [3.14, 3.14, 3.14, 3.14, 3.14, 3.14, 3.14, 3.14, 3.14, 3.14],\n",
       "       [3.14, 3.14, 3.14, 3.14, 3.14, 3.14, 3.14, 3.14, 3.14, 3.14]])"
      ]
     },
     "execution_count": 56,
     "metadata": {},
     "output_type": "execute_result"
    }
   ],
   "source": [
    "np.multiply(arr,3.14)"
   ]
  },
  {
   "cell_type": "code",
   "execution_count": 57,
   "metadata": {
    "colab": {
     "base_uri": "https://localhost:8080/",
     "height": 194
    },
    "colab_type": "code",
    "executionInfo": {
     "elapsed": 194,
     "status": "ok",
     "timestamp": 1588010128131,
     "user": {
      "displayName": "Sanjay Agarwal",
      "photoUrl": "",
      "userId": "01124094544480722853"
     },
     "user_tz": 420
    },
    "id": "1Y3xxp03zhhX",
    "outputId": "88e2c0dc-abc8-4e3c-aba9-8ba057565083"
   },
   "outputs": [
    {
     "data": {
      "text/plain": [
       "array([[2., 2., 2., 2., 2., 2., 2., 2., 2., 2.],\n",
       "       [2., 2., 2., 2., 2., 2., 2., 2., 2., 2.],\n",
       "       [2., 2., 2., 2., 2., 2., 2., 2., 2., 2.],\n",
       "       [2., 2., 2., 2., 2., 2., 2., 2., 2., 2.],\n",
       "       [2., 2., 2., 2., 2., 2., 2., 2., 2., 2.],\n",
       "       [2., 2., 2., 2., 2., 2., 2., 2., 2., 2.],\n",
       "       [2., 2., 2., 2., 2., 2., 2., 2., 2., 2.],\n",
       "       [2., 2., 2., 2., 2., 2., 2., 2., 2., 2.],\n",
       "       [2., 2., 2., 2., 2., 2., 2., 2., 2., 2.],\n",
       "       [2., 2., 2., 2., 2., 2., 2., 2., 2., 2.]])"
      ]
     },
     "execution_count": 57,
     "metadata": {},
     "output_type": "execute_result"
    }
   ],
   "source": [
    "#OR\n",
    "arr*2"
   ]
  },
  {
   "cell_type": "code",
   "execution_count": 58,
   "metadata": {
    "colab": {
     "base_uri": "https://localhost:8080/",
     "height": 194
    },
    "colab_type": "code",
    "executionInfo": {
     "elapsed": 268,
     "status": "ok",
     "timestamp": 1588010128808,
     "user": {
      "displayName": "Sanjay Agarwal",
      "photoUrl": "",
      "userId": "01124094544480722853"
     },
     "user_tz": 420
    },
    "id": "9TvvHjw6zhhZ",
    "outputId": "58500b03-2bf7-480f-af29-c8c292eab2e7"
   },
   "outputs": [
    {
     "data": {
      "text/plain": [
       "array([[0., 0., 0., 0., 0., 0., 0., 0., 0., 0.],\n",
       "       [0., 0., 0., 0., 0., 0., 0., 0., 0., 0.],\n",
       "       [0., 0., 0., 0., 0., 0., 0., 0., 0., 0.],\n",
       "       [0., 0., 0., 0., 0., 0., 0., 0., 0., 0.],\n",
       "       [0., 0., 0., 0., 0., 0., 0., 0., 0., 0.],\n",
       "       [0., 0., 0., 0., 0., 0., 0., 0., 0., 0.],\n",
       "       [0., 0., 0., 0., 0., 0., 0., 0., 0., 0.],\n",
       "       [0., 0., 0., 0., 0., 0., 0., 0., 0., 0.],\n",
       "       [0., 0., 0., 0., 0., 0., 0., 0., 0., 0.],\n",
       "       [0., 0., 0., 0., 0., 0., 0., 0., 0., 0.]])"
      ]
     },
     "execution_count": 58,
     "metadata": {},
     "output_type": "execute_result"
    }
   ],
   "source": [
    "np.subtract(arr,1)"
   ]
  },
  {
   "cell_type": "code",
   "execution_count": 59,
   "metadata": {
    "colab": {
     "base_uri": "https://localhost:8080/",
     "height": 194
    },
    "colab_type": "code",
    "executionInfo": {
     "elapsed": 253,
     "status": "ok",
     "timestamp": 1588010129272,
     "user": {
      "displayName": "Sanjay Agarwal",
      "photoUrl": "",
      "userId": "01124094544480722853"
     },
     "user_tz": 420
    },
    "id": "Ml8acGG2zhha",
    "outputId": "7fb281b6-21e9-4aef-bf63-d2316dfe8b5d"
   },
   "outputs": [
    {
     "data": {
      "text/plain": [
       "array([[0., 0., 0., 0., 0., 0., 0., 0., 0., 0.],\n",
       "       [0., 0., 0., 0., 0., 0., 0., 0., 0., 0.],\n",
       "       [0., 0., 0., 0., 0., 0., 0., 0., 0., 0.],\n",
       "       [0., 0., 0., 0., 0., 0., 0., 0., 0., 0.],\n",
       "       [0., 0., 0., 0., 0., 0., 0., 0., 0., 0.],\n",
       "       [0., 0., 0., 0., 0., 0., 0., 0., 0., 0.],\n",
       "       [0., 0., 0., 0., 0., 0., 0., 0., 0., 0.],\n",
       "       [0., 0., 0., 0., 0., 0., 0., 0., 0., 0.],\n",
       "       [0., 0., 0., 0., 0., 0., 0., 0., 0., 0.],\n",
       "       [0., 0., 0., 0., 0., 0., 0., 0., 0., 0.]])"
      ]
     },
     "execution_count": 59,
     "metadata": {},
     "output_type": "execute_result"
    }
   ],
   "source": [
    "#OR\n",
    "arr -1 "
   ]
  },
  {
   "cell_type": "code",
   "execution_count": 60,
   "metadata": {
    "colab": {
     "base_uri": "https://localhost:8080/",
     "height": 194
    },
    "colab_type": "code",
    "executionInfo": {
     "elapsed": 441,
     "status": "ok",
     "timestamp": 1588010129990,
     "user": {
      "displayName": "Sanjay Agarwal",
      "photoUrl": "",
      "userId": "01124094544480722853"
     },
     "user_tz": 420
    },
    "id": "9xQzjnnezhhc",
    "outputId": "4da5406b-a425-4a76-8cda-98395dc6522f"
   },
   "outputs": [
    {
     "data": {
      "text/plain": [
       "array([[0.5, 0.5, 0.5, 0.5, 0.5, 0.5, 0.5, 0.5, 0.5, 0.5],\n",
       "       [0.5, 0.5, 0.5, 0.5, 0.5, 0.5, 0.5, 0.5, 0.5, 0.5],\n",
       "       [0.5, 0.5, 0.5, 0.5, 0.5, 0.5, 0.5, 0.5, 0.5, 0.5],\n",
       "       [0.5, 0.5, 0.5, 0.5, 0.5, 0.5, 0.5, 0.5, 0.5, 0.5],\n",
       "       [0.5, 0.5, 0.5, 0.5, 0.5, 0.5, 0.5, 0.5, 0.5, 0.5],\n",
       "       [0.5, 0.5, 0.5, 0.5, 0.5, 0.5, 0.5, 0.5, 0.5, 0.5],\n",
       "       [0.5, 0.5, 0.5, 0.5, 0.5, 0.5, 0.5, 0.5, 0.5, 0.5],\n",
       "       [0.5, 0.5, 0.5, 0.5, 0.5, 0.5, 0.5, 0.5, 0.5, 0.5],\n",
       "       [0.5, 0.5, 0.5, 0.5, 0.5, 0.5, 0.5, 0.5, 0.5, 0.5],\n",
       "       [0.5, 0.5, 0.5, 0.5, 0.5, 0.5, 0.5, 0.5, 0.5, 0.5]])"
      ]
     },
     "execution_count": 60,
     "metadata": {},
     "output_type": "execute_result"
    }
   ],
   "source": [
    "np.divide(arr,2)"
   ]
  },
  {
   "cell_type": "code",
   "execution_count": 61,
   "metadata": {
    "colab": {
     "base_uri": "https://localhost:8080/",
     "height": 194
    },
    "colab_type": "code",
    "executionInfo": {
     "elapsed": 171,
     "status": "ok",
     "timestamp": 1588010130117,
     "user": {
      "displayName": "Sanjay Agarwal",
      "photoUrl": "",
      "userId": "01124094544480722853"
     },
     "user_tz": 420
    },
    "id": "a3jk9aYizhhd",
    "outputId": "7b531388-e1fe-47c2-8549-326ae27cbfb0"
   },
   "outputs": [
    {
     "data": {
      "text/plain": [
       "array([[0.5, 0.5, 0.5, 0.5, 0.5, 0.5, 0.5, 0.5, 0.5, 0.5],\n",
       "       [0.5, 0.5, 0.5, 0.5, 0.5, 0.5, 0.5, 0.5, 0.5, 0.5],\n",
       "       [0.5, 0.5, 0.5, 0.5, 0.5, 0.5, 0.5, 0.5, 0.5, 0.5],\n",
       "       [0.5, 0.5, 0.5, 0.5, 0.5, 0.5, 0.5, 0.5, 0.5, 0.5],\n",
       "       [0.5, 0.5, 0.5, 0.5, 0.5, 0.5, 0.5, 0.5, 0.5, 0.5],\n",
       "       [0.5, 0.5, 0.5, 0.5, 0.5, 0.5, 0.5, 0.5, 0.5, 0.5],\n",
       "       [0.5, 0.5, 0.5, 0.5, 0.5, 0.5, 0.5, 0.5, 0.5, 0.5],\n",
       "       [0.5, 0.5, 0.5, 0.5, 0.5, 0.5, 0.5, 0.5, 0.5, 0.5],\n",
       "       [0.5, 0.5, 0.5, 0.5, 0.5, 0.5, 0.5, 0.5, 0.5, 0.5],\n",
       "       [0.5, 0.5, 0.5, 0.5, 0.5, 0.5, 0.5, 0.5, 0.5, 0.5]])"
      ]
     },
     "execution_count": 61,
     "metadata": {},
     "output_type": "execute_result"
    }
   ],
   "source": [
    "#OR\n",
    "arr/2"
   ]
  },
  {
   "cell_type": "code",
   "execution_count": 62,
   "metadata": {
    "colab": {
     "base_uri": "https://localhost:8080/",
     "height": 194
    },
    "colab_type": "code",
    "executionInfo": {
     "elapsed": 265,
     "status": "ok",
     "timestamp": 1588010130870,
     "user": {
      "displayName": "Sanjay Agarwal",
      "photoUrl": "",
      "userId": "01124094544480722853"
     },
     "user_tz": 420
    },
    "id": "0GxOXE6Azhhf",
    "outputId": "1fc345f8-b038-4b62-9008-3dd60dd623da"
   },
   "outputs": [
    {
     "data": {
      "text/plain": [
       "array([[0., 0., 0., 0., 0., 0., 0., 0., 0., 0.],\n",
       "       [0., 0., 0., 0., 0., 0., 0., 0., 0., 0.],\n",
       "       [0., 0., 0., 0., 0., 0., 0., 0., 0., 0.],\n",
       "       [0., 0., 0., 0., 0., 0., 0., 0., 0., 0.],\n",
       "       [0., 0., 0., 0., 0., 0., 0., 0., 0., 0.],\n",
       "       [0., 0., 0., 0., 0., 0., 0., 0., 0., 0.],\n",
       "       [0., 0., 0., 0., 0., 0., 0., 0., 0., 0.],\n",
       "       [0., 0., 0., 0., 0., 0., 0., 0., 0., 0.],\n",
       "       [0., 0., 0., 0., 0., 0., 0., 0., 0., 0.],\n",
       "       [0., 0., 0., 0., 0., 0., 0., 0., 0., 0.]])"
      ]
     },
     "execution_count": 62,
     "metadata": {},
     "output_type": "execute_result"
    }
   ],
   "source": [
    "np.remainder(arr,1)"
   ]
  },
  {
   "cell_type": "code",
   "execution_count": 63,
   "metadata": {
    "colab": {
     "base_uri": "https://localhost:8080/",
     "height": 194
    },
    "colab_type": "code",
    "executionInfo": {
     "elapsed": 202,
     "status": "ok",
     "timestamp": 1588010131272,
     "user": {
      "displayName": "Sanjay Agarwal",
      "photoUrl": "",
      "userId": "01124094544480722853"
     },
     "user_tz": 420
    },
    "id": "3pktfdUDzhhh",
    "outputId": "3d45f5cb-7f93-4adc-9115-63bf64a502e7"
   },
   "outputs": [
    {
     "data": {
      "text/plain": [
       "array([[0., 0., 0., 0., 0., 0., 0., 0., 0., 0.],\n",
       "       [0., 0., 0., 0., 0., 0., 0., 0., 0., 0.],\n",
       "       [0., 0., 0., 0., 0., 0., 0., 0., 0., 0.],\n",
       "       [0., 0., 0., 0., 0., 0., 0., 0., 0., 0.],\n",
       "       [0., 0., 0., 0., 0., 0., 0., 0., 0., 0.],\n",
       "       [0., 0., 0., 0., 0., 0., 0., 0., 0., 0.],\n",
       "       [0., 0., 0., 0., 0., 0., 0., 0., 0., 0.],\n",
       "       [0., 0., 0., 0., 0., 0., 0., 0., 0., 0.],\n",
       "       [0., 0., 0., 0., 0., 0., 0., 0., 0., 0.],\n",
       "       [0., 0., 0., 0., 0., 0., 0., 0., 0., 0.]])"
      ]
     },
     "execution_count": 63,
     "metadata": {},
     "output_type": "execute_result"
    }
   ],
   "source": [
    "#OR\n",
    "arr % 1"
   ]
  },
  {
   "cell_type": "code",
   "execution_count": 64,
   "metadata": {
    "colab": {
     "base_uri": "https://localhost:8080/",
     "height": 34
    },
    "colab_type": "code",
    "executionInfo": {
     "elapsed": 366,
     "status": "ok",
     "timestamp": 1588010131746,
     "user": {
      "displayName": "Sanjay Agarwal",
      "photoUrl": "",
      "userId": "01124094544480722853"
     },
     "user_tz": 420
    },
    "id": "VZBfdNZNzhhj",
    "outputId": "a1c91964-38d4-4136-be6b-360fb8e59cad"
   },
   "outputs": [
    {
     "data": {
      "text/plain": [
       "100.0"
      ]
     },
     "execution_count": 64,
     "metadata": {},
     "output_type": "execute_result"
    }
   ],
   "source": [
    "arr.sum()"
   ]
  },
  {
   "cell_type": "code",
   "execution_count": 65,
   "metadata": {
    "colab": {
     "base_uri": "https://localhost:8080/",
     "height": 34
    },
    "colab_type": "code",
    "executionInfo": {
     "elapsed": 140,
     "status": "ok",
     "timestamp": 1588010131838,
     "user": {
      "displayName": "Sanjay Agarwal",
      "photoUrl": "",
      "userId": "01124094544480722853"
     },
     "user_tz": 420
    },
    "id": "jbuN1AuCzhhk",
    "outputId": "e04bd902-1123-4ef4-9581-183271152871"
   },
   "outputs": [
    {
     "data": {
      "text/plain": [
       "1.0"
      ]
     },
     "execution_count": 65,
     "metadata": {},
     "output_type": "execute_result"
    }
   ],
   "source": [
    "arr.min()"
   ]
  },
  {
   "cell_type": "code",
   "execution_count": 66,
   "metadata": {
    "colab": {
     "base_uri": "https://localhost:8080/",
     "height": 34
    },
    "colab_type": "code",
    "executionInfo": {
     "elapsed": 304,
     "status": "ok",
     "timestamp": 1588010132266,
     "user": {
      "displayName": "Sanjay Agarwal",
      "photoUrl": "",
      "userId": "01124094544480722853"
     },
     "user_tz": 420
    },
    "id": "YGVZO_fWzhhn",
    "outputId": "c7f9d568-89a5-4c38-e693-c3d43481d482"
   },
   "outputs": [
    {
     "data": {
      "text/plain": [
       "1.0"
      ]
     },
     "execution_count": 66,
     "metadata": {},
     "output_type": "execute_result"
    }
   ],
   "source": [
    "arr.max()"
   ]
  },
  {
   "cell_type": "code",
   "execution_count": 67,
   "metadata": {
    "colab": {
     "base_uri": "https://localhost:8080/",
     "height": 34
    },
    "colab_type": "code",
    "executionInfo": {
     "elapsed": 331,
     "status": "ok",
     "timestamp": 1588010132539,
     "user": {
      "displayName": "Sanjay Agarwal",
      "photoUrl": "",
      "userId": "01124094544480722853"
     },
     "user_tz": 420
    },
    "id": "i8T_CQdGzhhp",
    "outputId": "ba404473-9632-4e0e-8086-2c6fbf06d0a0"
   },
   "outputs": [
    {
     "data": {
      "text/plain": [
       "1.0"
      ]
     },
     "execution_count": 67,
     "metadata": {},
     "output_type": "execute_result"
    }
   ],
   "source": [
    "arr.mean()"
   ]
  },
  {
   "cell_type": "markdown",
   "metadata": {
    "colab_type": "text",
    "collapsed": true,
    "id": "qvxNCjFBzhh-"
   },
   "source": [
    "# Numpy with Bay Area housing data set"
   ]
  },
  {
   "cell_type": "code",
   "execution_count": 68,
   "metadata": {
    "colab": {},
    "colab_type": "code",
    "id": "k8K6jkjuzhh-"
   },
   "outputs": [],
   "source": [
    "def read_file_housing(filename):\n",
    "    file_open = open(filename,\"r\")\n",
    "    fixed_file = open(\"fixed-housing-data.csv\",\"w\")\n",
    "    line_count = 0\n",
    "    for line in iter(file_open):\n",
    "        line_count += 1\n",
    "        if \"HomeID\" in line:\n",
    "            continue\n",
    "        line_no_newline = line.rstrip()\n",
    "        line1 = line_no_newline.replace(\"84085\",\"94085\") #Ex9\n",
    "        line2 = line1.replace(\"84087\",\"94087\") #Ex9\n",
    "        line3 = line2.replace(\"85014\",\"95014\") #Ex9\n",
    "        line4 = line3.replace(\"85051\",\"95051\") #Ex9\n",
    "        line5 = line4.replace(\"l\",\"1\") #Ex11 -- Car_Garage\n",
    "        line_split = line5.split(\",\")\n",
    "        if (int(line_split[5]) < 100): #Ex10 -- School_API\n",
    "            line_split[5] = int(line_split[5]) * 10\n",
    "        else:\n",
    "            line_split[5] = int(line_split[5])\n",
    "        line_split = [str(x) for x in line_split]\n",
    "        myString = \",\".join(line_split) + \"\\n\"\n",
    "        fixed_file.write(myString)\n",
    "    file_open.close()\n",
    "    fixed_file.close()\n",
    "    return"
   ]
  },
  {
   "cell_type": "code",
   "execution_count": 71,
   "metadata": {
    "colab": {},
    "colab_type": "code",
    "id": "BDIMo9AGzhh_"
   },
   "outputs": [],
   "source": [
    "read_file_housing(\"bayarea_home_prices.csv\")"
   ]
  },
  {
   "cell_type": "code",
   "execution_count": 72,
   "metadata": {
    "colab": {
     "base_uri": "https://localhost:8080/",
     "height": 34
    },
    "colab_type": "code",
    "executionInfo": {
     "elapsed": 367,
     "status": "ok",
     "timestamp": 1588010149968,
     "user": {
      "displayName": "Sanjay Agarwal",
      "photoUrl": "",
      "userId": "01124094544480722853"
     },
     "user_tz": 420
    },
    "id": "PiH61cZPzhiC",
    "outputId": "13836ede-7c2a-44d1-e80f-2b2a92d4cd4f"
   },
   "outputs": [
    {
     "data": {
      "text/plain": [
       "'\\n0 = HomeID\\n1 = HomeAge\\n2 = HomeSqft\\n3 = LotSize\\n4 = BedRooms\\n5 = HighSchoolAPI\\n6 = ProxFwy\\n7 = CarGarage\\n8 = ZipCode\\n9 = HomePriceK\\n'"
      ]
     },
     "execution_count": 72,
     "metadata": {},
     "output_type": "execute_result"
    }
   ],
   "source": [
    "\"\"\"\n",
    "0 = HomeID\n",
    "1 = HomeAge\n",
    "2 = HomeSqft\n",
    "3 = LotSize\n",
    "4 = BedRooms\n",
    "5 = HighSchoolAPI\n",
    "6 = ProxFwy\n",
    "7 = CarGarage\n",
    "8 = ZipCode\n",
    "9 = HomePriceK\n",
    "\"\"\""
   ]
  },
  {
   "cell_type": "code",
   "execution_count": 73,
   "metadata": {
    "colab": {},
    "colab_type": "code",
    "id": "_TrVQZ8WzhiE"
   },
   "outputs": [],
   "source": [
    "housing = np.loadtxt(\"fixed-housing-data.csv\",\n",
    "                          dtype=int,\n",
    "                          delimiter=\",\")"
   ]
  },
  {
   "cell_type": "code",
   "execution_count": 74,
   "metadata": {
    "colab": {
     "base_uri": "https://localhost:8080/",
     "height": 52
    },
    "colab_type": "code",
    "executionInfo": {
     "elapsed": 354,
     "status": "ok",
     "timestamp": 1587977270726,
     "user": {
      "displayName": "Sanjay Agarwal",
      "photoUrl": "",
      "userId": "01124094544480722853"
     },
     "user_tz": 420
    },
    "id": "1CkGTXMlzhiG",
    "outputId": "35c7a31b-8737-44b5-b678-e0dbe157e4fd"
   },
   "outputs": [
    {
     "name": "stdout",
     "output_type": "stream",
     "text": [
      "[[    1    24  1757  6056     2   899     3     3 94085   894]\n",
      " [    2    10  1563  6085     2   959     4     3 94085   861]]\n"
     ]
    }
   ],
   "source": [
    "print(housing[0:2])"
   ]
  },
  {
   "cell_type": "code",
   "execution_count": 75,
   "metadata": {
    "colab": {
     "base_uri": "https://localhost:8080/",
     "height": 34
    },
    "colab_type": "code",
    "executionInfo": {
     "elapsed": 424,
     "status": "ok",
     "timestamp": 1587977274101,
     "user": {
      "displayName": "Sanjay Agarwal",
      "photoUrl": "",
      "userId": "01124094544480722853"
     },
     "user_tz": 420
    },
    "id": "5fYOXHTHzhiH",
    "outputId": "c5006390-f552-4bb3-83cd-7d6c87cfbd10"
   },
   "outputs": [
    {
     "name": "stdout",
     "output_type": "stream",
     "text": [
      "(100, 10)\n"
     ]
    }
   ],
   "source": [
    "print(housing.shape)"
   ]
  },
  {
   "cell_type": "code",
   "execution_count": 76,
   "metadata": {
    "colab": {
     "base_uri": "https://localhost:8080/",
     "height": 158
    },
    "colab_type": "code",
    "executionInfo": {
     "elapsed": 411,
     "status": "ok",
     "timestamp": 1587977275922,
     "user": {
      "displayName": "Sanjay Agarwal",
      "photoUrl": "",
      "userId": "01124094544480722853"
     },
     "user_tz": 420
    },
    "id": "s4RhBMFDzhiJ",
    "outputId": "4e59387c-8f82-4cc1-e4e8-8553d08879a6"
   },
   "outputs": [
    {
     "name": "stdout",
     "output_type": "stream",
     "text": [
      "[ 894  861  831  809  890  867  843  820  874  885  903  912  933  865\n",
      "  918  950  882  896  942  859  904  912  916  972  908  934  914  949\n",
      "  919  953  991 1049 1042  994 1030 1019 1044 1038 1024  976 1115 1128\n",
      " 1071 1059 1000 1185 1015 1114 1138 1068 1068 1097 1074 1114 1075 1130\n",
      " 1116 1103 1080 1150 1177 1149 1163 1132 1138 1199 1179 1173 1128 1165\n",
      " 1233 1180 1240 1242 1184 1173 1194 1181 1190 1182 1221 1288 1275 1300\n",
      " 1272 1294 1219 1282 1256 1205 1252 1294 1269 1335 1267 1307 1336 1284\n",
      " 1269 1250]\n"
     ]
    }
   ],
   "source": [
    "# home prices\n",
    "print(housing[:,9])"
   ]
  },
  {
   "cell_type": "code",
   "execution_count": 77,
   "metadata": {
    "colab": {
     "base_uri": "https://localhost:8080/",
     "height": 194
    },
    "colab_type": "code",
    "executionInfo": {
     "elapsed": 320,
     "status": "ok",
     "timestamp": 1587977278762,
     "user": {
      "displayName": "Sanjay Agarwal",
      "photoUrl": "",
      "userId": "01124094544480722853"
     },
     "user_tz": 420
    },
    "id": "nB5kOdazzhiM",
    "outputId": "363cf01b-0b5e-477e-85ab-d2065fd5d8ec"
   },
   "outputs": [
    {
     "name": "stdout",
     "output_type": "stream",
     "text": [
      "[ 983.4  947.1  914.1  889.9  979.   953.7  927.3  902.   961.4  973.5\n",
      "  993.3 1003.2 1026.3  951.5 1009.8 1045.   970.2  985.6 1036.2  944.9\n",
      "  994.4 1003.2 1007.6 1069.2  998.8 1027.4 1005.4 1043.9 1010.9 1048.3\n",
      " 1090.1 1153.9 1146.2 1093.4 1133.  1120.9 1148.4 1141.8 1126.4 1073.6\n",
      " 1226.5 1240.8 1178.1 1164.9 1100.  1303.5 1116.5 1225.4 1251.8 1174.8\n",
      " 1174.8 1206.7 1181.4 1225.4 1182.5 1243.  1227.6 1213.3 1188.  1265.\n",
      " 1294.7 1263.9 1279.3 1245.2 1251.8 1318.9 1296.9 1290.3 1240.8 1281.5\n",
      " 1356.3 1298.  1364.  1366.2 1302.4 1290.3 1313.4 1299.1 1309.  1300.2\n",
      " 1343.1 1416.8 1402.5 1430.  1399.2 1423.4 1340.9 1410.2 1381.6 1325.5\n",
      " 1377.2 1423.4 1395.9 1468.5 1393.7 1437.7 1469.6 1412.4 1395.9 1375. ]\n"
     ]
    }
   ],
   "source": [
    "inflation = 0.1\n",
    "print(housing[:,9] *(1+inflation))"
   ]
  },
  {
   "cell_type": "code",
   "execution_count": 78,
   "metadata": {
    "colab": {
     "base_uri": "https://localhost:8080/",
     "height": 52
    },
    "colab_type": "code",
    "executionInfo": {
     "elapsed": 270,
     "status": "ok",
     "timestamp": 1587977280563,
     "user": {
      "displayName": "Sanjay Agarwal",
      "photoUrl": "",
      "userId": "01124094544480722853"
     },
     "user_tz": 420
    },
    "id": "kIPAuLKAzhiN",
    "outputId": "96f4cc51-f97f-4cc9-b496-3b70fa9ac2da"
   },
   "outputs": [
    {
     "name": "stdout",
     "output_type": "stream",
     "text": [
      "[   5050    1720  161528  784050     271   90443     310     152 9455925\n",
      "  108099]\n"
     ]
    }
   ],
   "source": [
    "print(housing.sum(axis=0)) # sum by columns"
   ]
  },
  {
   "cell_type": "code",
   "execution_count": 79,
   "metadata": {
    "colab": {
     "base_uri": "https://localhost:8080/",
     "height": 194
    },
    "colab_type": "code",
    "executionInfo": {
     "elapsed": 268,
     "status": "ok",
     "timestamp": 1587977286888,
     "user": {
      "displayName": "Sanjay Agarwal",
      "photoUrl": "",
      "userId": "01124094544480722853"
     },
     "user_tz": 420
    },
    "id": "GgToHIWHzhiO",
    "outputId": "e8cd22a0-e417-4a37-8bd4-30fa102b19eb"
   },
   "outputs": [
    {
     "name": "stdout",
     "output_type": "stream",
     "text": [
      "[103724 103574 103240 103224 103896 103638 104044 103869 103609 104170\n",
      " 104094 103592 103978 104376 104062 105595 104218 104335 104940 104012\n",
      " 104075 104583 104684 105583 104958 104446 104876 105593 104503 106006\n",
      " 105990 106058 106256 105929 106298 105629 106320 106196 106023 106261\n",
      " 105369 105445 106369 105987 105936 105549 106606 105320 105358 106782\n",
      " 106365 106479 106225 105461 106713 105795 106138 105594 106827 105847\n",
      " 105796 106180 105869 105800 106169 107018 106669 106315 106430 106551\n",
      " 107465 106524 107181 107608 106533 107139 107961 106805 106554 106595\n",
      " 107843 107864 108077 107983 108182 108227 107735 107879 108478 108106\n",
      " 107902 108487 107956 108654 108172 108678 108406 108111 108617 108407]\n"
     ]
    }
   ],
   "source": [
    "print(housing.sum(axis=1)) # sum by rows"
   ]
  },
  {
   "cell_type": "code",
   "execution_count": 80,
   "metadata": {
    "colab": {},
    "colab_type": "code",
    "id": "y9HoXxoDzhiP"
   },
   "outputs": [],
   "source": [
    "homes_94085 = (housing[:,8] == 94085)"
   ]
  },
  {
   "cell_type": "code",
   "execution_count": 81,
   "metadata": {
    "colab": {
     "base_uri": "https://localhost:8080/",
     "height": 176
    },
    "colab_type": "code",
    "executionInfo": {
     "elapsed": 175,
     "status": "ok",
     "timestamp": 1587977288373,
     "user": {
      "displayName": "Sanjay Agarwal",
      "photoUrl": "",
      "userId": "01124094544480722853"
     },
     "user_tz": 420
    },
    "id": "3N3A4ZjzzhiR",
    "outputId": "683c2d75-4ce7-401c-b6be-3f0c842c8bd9"
   },
   "outputs": [
    {
     "name": "stdout",
     "output_type": "stream",
     "text": [
      "[ True  True  True  True  True  True  True  True  True  True  True  True\n",
      "  True  True  True False  True  True False  True  True  True  True False\n",
      "  True  True  True False  True False False False False False False False\n",
      " False False False False False False False False False False False False\n",
      " False False False False False False False False False False False False\n",
      " False False False False False False False False False False False False\n",
      " False False False False False False False False False False False False\n",
      " False False False False False False False False False False False False\n",
      " False False False False]\n"
     ]
    }
   ],
   "source": [
    "print(homes_94085)"
   ]
  },
  {
   "cell_type": "code",
   "execution_count": 82,
   "metadata": {
    "colab": {
     "base_uri": "https://localhost:8080/",
     "height": 461
    },
    "colab_type": "code",
    "executionInfo": {
     "elapsed": 189,
     "status": "ok",
     "timestamp": 1587977288925,
     "user": {
      "displayName": "Sanjay Agarwal",
      "photoUrl": "",
      "userId": "01124094544480722853"
     },
     "user_tz": 420
    },
    "id": "qWpO2VlpzhiT",
    "outputId": "b100afd0-c590-4d6b-ab52-153d7cb0c91c"
   },
   "outputs": [
    {
     "name": "stdout",
     "output_type": "stream",
     "text": [
      "[[    1    24  1757  6056     2   899     3     3 94085   894]\n",
      " [    2    10  1563  6085     2   959     4     3 94085   861]\n",
      " [    3    14  1344  6089     2   865     4     3 94085   831]\n",
      " [    4    14  1215  6129     3   959     4     2 94085   809]\n",
      " [    5    24  1866  6141     3   877     4     1 94085   890]\n",
      " [    6    18  1589  6148     2   920     3     0 94085   867]\n",
      " [    7    13  1947  6183     3   959     3     1 94085   843]\n",
      " [    8    19  1839  6186     3   905     4     0 94085   820]\n",
      " [    9    17  1501  6233     2   884     3     1 94085   874]\n",
      " [   10    24  1933  6276     2   950     4     1 94085   885]\n",
      " [   11    12  1798  6346     3   931     3     2 94085   903]\n",
      " [   12    22  1221  6430     3   904     2     1 94085   912]\n",
      " [   13    15  1541  6514     2   872     2     1 94085   933]\n",
      " [   14    25  1974  6547     2   857     4     3 94085   865]\n",
      " [   15    10  1510  6633     2   884     3     2 94085   918]\n",
      " [   17    23  1464  6773     3   965     4     2 94085   882]\n",
      " [   18    16  1572  6809     2   935     2     0 94085   896]\n",
      " [   20    13  1358  6819     2   851     3     2 94085   859]\n",
      " [   21    17  1246  6870     3   922     4     3 94085   904]\n",
      " [   22    10  1752  6892     3   904     3     0 94085   912]\n",
      " [   23    15  1828  6956     3   851     4     3 94085   916]\n",
      " [   25    21  1991  7022     2   900     3     1 94085   908]\n",
      " [   26    12  1500  7025     2   856     4     2 94085   934]\n",
      " [   27    13  1836  7027     2   966     3     3 94085   914]\n",
      " [   29    17  1446  7098     2   900     4     3 94085   919]]\n"
     ]
    }
   ],
   "source": [
    "data_94085 = housing[homes_94085,][:,:]\n",
    "print(data_94085)"
   ]
  },
  {
   "cell_type": "code",
   "execution_count": 83,
   "metadata": {
    "colab": {
     "base_uri": "https://localhost:8080/",
     "height": 34
    },
    "colab_type": "code",
    "executionInfo": {
     "elapsed": 278,
     "status": "ok",
     "timestamp": 1587977289637,
     "user": {
      "displayName": "Sanjay Agarwal",
      "photoUrl": "",
      "userId": "01124094544480722853"
     },
     "user_tz": 420
    },
    "id": "BYpkxJ9CzhiU",
    "outputId": "614e9c43-4c9e-4298-e8a7-4cce7362ea77"
   },
   "outputs": [
    {
     "name": "stdout",
     "output_type": "stream",
     "text": [
      "22149\n"
     ]
    }
   ],
   "source": [
    "sum_price_94085 = data_94085[:,9].sum()\n",
    "print(sum_price_94085)"
   ]
  },
  {
   "cell_type": "code",
   "execution_count": 84,
   "metadata": {
    "colab": {
     "base_uri": "https://localhost:8080/",
     "height": 34
    },
    "colab_type": "code",
    "executionInfo": {
     "elapsed": 235,
     "status": "ok",
     "timestamp": 1587977290214,
     "user": {
      "displayName": "Sanjay Agarwal",
      "photoUrl": "",
      "userId": "01124094544480722853"
     },
     "user_tz": 420
    },
    "id": "lvXInx3uzhiX",
    "outputId": "30967ff8-ac4d-41ca-e4d4-ce8d2026255b"
   },
   "outputs": [
    {
     "name": "stdout",
     "output_type": "stream",
     "text": [
      "25\n"
     ]
    }
   ],
   "source": [
    "print(len(data_94085))"
   ]
  },
  {
   "cell_type": "code",
   "execution_count": 85,
   "metadata": {
    "colab": {
     "base_uri": "https://localhost:8080/",
     "height": 34
    },
    "colab_type": "code",
    "executionInfo": {
     "elapsed": 214,
     "status": "ok",
     "timestamp": 1587977290773,
     "user": {
      "displayName": "Sanjay Agarwal",
      "photoUrl": "",
      "userId": "01124094544480722853"
     },
     "user_tz": 420
    },
    "id": "bEspFQBgzhiY",
    "outputId": "81a323fe-1c6e-43ee-b91d-851fc2ea015b"
   },
   "outputs": [
    {
     "name": "stdout",
     "output_type": "stream",
     "text": [
      "25\n"
     ]
    }
   ],
   "source": [
    "print(data_94085.shape[0])"
   ]
  },
  {
   "cell_type": "code",
   "execution_count": 86,
   "metadata": {
    "colab": {
     "base_uri": "https://localhost:8080/",
     "height": 34
    },
    "colab_type": "code",
    "executionInfo": {
     "elapsed": 416,
     "status": "ok",
     "timestamp": 1587977291647,
     "user": {
      "displayName": "Sanjay Agarwal",
      "photoUrl": "",
      "userId": "01124094544480722853"
     },
     "user_tz": 420
    },
    "id": "koIkU1vszhia",
    "outputId": "6e741585-470d-4737-e69c-ad1a3017d93e"
   },
   "outputs": [
    {
     "name": "stdout",
     "output_type": "stream",
     "text": [
      "10\n"
     ]
    }
   ],
   "source": [
    "print(data_94085.shape[1])"
   ]
  },
  {
   "cell_type": "code",
   "execution_count": 87,
   "metadata": {
    "colab": {
     "base_uri": "https://localhost:8080/",
     "height": 34
    },
    "colab_type": "code",
    "executionInfo": {
     "elapsed": 227,
     "status": "ok",
     "timestamp": 1587977292128,
     "user": {
      "displayName": "Sanjay Agarwal",
      "photoUrl": "",
      "userId": "01124094544480722853"
     },
     "user_tz": 420
    },
    "id": "KWhJE6YLzhib",
    "outputId": "c95ca083-02df-4c92-ea4a-d3941ec9e91f"
   },
   "outputs": [
    {
     "name": "stdout",
     "output_type": "stream",
     "text": [
      "885.96\n"
     ]
    }
   ],
   "source": [
    "average_94085 = sum_price_94085/25\n",
    "print(average_94085)"
   ]
  },
  {
   "cell_type": "code",
   "execution_count": 88,
   "metadata": {
    "colab": {
     "base_uri": "https://localhost:8080/",
     "height": 1000
    },
    "colab_type": "code",
    "executionInfo": {
     "elapsed": 297,
     "status": "ok",
     "timestamp": 1587977293939,
     "user": {
      "displayName": "Sanjay Agarwal",
      "photoUrl": "",
      "userId": "01124094544480722853"
     },
     "user_tz": 420
    },
    "id": "Zgiysyf0zhie",
    "outputId": "79ff8847-825c-4769-dc68-2ae6923ff227"
   },
   "outputs": [
    {
     "name": "stdout",
     "output_type": "stream",
     "text": [
      "[[   65    14  1617  8394     2   850     2     0 94087  1138]\n",
      " [   73    25  1302  8668     3   850     4     2 95014  1240]\n",
      " [   23    15  1828  6956     3   851     4     3 94085   916]\n",
      " [   20    13  1358  6819     2   851     3     2 94085   859]\n",
      " [   79    17  1373  8953     2   851     2     0 94087  1190]\n",
      " [   77    17  1881  8921     3   852     2     0 95014  1194]\n",
      " [   19    10  1246  6810     2   853     4     3 95051   942]\n",
      " [   32    18  1866  7181     2   854     2     3 95051  1049]\n",
      " [   95    13  1582  9339     3   856     3     0 95014  1267]\n",
      " [   26    12  1500  7025     2   856     4     2 94085   934]\n",
      " [   99    19  1880  9470     3   857     3     3 95014  1269]\n",
      " [   53    23  1289  7873     2   857     3     0 95051  1074]\n",
      " [   67    24  1947  8502     2   857     4     0 94087  1179]\n",
      " [  100    11  1691  9476     4   857     4     0 95014  1250]\n",
      " [   14    25  1974  6547     2   857     4     3 94085   865]\n",
      " [   44    11  1415  7541     3   859     4     0 95051  1059]\n",
      " [   85    22  1757  9163     3   861     2     3 95014  1272]\n",
      " [   94    21  1983  9337     4   862     2     2 95014  1335]\n",
      " [    3    14  1344  6089     2   865     4     3 94085   831]\n",
      " [   52    25  1535  7847     2   867     3     0 95051  1097]\n",
      " [   42    21  1836  7458     2   867     4     0 94087  1128]\n",
      " [   64    12  1249  8378     3   868     4     3 94087  1132]\n",
      " [   62    19  1672  8318     3   868     2     0 94087  1149]\n",
      " [   13    15  1541  6514     2   872     2     1 94085   933]\n",
      " [   74    17  1680  8698     2   875     3     3 95014  1242]\n",
      " [   56    11  1669  7958     3   876     4     1 94087  1130]\n",
      " [   82    19  1480  9095     4   877     4     1 95014  1288]\n",
      " [    5    24  1866  6141     3   877     4     1 94085   890]\n",
      " [   90    14  1652  9245     4   879     3     0 95014  1205]\n",
      " [   87    18  1314  9195     4   881     3     0 95014  1219]\n",
      " [   70    16  1739  8585     2   881     3     3 94087  1165]\n",
      " [   89    21  1994  9215     4   881     4     0 95014  1256]\n",
      " [   58    19  1382  8054     2   883     4     2 94087  1103]\n",
      " [   80    11  1370  8974     2   883     3     3 94087  1182]\n",
      " [   15    10  1510  6633     2   884     3     2 94085   918]\n",
      " [    9    17  1501  6233     2   884     3     1 94085   874]\n",
      " [   54    12  1401  7897     3   888     4     1 94087  1114]\n",
      " [   71    19  1615  8617     3   889     2     2 95014  1233]\n",
      " [   49    12  1385  7793     2   889     3     0 94087  1138]\n",
      " [   55    10  1721  7902     3   890     3     3 95051  1075]\n",
      " [   48    22  1420  7733     3   890     2     1 94087  1114]\n",
      " [   40    15  1883  7396     2   891     4     3 95051   976]\n",
      " [   28    10  1581  7073     3   892     4     2 95051   949]\n",
      " [   72    24  1643  8619     2   893     3     1 94087  1180]\n",
      " [   81    18  1524  9081     4   894     3     3 95014  1221]\n",
      " [   16    20  1979  6680     2   894     3     0 95051   950]\n",
      " [    1    24  1757  6056     2   899     3     3 94085   894]\n",
      " [   25    21  1991  7022     2   900     3     1 94085   908]\n",
      " [   29    17  1446  7098     2   900     4     3 94085   919]\n",
      " [   61    13  1432  8121     2   900     3     0 94087  1177]\n",
      " [   47    21  1871  7693     2   901     2     3 95051  1015]\n",
      " [   66    25  1358  8446     3   902     2     3 95014  1199]\n",
      " [   60    19  1522  8098     2   903     4     2 94087  1150]\n",
      " [   22    10  1752  6892     3   904     3     0 94085   912]\n",
      " [   12    22  1221  6430     3   904     2     1 94085   912]\n",
      " [    8    19  1839  6186     3   905     4     0 94085   820]\n",
      " [   24    10  1598  7011     2   911     3     1 95051   972]\n",
      " [   96    11  1981  9350     4   912     2     1 95014  1307]\n",
      " [   43    17  1773  7495     2   913     3     1 95051  1071]\n",
      " [   98    21  1312  9456     4   915     4     3 95014  1284]\n",
      " [   46    11  1639  7660     2   916     2     1 94087  1185]\n",
      " [   41    23  1754  7426     3   917     2     1 94087  1115]\n",
      " [   31    10  1843  7136     3   918     4     3 95051   991]\n",
      " [   92    18  1846  9292     4   920     4     3 95014  1294]\n",
      " [    6    18  1589  6148     2   920     3     0 94085   867]\n",
      " [   21    17  1246  6870     3   922     4     3 94085   904]\n",
      " [   86    19  1704  9179     4   924     3     0 95014  1294]\n",
      " [   36    14  1276  7303     2   925     3     0 95051  1019]\n",
      " [   78    25  1558  8942     3   927     4     0 94087  1181]\n",
      " [   63    25  1250  8348     2   928     3     0 94087  1163]\n",
      " [   88    22  1324  9211     4   929     2     3 95014  1282]\n",
      " [   84    25  1499  9122     4   931     4     0 95014  1300]\n",
      " [   11    12  1798  6346     3   931     3     2 94085   903]\n",
      " [   30    24  1893  7115     3   933     4     0 95051   953]\n",
      " [   18    16  1572  6809     2   935     2     0 94085   896]\n",
      " [   34    19  1659  7226     3   939     2     2 95051   994]\n",
      " [   75    14  1401  8825     3   940     2     2 94087  1184]\n",
      " [   68    12  1514  8512     3   940     3     3 94087  1173]\n",
      " [   91    16  1289  9289     4   941     3     3 95014  1252]\n",
      " [   83    24  1625  9106     3   941     3     3 95014  1275]\n",
      " [   93    25  1298  9309     3   942     3     0 95014  1269]\n",
      " [   97    10  1645  9352     4   942     3     3 95014  1336]\n",
      " [   39    22  1551  7388     2   942     2     2 95051  1024]\n",
      " [   51    19  1382  7841     2   948     3     0 95051  1068]\n",
      " [   50    19  1836  7803     3   949     3     0 95051  1068]\n",
      " [   10    24  1933  6276     2   950     4     1 94085   885]\n",
      " [   57    11  1927  7983     3   950     3     1 94087  1116]\n",
      " [   59    22  1559  8096     2   953     2     3 95051  1080]\n",
      " [   76    12  1947  8882     3   954     3     2 94087  1173]\n",
      " [    7    13  1947  6183     3   959     3     1 94085   843]\n",
      " [   33    11  1953  7199     3   959     3     2 95051  1042]\n",
      " [    4    14  1215  6129     3   959     4     2 94085   809]\n",
      " [    2    10  1563  6085     2   959     4     3 94085   861]\n",
      " [   45    15  1249  7609     3   960     2     2 95051  1000]\n",
      " [   37    13  1874  7333     3   960     3     2 95051  1044]\n",
      " [   69    21  1575  8579     2   962     4     3 94087  1128]\n",
      " [   17    23  1464  6773     3   965     4     2 94085   882]\n",
      " [   27    13  1836  7027     2   966     3     3 94085   914]\n",
      " [   35    12  1943  7249     2   974     2     0 95051  1030]\n",
      " [   38    22  1724  7339     3   975     3     3 95051  1038]]\n"
     ]
    }
   ],
   "source": [
    "h1 = housing[housing[:,5].argsort()] # by school_api ascending\n",
    "print(h1)"
   ]
  },
  {
   "cell_type": "code",
   "execution_count": 89,
   "metadata": {
    "colab": {
     "base_uri": "https://localhost:8080/",
     "height": 1000
    },
    "colab_type": "code",
    "executionInfo": {
     "elapsed": 298,
     "status": "ok",
     "timestamp": 1587977294142,
     "user": {
      "displayName": "Sanjay Agarwal",
      "photoUrl": "",
      "userId": "01124094544480722853"
     },
     "user_tz": 420
    },
    "id": "SnoUd9oKzhif",
    "outputId": "4888d358-bc79-428c-ae9a-b7f63e196f25"
   },
   "outputs": [
    {
     "name": "stdout",
     "output_type": "stream",
     "text": [
      "[[   38    22  1724  7339     3   975     3     3 95051  1038]\n",
      " [   35    12  1943  7249     2   974     2     0 95051  1030]\n",
      " [   27    13  1836  7027     2   966     3     3 94085   914]\n",
      " [   17    23  1464  6773     3   965     4     2 94085   882]\n",
      " [   69    21  1575  8579     2   962     4     3 94087  1128]\n",
      " [   37    13  1874  7333     3   960     3     2 95051  1044]\n",
      " [   45    15  1249  7609     3   960     2     2 95051  1000]\n",
      " [    2    10  1563  6085     2   959     4     3 94085   861]\n",
      " [    4    14  1215  6129     3   959     4     2 94085   809]\n",
      " [   33    11  1953  7199     3   959     3     2 95051  1042]\n",
      " [    7    13  1947  6183     3   959     3     1 94085   843]\n",
      " [   76    12  1947  8882     3   954     3     2 94087  1173]\n",
      " [   59    22  1559  8096     2   953     2     3 95051  1080]\n",
      " [   57    11  1927  7983     3   950     3     1 94087  1116]\n",
      " [   10    24  1933  6276     2   950     4     1 94085   885]\n",
      " [   50    19  1836  7803     3   949     3     0 95051  1068]\n",
      " [   51    19  1382  7841     2   948     3     0 95051  1068]\n",
      " [   39    22  1551  7388     2   942     2     2 95051  1024]\n",
      " [   97    10  1645  9352     4   942     3     3 95014  1336]\n",
      " [   93    25  1298  9309     3   942     3     0 95014  1269]\n",
      " [   83    24  1625  9106     3   941     3     3 95014  1275]\n",
      " [   91    16  1289  9289     4   941     3     3 95014  1252]\n",
      " [   68    12  1514  8512     3   940     3     3 94087  1173]\n",
      " [   75    14  1401  8825     3   940     2     2 94087  1184]\n",
      " [   34    19  1659  7226     3   939     2     2 95051   994]\n",
      " [   18    16  1572  6809     2   935     2     0 94085   896]\n",
      " [   30    24  1893  7115     3   933     4     0 95051   953]\n",
      " [   11    12  1798  6346     3   931     3     2 94085   903]\n",
      " [   84    25  1499  9122     4   931     4     0 95014  1300]\n",
      " [   88    22  1324  9211     4   929     2     3 95014  1282]\n",
      " [   63    25  1250  8348     2   928     3     0 94087  1163]\n",
      " [   78    25  1558  8942     3   927     4     0 94087  1181]\n",
      " [   36    14  1276  7303     2   925     3     0 95051  1019]\n",
      " [   86    19  1704  9179     4   924     3     0 95014  1294]\n",
      " [   21    17  1246  6870     3   922     4     3 94085   904]\n",
      " [    6    18  1589  6148     2   920     3     0 94085   867]\n",
      " [   92    18  1846  9292     4   920     4     3 95014  1294]\n",
      " [   31    10  1843  7136     3   918     4     3 95051   991]\n",
      " [   41    23  1754  7426     3   917     2     1 94087  1115]\n",
      " [   46    11  1639  7660     2   916     2     1 94087  1185]\n",
      " [   98    21  1312  9456     4   915     4     3 95014  1284]\n",
      " [   43    17  1773  7495     2   913     3     1 95051  1071]\n",
      " [   96    11  1981  9350     4   912     2     1 95014  1307]\n",
      " [   24    10  1598  7011     2   911     3     1 95051   972]\n",
      " [    8    19  1839  6186     3   905     4     0 94085   820]\n",
      " [   12    22  1221  6430     3   904     2     1 94085   912]\n",
      " [   22    10  1752  6892     3   904     3     0 94085   912]\n",
      " [   60    19  1522  8098     2   903     4     2 94087  1150]\n",
      " [   66    25  1358  8446     3   902     2     3 95014  1199]\n",
      " [   47    21  1871  7693     2   901     2     3 95051  1015]\n",
      " [   61    13  1432  8121     2   900     3     0 94087  1177]\n",
      " [   29    17  1446  7098     2   900     4     3 94085   919]\n",
      " [   25    21  1991  7022     2   900     3     1 94085   908]\n",
      " [    1    24  1757  6056     2   899     3     3 94085   894]\n",
      " [   16    20  1979  6680     2   894     3     0 95051   950]\n",
      " [   81    18  1524  9081     4   894     3     3 95014  1221]\n",
      " [   72    24  1643  8619     2   893     3     1 94087  1180]\n",
      " [   28    10  1581  7073     3   892     4     2 95051   949]\n",
      " [   40    15  1883  7396     2   891     4     3 95051   976]\n",
      " [   48    22  1420  7733     3   890     2     1 94087  1114]\n",
      " [   55    10  1721  7902     3   890     3     3 95051  1075]\n",
      " [   49    12  1385  7793     2   889     3     0 94087  1138]\n",
      " [   71    19  1615  8617     3   889     2     2 95014  1233]\n",
      " [   54    12  1401  7897     3   888     4     1 94087  1114]\n",
      " [    9    17  1501  6233     2   884     3     1 94085   874]\n",
      " [   15    10  1510  6633     2   884     3     2 94085   918]\n",
      " [   80    11  1370  8974     2   883     3     3 94087  1182]\n",
      " [   58    19  1382  8054     2   883     4     2 94087  1103]\n",
      " [   89    21  1994  9215     4   881     4     0 95014  1256]\n",
      " [   70    16  1739  8585     2   881     3     3 94087  1165]\n",
      " [   87    18  1314  9195     4   881     3     0 95014  1219]\n",
      " [   90    14  1652  9245     4   879     3     0 95014  1205]\n",
      " [    5    24  1866  6141     3   877     4     1 94085   890]\n",
      " [   82    19  1480  9095     4   877     4     1 95014  1288]\n",
      " [   56    11  1669  7958     3   876     4     1 94087  1130]\n",
      " [   74    17  1680  8698     2   875     3     3 95014  1242]\n",
      " [   13    15  1541  6514     2   872     2     1 94085   933]\n",
      " [   62    19  1672  8318     3   868     2     0 94087  1149]\n",
      " [   64    12  1249  8378     3   868     4     3 94087  1132]\n",
      " [   42    21  1836  7458     2   867     4     0 94087  1128]\n",
      " [   52    25  1535  7847     2   867     3     0 95051  1097]\n",
      " [    3    14  1344  6089     2   865     4     3 94085   831]\n",
      " [   94    21  1983  9337     4   862     2     2 95014  1335]\n",
      " [   85    22  1757  9163     3   861     2     3 95014  1272]\n",
      " [   44    11  1415  7541     3   859     4     0 95051  1059]\n",
      " [   14    25  1974  6547     2   857     4     3 94085   865]\n",
      " [  100    11  1691  9476     4   857     4     0 95014  1250]\n",
      " [   67    24  1947  8502     2   857     4     0 94087  1179]\n",
      " [   53    23  1289  7873     2   857     3     0 95051  1074]\n",
      " [   99    19  1880  9470     3   857     3     3 95014  1269]\n",
      " [   26    12  1500  7025     2   856     4     2 94085   934]\n",
      " [   95    13  1582  9339     3   856     3     0 95014  1267]\n",
      " [   32    18  1866  7181     2   854     2     3 95051  1049]\n",
      " [   19    10  1246  6810     2   853     4     3 95051   942]\n",
      " [   77    17  1881  8921     3   852     2     0 95014  1194]\n",
      " [   79    17  1373  8953     2   851     2     0 94087  1190]\n",
      " [   20    13  1358  6819     2   851     3     2 94085   859]\n",
      " [   23    15  1828  6956     3   851     4     3 94085   916]\n",
      " [   73    25  1302  8668     3   850     4     2 95014  1240]\n",
      " [   65    14  1617  8394     2   850     2     0 94087  1138]]\n"
     ]
    }
   ],
   "source": [
    "h2 = housing[housing[:,5].argsort()[::-1]] # by school_api descending\n",
    "print(h2)"
   ]
  },
  {
   "cell_type": "code",
   "execution_count": 0,
   "metadata": {
    "colab": {},
    "colab_type": "code",
    "id": "8UFDT1vEzhio"
   },
   "outputs": [],
   "source": []
  }
 ],
 "metadata": {
  "colab": {
   "collapsed_sections": [],
   "name": "C3_NumPy_BayArea_HomePrice_Student.ipynb",
   "provenance": []
  },
  "kernelspec": {
   "display_name": "Python 3",
   "language": "python",
   "name": "python3"
  },
  "language_info": {
   "codemirror_mode": {
    "name": "ipython",
    "version": 3
   },
   "file_extension": ".py",
   "mimetype": "text/x-python",
   "name": "python",
   "nbconvert_exporter": "python",
   "pygments_lexer": "ipython3",
   "version": "3.8.3"
  }
 },
 "nbformat": 4,
 "nbformat_minor": 1
}
