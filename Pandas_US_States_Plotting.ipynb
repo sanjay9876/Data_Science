{
 "cells": [
  {
   "cell_type": "markdown",
   "metadata": {
    "colab_type": "text",
    "id": "Gtf-z3jp5Izz"
   },
   "source": [
    "# Reading csv dataset file with Pandas"
   ]
  },
  {
   "cell_type": "code",
   "execution_count": 1,
   "metadata": {
    "colab": {},
    "colab_type": "code",
    "id": "926W_Ft65Iz4"
   },
   "outputs": [],
   "source": [
    "import pandas as pd"
   ]
  },
  {
   "cell_type": "code",
   "execution_count": 0,
   "metadata": {
    "colab": {},
    "colab_type": "code",
    "id": "4uZKZIrd5Iz7"
   },
   "outputs": [],
   "source": [
    "from pandas import read_csv"
   ]
  },
  {
   "cell_type": "markdown",
   "metadata": {
    "colab_type": "text",
    "id": "UP5kAWJ65Iz9"
   },
   "source": [
    "## Upload Data"
   ]
  },
  {
   "cell_type": "code",
   "execution_count": 2,
   "metadata": {
    "colab": {},
    "colab_type": "code",
    "id": "fCjURoJO5Iz-"
   },
   "outputs": [],
   "source": [
    "df = pd.read_csv(\"us_states_pop2018.csv\")"
   ]
  },
  {
   "cell_type": "code",
   "execution_count": 3,
   "metadata": {
    "colab": {
     "base_uri": "https://localhost:8080/",
     "height": 347
    },
    "colab_type": "code",
    "executionInfo": {
     "elapsed": 396,
     "status": "ok",
     "timestamp": 1588012148919,
     "user": {
      "displayName": "Sanjay Agarwal",
      "photoUrl": "",
      "userId": "01124094544480722853"
     },
     "user_tz": 420
    },
    "id": "rwnje-1S5I0A",
    "outputId": "6e4d7a71-4607-483f-b700-5a429ffe1ea6"
   },
   "outputs": [
    {
     "data": {
      "text/html": [
       "<div>\n",
       "<style scoped>\n",
       "    .dataframe tbody tr th:only-of-type {\n",
       "        vertical-align: middle;\n",
       "    }\n",
       "\n",
       "    .dataframe tbody tr th {\n",
       "        vertical-align: top;\n",
       "    }\n",
       "\n",
       "    .dataframe thead th {\n",
       "        text-align: right;\n",
       "    }\n",
       "</style>\n",
       "<table border=\"1\" class=\"dataframe\">\n",
       "  <thead>\n",
       "    <tr style=\"text-align: right;\">\n",
       "      <th></th>\n",
       "      <th>Rank</th>\n",
       "      <th>State</th>\n",
       "      <th>2018 Population</th>\n",
       "      <th>2018 Growth</th>\n",
       "      <th>% of US</th>\n",
       "    </tr>\n",
       "  </thead>\n",
       "  <tbody>\n",
       "    <tr>\n",
       "      <th>0</th>\n",
       "      <td>1</td>\n",
       "      <td>California</td>\n",
       "      <td>39776830</td>\n",
       "      <td>0.006075</td>\n",
       "      <td>0.121259</td>\n",
       "    </tr>\n",
       "    <tr>\n",
       "      <th>1</th>\n",
       "      <td>2</td>\n",
       "      <td>Texas</td>\n",
       "      <td>28704330</td>\n",
       "      <td>0.014123</td>\n",
       "      <td>0.087505</td>\n",
       "    </tr>\n",
       "    <tr>\n",
       "      <th>2</th>\n",
       "      <td>3</td>\n",
       "      <td>Florida</td>\n",
       "      <td>21312211</td>\n",
       "      <td>0.015622</td>\n",
       "      <td>0.064970</td>\n",
       "    </tr>\n",
       "    <tr>\n",
       "      <th>3</th>\n",
       "      <td>4</td>\n",
       "      <td>New York</td>\n",
       "      <td>19862512</td>\n",
       "      <td>0.000661</td>\n",
       "      <td>0.060550</td>\n",
       "    </tr>\n",
       "    <tr>\n",
       "      <th>4</th>\n",
       "      <td>5</td>\n",
       "      <td>Pennsylvania</td>\n",
       "      <td>12823989</td>\n",
       "      <td>0.001441</td>\n",
       "      <td>0.039094</td>\n",
       "    </tr>\n",
       "    <tr>\n",
       "      <th>5</th>\n",
       "      <td>6</td>\n",
       "      <td>Illinois</td>\n",
       "      <td>12768320</td>\n",
       "      <td>-0.002633</td>\n",
       "      <td>0.038924</td>\n",
       "    </tr>\n",
       "    <tr>\n",
       "      <th>6</th>\n",
       "      <td>7</td>\n",
       "      <td>Ohio</td>\n",
       "      <td>11694664</td>\n",
       "      <td>0.003093</td>\n",
       "      <td>0.035651</td>\n",
       "    </tr>\n",
       "    <tr>\n",
       "      <th>7</th>\n",
       "      <td>8</td>\n",
       "      <td>Georgia</td>\n",
       "      <td>10545138</td>\n",
       "      <td>0.011099</td>\n",
       "      <td>0.032147</td>\n",
       "    </tr>\n",
       "    <tr>\n",
       "      <th>8</th>\n",
       "      <td>9</td>\n",
       "      <td>North Carolina</td>\n",
       "      <td>10390149</td>\n",
       "      <td>0.011362</td>\n",
       "      <td>0.031674</td>\n",
       "    </tr>\n",
       "    <tr>\n",
       "      <th>9</th>\n",
       "      <td>10</td>\n",
       "      <td>Michigan</td>\n",
       "      <td>9991177</td>\n",
       "      <td>0.002898</td>\n",
       "      <td>0.030458</td>\n",
       "    </tr>\n",
       "  </tbody>\n",
       "</table>\n",
       "</div>"
      ],
      "text/plain": [
       "   Rank           State  2018 Population  2018 Growth   % of US\n",
       "0     1      California         39776830     0.006075  0.121259\n",
       "1     2           Texas         28704330     0.014123  0.087505\n",
       "2     3         Florida         21312211     0.015622  0.064970\n",
       "3     4        New York         19862512     0.000661  0.060550\n",
       "4     5    Pennsylvania         12823989     0.001441  0.039094\n",
       "5     6        Illinois         12768320    -0.002633  0.038924\n",
       "6     7            Ohio         11694664     0.003093  0.035651\n",
       "7     8         Georgia         10545138     0.011099  0.032147\n",
       "8     9  North Carolina         10390149     0.011362  0.031674\n",
       "9    10        Michigan          9991177     0.002898  0.030458"
      ]
     },
     "execution_count": 3,
     "metadata": {},
     "output_type": "execute_result"
    }
   ],
   "source": [
    "df.head(10)"
   ]
  },
  {
   "cell_type": "code",
   "execution_count": 4,
   "metadata": {
    "colab": {
     "base_uri": "https://localhost:8080/",
     "height": 197
    },
    "colab_type": "code",
    "executionInfo": {
     "elapsed": 357,
     "status": "ok",
     "timestamp": 1588012149968,
     "user": {
      "displayName": "Sanjay Agarwal",
      "photoUrl": "",
      "userId": "01124094544480722853"
     },
     "user_tz": 420
    },
    "id": "50IljrPL5I0D",
    "outputId": "155c556f-5a36-4e9e-d68b-b2a47f85cfa1"
   },
   "outputs": [
    {
     "data": {
      "text/html": [
       "<div>\n",
       "<style scoped>\n",
       "    .dataframe tbody tr th:only-of-type {\n",
       "        vertical-align: middle;\n",
       "    }\n",
       "\n",
       "    .dataframe tbody tr th {\n",
       "        vertical-align: top;\n",
       "    }\n",
       "\n",
       "    .dataframe thead th {\n",
       "        text-align: right;\n",
       "    }\n",
       "</style>\n",
       "<table border=\"1\" class=\"dataframe\">\n",
       "  <thead>\n",
       "    <tr style=\"text-align: right;\">\n",
       "      <th></th>\n",
       "      <th>Rank</th>\n",
       "      <th>State</th>\n",
       "      <th>2018 Population</th>\n",
       "      <th>2018 Growth</th>\n",
       "      <th>% of US</th>\n",
       "    </tr>\n",
       "  </thead>\n",
       "  <tbody>\n",
       "    <tr>\n",
       "      <th>46</th>\n",
       "      <td>47</td>\n",
       "      <td>North Dakota</td>\n",
       "      <td>755238</td>\n",
       "      <td>-0.000205</td>\n",
       "      <td>0.002302</td>\n",
       "    </tr>\n",
       "    <tr>\n",
       "      <th>47</th>\n",
       "      <td>48</td>\n",
       "      <td>Alaska</td>\n",
       "      <td>738068</td>\n",
       "      <td>-0.002334</td>\n",
       "      <td>0.002250</td>\n",
       "    </tr>\n",
       "    <tr>\n",
       "      <th>48</th>\n",
       "      <td>49</td>\n",
       "      <td>District of Columbia</td>\n",
       "      <td>703608</td>\n",
       "      <td>0.013885</td>\n",
       "      <td>0.002145</td>\n",
       "    </tr>\n",
       "    <tr>\n",
       "      <th>49</th>\n",
       "      <td>50</td>\n",
       "      <td>Vermont</td>\n",
       "      <td>623960</td>\n",
       "      <td>0.000486</td>\n",
       "      <td>0.001902</td>\n",
       "    </tr>\n",
       "    <tr>\n",
       "      <th>50</th>\n",
       "      <td>51</td>\n",
       "      <td>Wyoming</td>\n",
       "      <td>573720</td>\n",
       "      <td>-0.009658</td>\n",
       "      <td>0.001749</td>\n",
       "    </tr>\n",
       "  </tbody>\n",
       "</table>\n",
       "</div>"
      ],
      "text/plain": [
       "    Rank                 State  2018 Population  2018 Growth   % of US\n",
       "46    47          North Dakota           755238    -0.000205  0.002302\n",
       "47    48                Alaska           738068    -0.002334  0.002250\n",
       "48    49  District of Columbia           703608     0.013885  0.002145\n",
       "49    50               Vermont           623960     0.000486  0.001902\n",
       "50    51               Wyoming           573720    -0.009658  0.001749"
      ]
     },
     "execution_count": 4,
     "metadata": {},
     "output_type": "execute_result"
    }
   ],
   "source": [
    "df.tail()"
   ]
  },
  {
   "cell_type": "code",
   "execution_count": 5,
   "metadata": {
    "colab": {
     "base_uri": "https://localhost:8080/",
     "height": 34
    },
    "colab_type": "code",
    "executionInfo": {
     "elapsed": 347,
     "status": "ok",
     "timestamp": 1588012151584,
     "user": {
      "displayName": "Sanjay Agarwal",
      "photoUrl": "",
      "userId": "01124094544480722853"
     },
     "user_tz": 420
    },
    "id": "nS8GZGrS5I0I",
    "outputId": "f1b2fa75-e6ce-4080-ba5c-ea1a0efe52bb"
   },
   "outputs": [
    {
     "data": {
      "text/plain": [
       "51"
      ]
     },
     "execution_count": 5,
     "metadata": {},
     "output_type": "execute_result"
    }
   ],
   "source": [
    "# number of rows\n",
    "len(df)"
   ]
  },
  {
   "cell_type": "code",
   "execution_count": 6,
   "metadata": {
    "colab": {
     "base_uri": "https://localhost:8080/",
     "height": 34
    },
    "colab_type": "code",
    "executionInfo": {
     "elapsed": 274,
     "status": "ok",
     "timestamp": 1588012152508,
     "user": {
      "displayName": "Sanjay Agarwal",
      "photoUrl": "",
      "userId": "01124094544480722853"
     },
     "user_tz": 420
    },
    "id": "opsFTsu_5I0L",
    "outputId": "077badb5-103a-4bfe-9c20-889ae3bbce44"
   },
   "outputs": [
    {
     "data": {
      "text/plain": [
       "(51, 5)"
      ]
     },
     "execution_count": 6,
     "metadata": {},
     "output_type": "execute_result"
    }
   ],
   "source": [
    "# shape of df (rows, columns)\n",
    "df.shape"
   ]
  },
  {
   "cell_type": "markdown",
   "metadata": {
    "colab_type": "text",
    "id": "VbXBcVdz5I0N"
   },
   "source": [
    "## Change Column Name(s)"
   ]
  },
  {
   "cell_type": "markdown",
   "metadata": {
    "colab_type": "text",
    "id": "ALTnUhq25I0O"
   },
   "source": [
    "Why would we want to change the column names?"
   ]
  },
  {
   "cell_type": "code",
   "execution_count": 7,
   "metadata": {
    "colab": {
     "base_uri": "https://localhost:8080/",
     "height": 1000
    },
    "colab_type": "code",
    "executionInfo": {
     "elapsed": 357,
     "status": "ok",
     "timestamp": 1588012154828,
     "user": {
      "displayName": "Sanjay Agarwal",
      "photoUrl": "",
      "userId": "01124094544480722853"
     },
     "user_tz": 420
    },
    "id": "91CdO-PE5I0O",
    "outputId": "30ecd29e-8d25-47d3-cd99-834c2c3b75b3"
   },
   "outputs": [
    {
     "data": {
      "text/html": [
       "<div>\n",
       "<style scoped>\n",
       "    .dataframe tbody tr th:only-of-type {\n",
       "        vertical-align: middle;\n",
       "    }\n",
       "\n",
       "    .dataframe tbody tr th {\n",
       "        vertical-align: top;\n",
       "    }\n",
       "\n",
       "    .dataframe thead th {\n",
       "        text-align: right;\n",
       "    }\n",
       "</style>\n",
       "<table border=\"1\" class=\"dataframe\">\n",
       "  <thead>\n",
       "    <tr style=\"text-align: right;\">\n",
       "      <th></th>\n",
       "      <th>Rank</th>\n",
       "      <th>State</th>\n",
       "      <th>2018 Pop</th>\n",
       "      <th>2018 Growth</th>\n",
       "      <th>% of US</th>\n",
       "    </tr>\n",
       "  </thead>\n",
       "  <tbody>\n",
       "    <tr>\n",
       "      <th>0</th>\n",
       "      <td>1</td>\n",
       "      <td>California</td>\n",
       "      <td>39776830</td>\n",
       "      <td>0.006075</td>\n",
       "      <td>0.121259</td>\n",
       "    </tr>\n",
       "    <tr>\n",
       "      <th>1</th>\n",
       "      <td>2</td>\n",
       "      <td>Texas</td>\n",
       "      <td>28704330</td>\n",
       "      <td>0.014123</td>\n",
       "      <td>0.087505</td>\n",
       "    </tr>\n",
       "    <tr>\n",
       "      <th>2</th>\n",
       "      <td>3</td>\n",
       "      <td>Florida</td>\n",
       "      <td>21312211</td>\n",
       "      <td>0.015622</td>\n",
       "      <td>0.064970</td>\n",
       "    </tr>\n",
       "    <tr>\n",
       "      <th>3</th>\n",
       "      <td>4</td>\n",
       "      <td>New York</td>\n",
       "      <td>19862512</td>\n",
       "      <td>0.000661</td>\n",
       "      <td>0.060550</td>\n",
       "    </tr>\n",
       "    <tr>\n",
       "      <th>4</th>\n",
       "      <td>5</td>\n",
       "      <td>Pennsylvania</td>\n",
       "      <td>12823989</td>\n",
       "      <td>0.001441</td>\n",
       "      <td>0.039094</td>\n",
       "    </tr>\n",
       "    <tr>\n",
       "      <th>5</th>\n",
       "      <td>6</td>\n",
       "      <td>Illinois</td>\n",
       "      <td>12768320</td>\n",
       "      <td>-0.002633</td>\n",
       "      <td>0.038924</td>\n",
       "    </tr>\n",
       "    <tr>\n",
       "      <th>6</th>\n",
       "      <td>7</td>\n",
       "      <td>Ohio</td>\n",
       "      <td>11694664</td>\n",
       "      <td>0.003093</td>\n",
       "      <td>0.035651</td>\n",
       "    </tr>\n",
       "    <tr>\n",
       "      <th>7</th>\n",
       "      <td>8</td>\n",
       "      <td>Georgia</td>\n",
       "      <td>10545138</td>\n",
       "      <td>0.011099</td>\n",
       "      <td>0.032147</td>\n",
       "    </tr>\n",
       "    <tr>\n",
       "      <th>8</th>\n",
       "      <td>9</td>\n",
       "      <td>North Carolina</td>\n",
       "      <td>10390149</td>\n",
       "      <td>0.011362</td>\n",
       "      <td>0.031674</td>\n",
       "    </tr>\n",
       "    <tr>\n",
       "      <th>9</th>\n",
       "      <td>10</td>\n",
       "      <td>Michigan</td>\n",
       "      <td>9991177</td>\n",
       "      <td>0.002898</td>\n",
       "      <td>0.030458</td>\n",
       "    </tr>\n",
       "    <tr>\n",
       "      <th>10</th>\n",
       "      <td>11</td>\n",
       "      <td>New Jersey</td>\n",
       "      <td>9032872</td>\n",
       "      <td>0.003023</td>\n",
       "      <td>0.027537</td>\n",
       "    </tr>\n",
       "    <tr>\n",
       "      <th>11</th>\n",
       "      <td>12</td>\n",
       "      <td>Virginia</td>\n",
       "      <td>8525660</td>\n",
       "      <td>0.006569</td>\n",
       "      <td>0.025990</td>\n",
       "    </tr>\n",
       "    <tr>\n",
       "      <th>12</th>\n",
       "      <td>13</td>\n",
       "      <td>Washington</td>\n",
       "      <td>7530552</td>\n",
       "      <td>0.016853</td>\n",
       "      <td>0.022957</td>\n",
       "    </tr>\n",
       "    <tr>\n",
       "      <th>13</th>\n",
       "      <td>14</td>\n",
       "      <td>Arizona</td>\n",
       "      <td>7123898</td>\n",
       "      <td>0.015340</td>\n",
       "      <td>0.021717</td>\n",
       "    </tr>\n",
       "    <tr>\n",
       "      <th>14</th>\n",
       "      <td>15</td>\n",
       "      <td>Massachusetts</td>\n",
       "      <td>6895917</td>\n",
       "      <td>0.005262</td>\n",
       "      <td>0.021022</td>\n",
       "    </tr>\n",
       "    <tr>\n",
       "      <th>15</th>\n",
       "      <td>16</td>\n",
       "      <td>Tennessee</td>\n",
       "      <td>6782564</td>\n",
       "      <td>0.009914</td>\n",
       "      <td>0.020677</td>\n",
       "    </tr>\n",
       "    <tr>\n",
       "      <th>16</th>\n",
       "      <td>17</td>\n",
       "      <td>Indiana</td>\n",
       "      <td>6699629</td>\n",
       "      <td>0.004922</td>\n",
       "      <td>0.020424</td>\n",
       "    </tr>\n",
       "    <tr>\n",
       "      <th>17</th>\n",
       "      <td>18</td>\n",
       "      <td>Missouri</td>\n",
       "      <td>6135888</td>\n",
       "      <td>0.003657</td>\n",
       "      <td>0.018705</td>\n",
       "    </tr>\n",
       "    <tr>\n",
       "      <th>18</th>\n",
       "      <td>19</td>\n",
       "      <td>Maryland</td>\n",
       "      <td>6079602</td>\n",
       "      <td>0.004531</td>\n",
       "      <td>0.018534</td>\n",
       "    </tr>\n",
       "    <tr>\n",
       "      <th>19</th>\n",
       "      <td>20</td>\n",
       "      <td>Wisconsin</td>\n",
       "      <td>5818049</td>\n",
       "      <td>0.003894</td>\n",
       "      <td>0.017736</td>\n",
       "    </tr>\n",
       "    <tr>\n",
       "      <th>20</th>\n",
       "      <td>21</td>\n",
       "      <td>Colorado</td>\n",
       "      <td>5684203</td>\n",
       "      <td>0.013741</td>\n",
       "      <td>0.017328</td>\n",
       "    </tr>\n",
       "    <tr>\n",
       "      <th>21</th>\n",
       "      <td>22</td>\n",
       "      <td>Minnesota</td>\n",
       "      <td>5628162</td>\n",
       "      <td>0.009245</td>\n",
       "      <td>0.017157</td>\n",
       "    </tr>\n",
       "    <tr>\n",
       "      <th>22</th>\n",
       "      <td>23</td>\n",
       "      <td>South Carolina</td>\n",
       "      <td>5088916</td>\n",
       "      <td>0.012847</td>\n",
       "      <td>0.015513</td>\n",
       "    </tr>\n",
       "    <tr>\n",
       "      <th>23</th>\n",
       "      <td>24</td>\n",
       "      <td>Alabama</td>\n",
       "      <td>4888949</td>\n",
       "      <td>0.002913</td>\n",
       "      <td>0.014904</td>\n",
       "    </tr>\n",
       "    <tr>\n",
       "      <th>24</th>\n",
       "      <td>25</td>\n",
       "      <td>Louisiana</td>\n",
       "      <td>4682509</td>\n",
       "      <td>-0.000389</td>\n",
       "      <td>0.014275</td>\n",
       "    </tr>\n",
       "    <tr>\n",
       "      <th>25</th>\n",
       "      <td>26</td>\n",
       "      <td>Kentucky</td>\n",
       "      <td>4472265</td>\n",
       "      <td>0.004058</td>\n",
       "      <td>0.013634</td>\n",
       "    </tr>\n",
       "    <tr>\n",
       "      <th>26</th>\n",
       "      <td>27</td>\n",
       "      <td>Oregon</td>\n",
       "      <td>4199563</td>\n",
       "      <td>0.013707</td>\n",
       "      <td>0.012802</td>\n",
       "    </tr>\n",
       "    <tr>\n",
       "      <th>27</th>\n",
       "      <td>28</td>\n",
       "      <td>Oklahoma</td>\n",
       "      <td>3940521</td>\n",
       "      <td>0.002457</td>\n",
       "      <td>0.012013</td>\n",
       "    </tr>\n",
       "    <tr>\n",
       "      <th>28</th>\n",
       "      <td>29</td>\n",
       "      <td>Connecticut</td>\n",
       "      <td>3588683</td>\n",
       "      <td>0.000139</td>\n",
       "      <td>0.010940</td>\n",
       "    </tr>\n",
       "    <tr>\n",
       "      <th>29</th>\n",
       "      <td>30</td>\n",
       "      <td>Iowa</td>\n",
       "      <td>3160553</td>\n",
       "      <td>0.004718</td>\n",
       "      <td>0.009635</td>\n",
       "    </tr>\n",
       "    <tr>\n",
       "      <th>30</th>\n",
       "      <td>31</td>\n",
       "      <td>Utah</td>\n",
       "      <td>3159345</td>\n",
       "      <td>0.018541</td>\n",
       "      <td>0.009631</td>\n",
       "    </tr>\n",
       "    <tr>\n",
       "      <th>31</th>\n",
       "      <td>32</td>\n",
       "      <td>Nevada</td>\n",
       "      <td>3056824</td>\n",
       "      <td>0.019608</td>\n",
       "      <td>0.009319</td>\n",
       "    </tr>\n",
       "    <tr>\n",
       "      <th>32</th>\n",
       "      <td>33</td>\n",
       "      <td>Arkansas</td>\n",
       "      <td>3020327</td>\n",
       "      <td>0.005342</td>\n",
       "      <td>0.009207</td>\n",
       "    </tr>\n",
       "    <tr>\n",
       "      <th>33</th>\n",
       "      <td>34</td>\n",
       "      <td>Mississippi</td>\n",
       "      <td>2982785</td>\n",
       "      <td>-0.000441</td>\n",
       "      <td>0.009093</td>\n",
       "    </tr>\n",
       "    <tr>\n",
       "      <th>34</th>\n",
       "      <td>35</td>\n",
       "      <td>Kansas</td>\n",
       "      <td>2918515</td>\n",
       "      <td>0.001851</td>\n",
       "      <td>0.008897</td>\n",
       "    </tr>\n",
       "    <tr>\n",
       "      <th>35</th>\n",
       "      <td>36</td>\n",
       "      <td>New Mexico</td>\n",
       "      <td>2090708</td>\n",
       "      <td>0.001263</td>\n",
       "      <td>0.006373</td>\n",
       "    </tr>\n",
       "    <tr>\n",
       "      <th>36</th>\n",
       "      <td>37</td>\n",
       "      <td>Nebraska</td>\n",
       "      <td>1932549</td>\n",
       "      <td>0.006496</td>\n",
       "      <td>0.005891</td>\n",
       "    </tr>\n",
       "    <tr>\n",
       "      <th>37</th>\n",
       "      <td>38</td>\n",
       "      <td>West Virginia</td>\n",
       "      <td>1803077</td>\n",
       "      <td>-0.007038</td>\n",
       "      <td>0.005497</td>\n",
       "    </tr>\n",
       "    <tr>\n",
       "      <th>38</th>\n",
       "      <td>39</td>\n",
       "      <td>Idaho</td>\n",
       "      <td>1753860</td>\n",
       "      <td>0.021502</td>\n",
       "      <td>0.005347</td>\n",
       "    </tr>\n",
       "    <tr>\n",
       "      <th>39</th>\n",
       "      <td>40</td>\n",
       "      <td>Hawaii</td>\n",
       "      <td>1426393</td>\n",
       "      <td>-0.000802</td>\n",
       "      <td>0.004348</td>\n",
       "    </tr>\n",
       "    <tr>\n",
       "      <th>40</th>\n",
       "      <td>41</td>\n",
       "      <td>New Hampshire</td>\n",
       "      <td>1350575</td>\n",
       "      <td>0.005794</td>\n",
       "      <td>0.004117</td>\n",
       "    </tr>\n",
       "    <tr>\n",
       "      <th>41</th>\n",
       "      <td>42</td>\n",
       "      <td>Maine</td>\n",
       "      <td>1341582</td>\n",
       "      <td>0.004248</td>\n",
       "      <td>0.004090</td>\n",
       "    </tr>\n",
       "    <tr>\n",
       "      <th>42</th>\n",
       "      <td>43</td>\n",
       "      <td>Montana</td>\n",
       "      <td>1062330</td>\n",
       "      <td>0.011268</td>\n",
       "      <td>0.003238</td>\n",
       "    </tr>\n",
       "    <tr>\n",
       "      <th>43</th>\n",
       "      <td>44</td>\n",
       "      <td>Rhode Island</td>\n",
       "      <td>1061712</td>\n",
       "      <td>0.001956</td>\n",
       "      <td>0.003237</td>\n",
       "    </tr>\n",
       "    <tr>\n",
       "      <th>44</th>\n",
       "      <td>45</td>\n",
       "      <td>Delaware</td>\n",
       "      <td>971180</td>\n",
       "      <td>0.009607</td>\n",
       "      <td>0.002961</td>\n",
       "    </tr>\n",
       "    <tr>\n",
       "      <th>45</th>\n",
       "      <td>46</td>\n",
       "      <td>South Dakota</td>\n",
       "      <td>877790</td>\n",
       "      <td>0.009342</td>\n",
       "      <td>0.002676</td>\n",
       "    </tr>\n",
       "    <tr>\n",
       "      <th>46</th>\n",
       "      <td>47</td>\n",
       "      <td>North Dakota</td>\n",
       "      <td>755238</td>\n",
       "      <td>-0.000205</td>\n",
       "      <td>0.002302</td>\n",
       "    </tr>\n",
       "    <tr>\n",
       "      <th>47</th>\n",
       "      <td>48</td>\n",
       "      <td>Alaska</td>\n",
       "      <td>738068</td>\n",
       "      <td>-0.002334</td>\n",
       "      <td>0.002250</td>\n",
       "    </tr>\n",
       "    <tr>\n",
       "      <th>48</th>\n",
       "      <td>49</td>\n",
       "      <td>District of Columbia</td>\n",
       "      <td>703608</td>\n",
       "      <td>0.013885</td>\n",
       "      <td>0.002145</td>\n",
       "    </tr>\n",
       "    <tr>\n",
       "      <th>49</th>\n",
       "      <td>50</td>\n",
       "      <td>Vermont</td>\n",
       "      <td>623960</td>\n",
       "      <td>0.000486</td>\n",
       "      <td>0.001902</td>\n",
       "    </tr>\n",
       "    <tr>\n",
       "      <th>50</th>\n",
       "      <td>51</td>\n",
       "      <td>Wyoming</td>\n",
       "      <td>573720</td>\n",
       "      <td>-0.009658</td>\n",
       "      <td>0.001749</td>\n",
       "    </tr>\n",
       "  </tbody>\n",
       "</table>\n",
       "</div>"
      ],
      "text/plain": [
       "    Rank                 State  2018 Pop  2018 Growth   % of US\n",
       "0      1            California  39776830     0.006075  0.121259\n",
       "1      2                 Texas  28704330     0.014123  0.087505\n",
       "2      3               Florida  21312211     0.015622  0.064970\n",
       "3      4              New York  19862512     0.000661  0.060550\n",
       "4      5          Pennsylvania  12823989     0.001441  0.039094\n",
       "5      6              Illinois  12768320    -0.002633  0.038924\n",
       "6      7                  Ohio  11694664     0.003093  0.035651\n",
       "7      8               Georgia  10545138     0.011099  0.032147\n",
       "8      9        North Carolina  10390149     0.011362  0.031674\n",
       "9     10              Michigan   9991177     0.002898  0.030458\n",
       "10    11            New Jersey   9032872     0.003023  0.027537\n",
       "11    12              Virginia   8525660     0.006569  0.025990\n",
       "12    13            Washington   7530552     0.016853  0.022957\n",
       "13    14               Arizona   7123898     0.015340  0.021717\n",
       "14    15         Massachusetts   6895917     0.005262  0.021022\n",
       "15    16             Tennessee   6782564     0.009914  0.020677\n",
       "16    17               Indiana   6699629     0.004922  0.020424\n",
       "17    18              Missouri   6135888     0.003657  0.018705\n",
       "18    19              Maryland   6079602     0.004531  0.018534\n",
       "19    20             Wisconsin   5818049     0.003894  0.017736\n",
       "20    21              Colorado   5684203     0.013741  0.017328\n",
       "21    22             Minnesota   5628162     0.009245  0.017157\n",
       "22    23        South Carolina   5088916     0.012847  0.015513\n",
       "23    24               Alabama   4888949     0.002913  0.014904\n",
       "24    25             Louisiana   4682509    -0.000389  0.014275\n",
       "25    26              Kentucky   4472265     0.004058  0.013634\n",
       "26    27                Oregon   4199563     0.013707  0.012802\n",
       "27    28              Oklahoma   3940521     0.002457  0.012013\n",
       "28    29           Connecticut   3588683     0.000139  0.010940\n",
       "29    30                  Iowa   3160553     0.004718  0.009635\n",
       "30    31                  Utah   3159345     0.018541  0.009631\n",
       "31    32                Nevada   3056824     0.019608  0.009319\n",
       "32    33              Arkansas   3020327     0.005342  0.009207\n",
       "33    34           Mississippi   2982785    -0.000441  0.009093\n",
       "34    35                Kansas   2918515     0.001851  0.008897\n",
       "35    36            New Mexico   2090708     0.001263  0.006373\n",
       "36    37              Nebraska   1932549     0.006496  0.005891\n",
       "37    38         West Virginia   1803077    -0.007038  0.005497\n",
       "38    39                 Idaho   1753860     0.021502  0.005347\n",
       "39    40                Hawaii   1426393    -0.000802  0.004348\n",
       "40    41         New Hampshire   1350575     0.005794  0.004117\n",
       "41    42                 Maine   1341582     0.004248  0.004090\n",
       "42    43               Montana   1062330     0.011268  0.003238\n",
       "43    44          Rhode Island   1061712     0.001956  0.003237\n",
       "44    45              Delaware    971180     0.009607  0.002961\n",
       "45    46          South Dakota    877790     0.009342  0.002676\n",
       "46    47          North Dakota    755238    -0.000205  0.002302\n",
       "47    48                Alaska    738068    -0.002334  0.002250\n",
       "48    49  District of Columbia    703608     0.013885  0.002145\n",
       "49    50               Vermont    623960     0.000486  0.001902\n",
       "50    51               Wyoming    573720    -0.009658  0.001749"
      ]
     },
     "execution_count": 7,
     "metadata": {},
     "output_type": "execute_result"
    }
   ],
   "source": [
    "df = df.rename(columns={'2018 Population': '2018 Pop'})\n",
    "df.head(51)"
   ]
  },
  {
   "cell_type": "markdown",
   "metadata": {
    "colab_type": "text",
    "id": "1RPM0GcY5I0Q"
   },
   "source": [
    "## Create New Columns"
   ]
  },
  {
   "cell_type": "markdown",
   "metadata": {
    "colab_type": "text",
    "id": "g9sVb6r95I0R"
   },
   "source": [
    "Let's create new columns for the information we extracted from those values."
   ]
  },
  {
   "cell_type": "code",
   "execution_count": 8,
   "metadata": {
    "colab": {
     "base_uri": "https://localhost:8080/",
     "height": 197
    },
    "colab_type": "code",
    "executionInfo": {
     "elapsed": 284,
     "status": "ok",
     "timestamp": 1588012160856,
     "user": {
      "displayName": "Sanjay Agarwal",
      "photoUrl": "",
      "userId": "01124094544480722853"
     },
     "user_tz": 420
    },
    "id": "i1cHSVeV5I0R",
    "outputId": "0ff54e5b-1e60-4c43-c295-294a0471c52f"
   },
   "outputs": [
    {
     "data": {
      "text/html": [
       "<div>\n",
       "<style scoped>\n",
       "    .dataframe tbody tr th:only-of-type {\n",
       "        vertical-align: middle;\n",
       "    }\n",
       "\n",
       "    .dataframe tbody tr th {\n",
       "        vertical-align: top;\n",
       "    }\n",
       "\n",
       "    .dataframe thead th {\n",
       "        text-align: right;\n",
       "    }\n",
       "</style>\n",
       "<table border=\"1\" class=\"dataframe\">\n",
       "  <thead>\n",
       "    <tr style=\"text-align: right;\">\n",
       "      <th></th>\n",
       "      <th>Rank</th>\n",
       "      <th>State</th>\n",
       "      <th>2018 Pop</th>\n",
       "      <th>2018 Growth</th>\n",
       "      <th>% of US</th>\n",
       "      <th>Pct_USA</th>\n",
       "    </tr>\n",
       "  </thead>\n",
       "  <tbody>\n",
       "    <tr>\n",
       "      <th>0</th>\n",
       "      <td>1</td>\n",
       "      <td>California</td>\n",
       "      <td>39776830</td>\n",
       "      <td>0.006075</td>\n",
       "      <td>0.121259</td>\n",
       "      <td>12.125884</td>\n",
       "    </tr>\n",
       "    <tr>\n",
       "      <th>1</th>\n",
       "      <td>2</td>\n",
       "      <td>Texas</td>\n",
       "      <td>28704330</td>\n",
       "      <td>0.014123</td>\n",
       "      <td>0.087505</td>\n",
       "      <td>8.750455</td>\n",
       "    </tr>\n",
       "    <tr>\n",
       "      <th>2</th>\n",
       "      <td>3</td>\n",
       "      <td>Florida</td>\n",
       "      <td>21312211</td>\n",
       "      <td>0.015622</td>\n",
       "      <td>0.064970</td>\n",
       "      <td>6.496983</td>\n",
       "    </tr>\n",
       "    <tr>\n",
       "      <th>3</th>\n",
       "      <td>4</td>\n",
       "      <td>New York</td>\n",
       "      <td>19862512</td>\n",
       "      <td>0.000661</td>\n",
       "      <td>0.060550</td>\n",
       "      <td>6.055045</td>\n",
       "    </tr>\n",
       "    <tr>\n",
       "      <th>4</th>\n",
       "      <td>5</td>\n",
       "      <td>Pennsylvania</td>\n",
       "      <td>12823989</td>\n",
       "      <td>0.001441</td>\n",
       "      <td>0.039094</td>\n",
       "      <td>3.909366</td>\n",
       "    </tr>\n",
       "  </tbody>\n",
       "</table>\n",
       "</div>"
      ],
      "text/plain": [
       "   Rank         State  2018 Pop  2018 Growth   % of US    Pct_USA\n",
       "0     1    California  39776830     0.006075  0.121259  12.125884\n",
       "1     2         Texas  28704330     0.014123  0.087505   8.750455\n",
       "2     3       Florida  21312211     0.015622  0.064970   6.496983\n",
       "3     4      New York  19862512     0.000661  0.060550   6.055045\n",
       "4     5  Pennsylvania  12823989     0.001441  0.039094   3.909366"
      ]
     },
     "execution_count": 8,
     "metadata": {},
     "output_type": "execute_result"
    }
   ],
   "source": [
    "Pct = [(people * 100) for people in df[\"% of US\"]]\n",
    "df[\"Pct_USA\"] = Pct\n",
    "df.head()"
   ]
  },
  {
   "cell_type": "markdown",
   "metadata": {
    "colab_type": "text",
    "id": "RDK_mITV5I0U"
   },
   "source": [
    "## Drop Columns"
   ]
  },
  {
   "cell_type": "code",
   "execution_count": 9,
   "metadata": {
    "colab": {
     "base_uri": "https://localhost:8080/",
     "height": 197
    },
    "colab_type": "code",
    "executionInfo": {
     "elapsed": 303,
     "status": "ok",
     "timestamp": 1588012162405,
     "user": {
      "displayName": "Sanjay Agarwal",
      "photoUrl": "",
      "userId": "01124094544480722853"
     },
     "user_tz": 420
    },
    "id": "KTUllB835I0U",
    "outputId": "41a3f0a8-6b80-450a-c10d-b669f99e0e27"
   },
   "outputs": [
    {
     "data": {
      "text/html": [
       "<div>\n",
       "<style scoped>\n",
       "    .dataframe tbody tr th:only-of-type {\n",
       "        vertical-align: middle;\n",
       "    }\n",
       "\n",
       "    .dataframe tbody tr th {\n",
       "        vertical-align: top;\n",
       "    }\n",
       "\n",
       "    .dataframe thead th {\n",
       "        text-align: right;\n",
       "    }\n",
       "</style>\n",
       "<table border=\"1\" class=\"dataframe\">\n",
       "  <thead>\n",
       "    <tr style=\"text-align: right;\">\n",
       "      <th></th>\n",
       "      <th>Rank</th>\n",
       "      <th>State</th>\n",
       "      <th>2018 Pop</th>\n",
       "      <th>2018 Growth</th>\n",
       "      <th>Pct_USA</th>\n",
       "    </tr>\n",
       "  </thead>\n",
       "  <tbody>\n",
       "    <tr>\n",
       "      <th>0</th>\n",
       "      <td>1</td>\n",
       "      <td>California</td>\n",
       "      <td>39776830</td>\n",
       "      <td>0.006075</td>\n",
       "      <td>12.125884</td>\n",
       "    </tr>\n",
       "    <tr>\n",
       "      <th>1</th>\n",
       "      <td>2</td>\n",
       "      <td>Texas</td>\n",
       "      <td>28704330</td>\n",
       "      <td>0.014123</td>\n",
       "      <td>8.750455</td>\n",
       "    </tr>\n",
       "    <tr>\n",
       "      <th>2</th>\n",
       "      <td>3</td>\n",
       "      <td>Florida</td>\n",
       "      <td>21312211</td>\n",
       "      <td>0.015622</td>\n",
       "      <td>6.496983</td>\n",
       "    </tr>\n",
       "    <tr>\n",
       "      <th>3</th>\n",
       "      <td>4</td>\n",
       "      <td>New York</td>\n",
       "      <td>19862512</td>\n",
       "      <td>0.000661</td>\n",
       "      <td>6.055045</td>\n",
       "    </tr>\n",
       "    <tr>\n",
       "      <th>4</th>\n",
       "      <td>5</td>\n",
       "      <td>Pennsylvania</td>\n",
       "      <td>12823989</td>\n",
       "      <td>0.001441</td>\n",
       "      <td>3.909366</td>\n",
       "    </tr>\n",
       "  </tbody>\n",
       "</table>\n",
       "</div>"
      ],
      "text/plain": [
       "   Rank         State  2018 Pop  2018 Growth    Pct_USA\n",
       "0     1    California  39776830     0.006075  12.125884\n",
       "1     2         Texas  28704330     0.014123   8.750455\n",
       "2     3       Florida  21312211     0.015622   6.496983\n",
       "3     4      New York  19862512     0.000661   6.055045\n",
       "4     5  Pennsylvania  12823989     0.001441   3.909366"
      ]
     },
     "execution_count": 9,
     "metadata": {},
     "output_type": "execute_result"
    }
   ],
   "source": [
    "df = df.drop(\"% of US\", axis = 1)\n",
    "#Check if it dropped\n",
    "df.head()"
   ]
  },
  {
   "cell_type": "code",
   "execution_count": 10,
   "metadata": {
    "colab": {
     "base_uri": "https://localhost:8080/",
     "height": 34
    },
    "colab_type": "code",
    "executionInfo": {
     "elapsed": 344,
     "status": "ok",
     "timestamp": 1588012163162,
     "user": {
      "displayName": "Sanjay Agarwal",
      "photoUrl": "",
      "userId": "01124094544480722853"
     },
     "user_tz": 420
    },
    "id": "1EnvEMUx5I0W",
    "outputId": "567f4e61-1718-43b2-bc2d-7c47d394cd95"
   },
   "outputs": [
    {
     "name": "stdout",
     "output_type": "stream",
     "text": [
      "12.125883740009954\n"
     ]
    }
   ],
   "source": [
    "aa = (df[\"Pct_USA\"].max())\n",
    "print(aa)"
   ]
  },
  {
   "cell_type": "code",
   "execution_count": 11,
   "metadata": {
    "colab": {
     "base_uri": "https://localhost:8080/",
     "height": 77
    },
    "colab_type": "code",
    "executionInfo": {
     "elapsed": 364,
     "status": "ok",
     "timestamp": 1588012163893,
     "user": {
      "displayName": "Sanjay Agarwal",
      "photoUrl": "",
      "userId": "01124094544480722853"
     },
     "user_tz": 420
    },
    "id": "B74xViqe5I0Z",
    "outputId": "7238a45b-e3ea-4d9f-d999-c942de143d49"
   },
   "outputs": [
    {
     "data": {
      "text/html": [
       "<div>\n",
       "<style scoped>\n",
       "    .dataframe tbody tr th:only-of-type {\n",
       "        vertical-align: middle;\n",
       "    }\n",
       "\n",
       "    .dataframe tbody tr th {\n",
       "        vertical-align: top;\n",
       "    }\n",
       "\n",
       "    .dataframe thead th {\n",
       "        text-align: right;\n",
       "    }\n",
       "</style>\n",
       "<table border=\"1\" class=\"dataframe\">\n",
       "  <thead>\n",
       "    <tr style=\"text-align: right;\">\n",
       "      <th></th>\n",
       "      <th>Rank</th>\n",
       "      <th>State</th>\n",
       "      <th>2018 Pop</th>\n",
       "      <th>2018 Growth</th>\n",
       "      <th>Pct_USA</th>\n",
       "    </tr>\n",
       "  </thead>\n",
       "  <tbody>\n",
       "    <tr>\n",
       "      <th>1</th>\n",
       "      <td>2</td>\n",
       "      <td>Texas</td>\n",
       "      <td>28704330</td>\n",
       "      <td>0.014123</td>\n",
       "      <td>8.750455</td>\n",
       "    </tr>\n",
       "  </tbody>\n",
       "</table>\n",
       "</div>"
      ],
      "text/plain": [
       "   Rank  State  2018 Pop  2018 Growth   Pct_USA\n",
       "1     2  Texas  28704330     0.014123  8.750455"
      ]
     },
     "execution_count": 11,
     "metadata": {},
     "output_type": "execute_result"
    }
   ],
   "source": [
    "df.loc[df['State'] == 'Texas']"
   ]
  },
  {
   "cell_type": "code",
   "execution_count": 12,
   "metadata": {
    "colab": {
     "base_uri": "https://localhost:8080/",
     "height": 107
    },
    "colab_type": "code",
    "executionInfo": {
     "elapsed": 318,
     "status": "ok",
     "timestamp": 1588012164606,
     "user": {
      "displayName": "Sanjay Agarwal",
      "photoUrl": "",
      "userId": "01124094544480722853"
     },
     "user_tz": 420
    },
    "id": "OjwEsqt75I0b",
    "outputId": "73a51486-5c9f-4f80-d0c2-bf5821a2b1cb"
   },
   "outputs": [
    {
     "data": {
      "text/html": [
       "<div>\n",
       "<style scoped>\n",
       "    .dataframe tbody tr th:only-of-type {\n",
       "        vertical-align: middle;\n",
       "    }\n",
       "\n",
       "    .dataframe tbody tr th {\n",
       "        vertical-align: top;\n",
       "    }\n",
       "\n",
       "    .dataframe thead th {\n",
       "        text-align: right;\n",
       "    }\n",
       "</style>\n",
       "<table border=\"1\" class=\"dataframe\">\n",
       "  <thead>\n",
       "    <tr style=\"text-align: right;\">\n",
       "      <th></th>\n",
       "      <th>Rank</th>\n",
       "      <th>State</th>\n",
       "      <th>2018 Pop</th>\n",
       "      <th>2018 Growth</th>\n",
       "      <th>Pct_USA</th>\n",
       "    </tr>\n",
       "  </thead>\n",
       "  <tbody>\n",
       "    <tr>\n",
       "      <th>2</th>\n",
       "      <td>3</td>\n",
       "      <td>Florida</td>\n",
       "      <td>21312211</td>\n",
       "      <td>0.015622</td>\n",
       "      <td>6.496983</td>\n",
       "    </tr>\n",
       "    <tr>\n",
       "      <th>6</th>\n",
       "      <td>7</td>\n",
       "      <td>Ohio</td>\n",
       "      <td>11694664</td>\n",
       "      <td>0.003093</td>\n",
       "      <td>3.565094</td>\n",
       "    </tr>\n",
       "  </tbody>\n",
       "</table>\n",
       "</div>"
      ],
      "text/plain": [
       "   Rank    State  2018 Pop  2018 Growth   Pct_USA\n",
       "2     3  Florida  21312211     0.015622  6.496983\n",
       "6     7     Ohio  11694664     0.003093  3.565094"
      ]
     },
     "execution_count": 12,
     "metadata": {},
     "output_type": "execute_result"
    }
   ],
   "source": [
    "array = ['Florida', 'Ohio']\n",
    "df.loc[df['State'].isin(array)]"
   ]
  },
  {
   "cell_type": "code",
   "execution_count": 13,
   "metadata": {
    "colab": {},
    "colab_type": "code",
    "id": "W-InV6C-5I0d"
   },
   "outputs": [],
   "source": [
    "big_states = df['Pct_USA'] > 8"
   ]
  },
  {
   "cell_type": "code",
   "execution_count": 14,
   "metadata": {
    "colab": {
     "base_uri": "https://localhost:8080/",
     "height": 107
    },
    "colab_type": "code",
    "executionInfo": {
     "elapsed": 326,
     "status": "ok",
     "timestamp": 1588012166023,
     "user": {
      "displayName": "Sanjay Agarwal",
      "photoUrl": "",
      "userId": "01124094544480722853"
     },
     "user_tz": 420
    },
    "id": "1mQRMmXZ5I0f",
    "outputId": "e5f4fa3e-15b6-4851-ed5a-59e104bed89b"
   },
   "outputs": [
    {
     "data": {
      "text/html": [
       "<div>\n",
       "<style scoped>\n",
       "    .dataframe tbody tr th:only-of-type {\n",
       "        vertical-align: middle;\n",
       "    }\n",
       "\n",
       "    .dataframe tbody tr th {\n",
       "        vertical-align: top;\n",
       "    }\n",
       "\n",
       "    .dataframe thead th {\n",
       "        text-align: right;\n",
       "    }\n",
       "</style>\n",
       "<table border=\"1\" class=\"dataframe\">\n",
       "  <thead>\n",
       "    <tr style=\"text-align: right;\">\n",
       "      <th></th>\n",
       "      <th>Rank</th>\n",
       "      <th>State</th>\n",
       "      <th>2018 Pop</th>\n",
       "      <th>2018 Growth</th>\n",
       "      <th>Pct_USA</th>\n",
       "    </tr>\n",
       "  </thead>\n",
       "  <tbody>\n",
       "    <tr>\n",
       "      <th>0</th>\n",
       "      <td>1</td>\n",
       "      <td>California</td>\n",
       "      <td>39776830</td>\n",
       "      <td>0.006075</td>\n",
       "      <td>12.125884</td>\n",
       "    </tr>\n",
       "    <tr>\n",
       "      <th>1</th>\n",
       "      <td>2</td>\n",
       "      <td>Texas</td>\n",
       "      <td>28704330</td>\n",
       "      <td>0.014123</td>\n",
       "      <td>8.750455</td>\n",
       "    </tr>\n",
       "  </tbody>\n",
       "</table>\n",
       "</div>"
      ],
      "text/plain": [
       "   Rank       State  2018 Pop  2018 Growth    Pct_USA\n",
       "0     1  California  39776830     0.006075  12.125884\n",
       "1     2       Texas  28704330     0.014123   8.750455"
      ]
     },
     "execution_count": 14,
     "metadata": {},
     "output_type": "execute_result"
    }
   ],
   "source": [
    "df[big_states]"
   ]
  },
  {
   "cell_type": "code",
   "execution_count": 0,
   "metadata": {
    "colab": {},
    "colab_type": "code",
    "id": "kTWgS7k75I0k"
   },
   "outputs": [],
   "source": [
    "# Matplotlib can take df as parameters"
   ]
  },
  {
   "cell_type": "code",
   "execution_count": 0,
   "metadata": {
    "colab": {},
    "colab_type": "code",
    "id": "DXeHu6r_5I0n"
   },
   "outputs": [],
   "source": [
    "import matplotlib.pyplot as plt\n",
    "%matplotlib inline"
   ]
  },
  {
   "cell_type": "code",
   "execution_count": 23,
   "metadata": {
    "colab": {
     "base_uri": "https://localhost:8080/",
     "height": 875
    },
    "colab_type": "code",
    "executionInfo": {
     "elapsed": 1077,
     "status": "ok",
     "timestamp": 1588012170291,
     "user": {
      "displayName": "Sanjay Agarwal",
      "photoUrl": "",
      "userId": "01124094544480722853"
     },
     "user_tz": 420
    },
    "id": "O6pKFZvg5I0p",
    "outputId": "f7dcfc33-04c4-4ed8-b628-e51d7f55cafc",
    "scrolled": true
   },
   "outputs": [
    {
     "data": {
      "image/png": "[encoded data removed]",
      "text/plain": [
       "<Figure size 1080x1080 with 1 Axes>"
      ]
     },
     "metadata": {
      "needs_background": "light",
      "tags": []
     },
     "output_type": "display_data"
    }
   ],
   "source": [
    "plt.figure(figsize=(15,15)) \n",
    "plt.barh(df[\"State\"],df[\"2018 Pop\"])\n",
    "plt.grid(True)\n",
    "plt.show()"
   ]
  },
  {
   "cell_type": "markdown",
   "metadata": {
    "colab_type": "text",
    "id": "M4brFQPp5I0t"
   },
   "source": [
    "# Pie charts ..."
   ]
  },
  {
   "cell_type": "code",
   "execution_count": 25,
   "metadata": {
    "colab": {
     "base_uri": "https://localhost:8080/",
     "height": 598
    },
    "colab_type": "code",
    "executionInfo": {
     "elapsed": 1111,
     "status": "ok",
     "timestamp": 1588012179958,
     "user": {
      "displayName": "Sanjay Agarwal",
      "photoUrl": "",
      "userId": "01124094544480722853"
     },
     "user_tz": 420
    },
    "id": "LgIDdX-K5I0u",
    "outputId": "405d202d-33a9-4b69-efef-b664a5ee0adf"
   },
   "outputs": [
    {
     "data": {
      "image/png": "[encoded data removed]",
      "text/plain": [
       "<Figure size 720x720 with 1 Axes>"
      ]
     },
     "metadata": {
      "tags": []
     },
     "output_type": "display_data"
    }
   ],
   "source": [
    "fig, ax1 = plt.subplots(figsize=(10, 10))\n",
    "ax1.pie(df['Pct_USA'],labels=df['State'], autopct='%1.0f%%',startangle=30)\n",
    "ax1.axis('equal')  # Equal aspect ratio ensures that pie is drawn as a circle.\n",
    "plt.show()"
   ]
  },
  {
   "cell_type": "code",
   "execution_count": 0,
   "metadata": {
    "colab": {},
    "colab_type": "code",
    "id": "Hm-JigXg5I05"
   },
   "outputs": [],
   "source": []
  }
 ],
 "metadata": {
  "colab": {
   "collapsed_sections": [],
   "name": "C4_Pandas_US_States_Plotting.ipynb",
   "provenance": [],
   "toc_visible": true
  },
  "kernelspec": {
   "display_name": "Python 3",
   "language": "python",
   "name": "python3"
  },
  "language_info": {
   "codemirror_mode": {
    "name": "ipython",
    "version": 3
   },
   "file_extension": ".py",
   "mimetype": "text/x-python",
   "name": "python",
   "nbconvert_exporter": "python",
   "pygments_lexer": "ipython3",
   "version": "3.8.3"
  }
 },
 "nbformat": 4,
 "nbformat_minor": 1
}
