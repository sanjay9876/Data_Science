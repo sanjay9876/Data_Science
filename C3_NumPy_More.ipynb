{
 "cells": [
  {
   "cell_type": "code",
   "execution_count": 1,
   "metadata": {
    "colab": {},
    "colab_type": "code",
    "id": "WZm65U1CyHiW"
   },
   "outputs": [],
   "source": [
    "import numpy as np"
   ]
  },
  {
   "cell_type": "code",
   "execution_count": 2,
   "metadata": {
    "colab": {
     "base_uri": "https://localhost:8080/",
     "height": 123
    },
    "colab_type": "code",
    "executionInfo": {
     "elapsed": 434,
     "status": "ok",
     "timestamp": 1588010197906,
     "user": {
      "displayName": "Sanjay Agarwal",
      "photoUrl": "",
      "userId": "01124094544480722853"
     },
     "user_tz": 420
    },
    "id": "5BbZhOULyHic",
    "outputId": "d7dde81e-5fd0-4ea3-b014-4e4f520d1bdf"
   },
   "outputs": [
    {
     "name": "stdout",
     "output_type": "stream",
     "text": [
      "x     = [0 1 2 3]\n",
      "x + 5 = [5 6 7 8]\n",
      "x - 5 = [-5 -4 -3 -2]\n",
      "x * 2 = [0 2 4 6]\n",
      "x / 2 = [0.  0.5 1.  1.5]\n",
      "x // 2 = [0 0 1 1]\n"
     ]
    }
   ],
   "source": [
    "x = np.arange(4)\n",
    "print(\"x     =\", x)\n",
    "print(\"x + 5 =\", x + 5)\n",
    "print(\"x - 5 =\", x - 5)\n",
    "print(\"x * 2 =\", x * 2)\n",
    "print(\"x / 2 =\", x / 2)\n",
    "print(\"x // 2 =\", x // 2)  # floor division"
   ]
  },
  {
   "cell_type": "code",
   "execution_count": 3,
   "metadata": {
    "colab": {
     "base_uri": "https://localhost:8080/",
     "height": 70
    },
    "colab_type": "code",
    "executionInfo": {
     "elapsed": 360,
     "status": "ok",
     "timestamp": 1588010198850,
     "user": {
      "displayName": "Sanjay Agarwal",
      "photoUrl": "",
      "userId": "01124094544480722853"
     },
     "user_tz": 420
    },
    "id": "p5r_YJtfyHig",
    "outputId": "17c60347-0a12-4196-d736-8ee7013e51c8"
   },
   "outputs": [
    {
     "name": "stdout",
     "output_type": "stream",
     "text": [
      "-x     =  [ 0 -1 -2 -3]\n",
      "x ** 2 =  [0 1 4 9]\n",
      "x % 2  =  [0 1 0 1]\n"
     ]
    }
   ],
   "source": [
    "print(\"-x     = \", -x)\n",
    "print(\"x ** 2 = \", x ** 2)\n",
    "print(\"x % 2  = \", x % 2)"
   ]
  },
  {
   "cell_type": "code",
   "execution_count": 4,
   "metadata": {
    "colab": {},
    "colab_type": "code",
    "id": "bufIczG_yHij"
   },
   "outputs": [],
   "source": [
    "theta = np.linspace(0, np.pi, 3)"
   ]
  },
  {
   "cell_type": "code",
   "execution_count": 5,
   "metadata": {
    "colab": {
     "base_uri": "https://localhost:8080/",
     "height": 87
    },
    "colab_type": "code",
    "executionInfo": {
     "elapsed": 257,
     "status": "ok",
     "timestamp": 1588010200216,
     "user": {
      "displayName": "Sanjay Agarwal",
      "photoUrl": "",
      "userId": "01124094544480722853"
     },
     "user_tz": 420
    },
    "id": "nyfoTgWbyHin",
    "outputId": "e71408b4-3c7f-43e4-ba94-ec1825fef048"
   },
   "outputs": [
    {
     "name": "stdout",
     "output_type": "stream",
     "text": [
      "theta      =  [0.         1.57079633 3.14159265]\n",
      "sin(theta) =  [0.0000000e+00 1.0000000e+00 1.2246468e-16]\n",
      "cos(theta) =  [ 1.000000e+00  6.123234e-17 -1.000000e+00]\n",
      "tan(theta) =  [ 0.00000000e+00  1.63312394e+16 -1.22464680e-16]\n"
     ]
    }
   ],
   "source": [
    "print(\"theta      = \", theta)\n",
    "print(\"sin(theta) = \", np.sin(theta))\n",
    "print(\"cos(theta) = \", np.cos(theta))\n",
    "print(\"tan(theta) = \", np.tan(theta))"
   ]
  },
  {
   "cell_type": "code",
   "execution_count": 6,
   "metadata": {
    "colab": {
     "base_uri": "https://localhost:8080/",
     "height": 87
    },
    "colab_type": "code",
    "executionInfo": {
     "elapsed": 376,
     "status": "ok",
     "timestamp": 1588010201208,
     "user": {
      "displayName": "Sanjay Agarwal",
      "photoUrl": "",
      "userId": "01124094544480722853"
     },
     "user_tz": 420
    },
    "id": "dUQ48iGMyHip",
    "outputId": "585c1bb0-f27c-4cc0-fe32-1009c204cdbe"
   },
   "outputs": [
    {
     "name": "stdout",
     "output_type": "stream",
     "text": [
      "x         =  [-1, 0, 1]\n",
      "arcsin(x) =  [-1.57079633  0.          1.57079633]\n",
      "arccos(x) =  [3.14159265 1.57079633 0.        ]\n",
      "arctan(x) =  [-0.78539816  0.          0.78539816]\n"
     ]
    }
   ],
   "source": [
    "x = [-1, 0, 1]\n",
    "print(\"x         = \", x)\n",
    "print(\"arcsin(x) = \", np.arcsin(x))\n",
    "print(\"arccos(x) = \", np.arccos(x))\n",
    "print(\"arctan(x) = \", np.arctan(x))"
   ]
  },
  {
   "cell_type": "code",
   "execution_count": 7,
   "metadata": {
    "colab": {
     "base_uri": "https://localhost:8080/",
     "height": 87
    },
    "colab_type": "code",
    "executionInfo": {
     "elapsed": 269,
     "status": "ok",
     "timestamp": 1588010201698,
     "user": {
      "displayName": "Sanjay Agarwal",
      "photoUrl": "",
      "userId": "01124094544480722853"
     },
     "user_tz": 420
    },
    "id": "ZTGFX4otyHis",
    "outputId": "1c1aaef5-e37c-4f1a-b28a-b1d05dd968a8"
   },
   "outputs": [
    {
     "name": "stdout",
     "output_type": "stream",
     "text": [
      "x     = [1, 2, 3]\n",
      "e^x   = [ 2.71828183  7.3890561  20.08553692]\n",
      "2^x   = [2. 4. 8.]\n",
      "3^x   = [ 3  9 27]\n"
     ]
    }
   ],
   "source": [
    "x = [1, 2, 3]\n",
    "print(\"x     =\", x)\n",
    "print(\"e^x   =\", np.exp(x))\n",
    "print(\"2^x   =\", np.exp2(x))\n",
    "print(\"3^x   =\", np.power(3, x))"
   ]
  },
  {
   "cell_type": "code",
   "execution_count": 8,
   "metadata": {
    "colab": {
     "base_uri": "https://localhost:8080/",
     "height": 87
    },
    "colab_type": "code",
    "executionInfo": {
     "elapsed": 351,
     "status": "ok",
     "timestamp": 1588010202523,
     "user": {
      "displayName": "Sanjay Agarwal",
      "photoUrl": "",
      "userId": "01124094544480722853"
     },
     "user_tz": 420
    },
    "id": "oGrqhq28yHiv",
    "outputId": "4d555a4f-edb6-4f8c-b5f6-ccbdec93765b"
   },
   "outputs": [
    {
     "name": "stdout",
     "output_type": "stream",
     "text": [
      "x        = [1, 2, 4, 10]\n",
      "ln(x)    = [0.         0.69314718 1.38629436 2.30258509]\n",
      "log2(x)  = [0.         1.         2.         3.32192809]\n",
      "log10(x) = [0.         0.30103    0.60205999 1.        ]\n"
     ]
    }
   ],
   "source": [
    "x = [1, 2, 4, 10]\n",
    "print(\"x        =\", x)\n",
    "print(\"ln(x)    =\", np.log(x))\n",
    "print(\"log2(x)  =\", np.log2(x))\n",
    "print(\"log10(x) =\", np.log10(x))"
   ]
  },
  {
   "cell_type": "code",
   "execution_count": 9,
   "metadata": {
    "colab": {
     "base_uri": "https://localhost:8080/",
     "height": 34
    },
    "colab_type": "code",
    "executionInfo": {
     "elapsed": 326,
     "status": "ok",
     "timestamp": 1588010203323,
     "user": {
      "displayName": "Sanjay Agarwal",
      "photoUrl": "",
      "userId": "01124094544480722853"
     },
     "user_tz": 420
    },
    "id": "KB6ltyoqyHix",
    "outputId": "11e68eee-1a6b-4ad1-8783-3f0401070949"
   },
   "outputs": [
    {
     "data": {
      "text/plain": [
       "15"
      ]
     },
     "execution_count": 9,
     "metadata": {},
     "output_type": "execute_result"
    }
   ],
   "source": [
    "x = np.arange(1, 6)\n",
    "np.add.reduce(x)"
   ]
  },
  {
   "cell_type": "code",
   "execution_count": 10,
   "metadata": {
    "colab": {
     "base_uri": "https://localhost:8080/",
     "height": 34
    },
    "colab_type": "code",
    "executionInfo": {
     "elapsed": 367,
     "status": "ok",
     "timestamp": 1588010204183,
     "user": {
      "displayName": "Sanjay Agarwal",
      "photoUrl": "",
      "userId": "01124094544480722853"
     },
     "user_tz": 420
    },
    "id": "y3gZLCoqyHi0",
    "outputId": "07d672fb-b55b-4998-e247-d5bd86e22b12"
   },
   "outputs": [
    {
     "data": {
      "text/plain": [
       "120"
      ]
     },
     "execution_count": 10,
     "metadata": {},
     "output_type": "execute_result"
    }
   ],
   "source": [
    "np.multiply.reduce(x)"
   ]
  },
  {
   "cell_type": "code",
   "execution_count": 11,
   "metadata": {
    "colab": {
     "base_uri": "https://localhost:8080/",
     "height": 34
    },
    "colab_type": "code",
    "executionInfo": {
     "elapsed": 1108,
     "status": "ok",
     "timestamp": 1588010205620,
     "user": {
      "displayName": "Sanjay Agarwal",
      "photoUrl": "",
      "userId": "01124094544480722853"
     },
     "user_tz": 420
    },
    "id": "0WLM8vBEyHi2",
    "outputId": "85e99dd7-3409-45d7-bc67-347d3578f9f1"
   },
   "outputs": [
    {
     "data": {
      "text/plain": [
       "array([ 1,  3,  6, 10, 15], dtype=int32)"
      ]
     },
     "execution_count": 11,
     "metadata": {},
     "output_type": "execute_result"
    }
   ],
   "source": [
    "np.add.accumulate(x)"
   ]
  },
  {
   "cell_type": "code",
   "execution_count": 12,
   "metadata": {
    "colab": {
     "base_uri": "https://localhost:8080/",
     "height": 34
    },
    "colab_type": "code",
    "executionInfo": {
     "elapsed": 393,
     "status": "ok",
     "timestamp": 1588010205623,
     "user": {
      "displayName": "Sanjay Agarwal",
      "photoUrl": "",
      "userId": "01124094544480722853"
     },
     "user_tz": 420
    },
    "id": "cDAZkwQgyHi5",
    "outputId": "80a56ace-4aa3-4da3-899a-b0a1c56a9edb"
   },
   "outputs": [
    {
     "data": {
      "text/plain": [
       "array([  1,   2,   6,  24, 120], dtype=int32)"
      ]
     },
     "execution_count": 12,
     "metadata": {},
     "output_type": "execute_result"
    }
   ],
   "source": [
    "np.multiply.accumulate(x)"
   ]
  },
  {
   "cell_type": "code",
   "execution_count": 13,
   "metadata": {
    "colab": {
     "base_uri": "https://localhost:8080/",
     "height": 105
    },
    "colab_type": "code",
    "executionInfo": {
     "elapsed": 475,
     "status": "ok",
     "timestamp": 1588010206261,
     "user": {
      "displayName": "Sanjay Agarwal",
      "photoUrl": "",
      "userId": "01124094544480722853"
     },
     "user_tz": 420
    },
    "id": "wuH2LBMiyHi8",
    "outputId": "286f5eab-8511-4d5f-f7a8-ed728e056f4a"
   },
   "outputs": [
    {
     "data": {
      "text/plain": [
       "array([[ 1,  2,  3,  4,  5],\n",
       "       [ 2,  4,  6,  8, 10],\n",
       "       [ 3,  6,  9, 12, 15],\n",
       "       [ 4,  8, 12, 16, 20],\n",
       "       [ 5, 10, 15, 20, 25]])"
      ]
     },
     "execution_count": 13,
     "metadata": {},
     "output_type": "execute_result"
    }
   ],
   "source": [
    "x = np.arange(1, 6)\n",
    "np.multiply.outer(x, x)"
   ]
  },
  {
   "cell_type": "code",
   "execution_count": 14,
   "metadata": {
    "colab": {
     "base_uri": "https://localhost:8080/",
     "height": 34
    },
    "colab_type": "code",
    "executionInfo": {
     "elapsed": 279,
     "status": "ok",
     "timestamp": 1588010207030,
     "user": {
      "displayName": "Sanjay Agarwal",
      "photoUrl": "",
      "userId": "01124094544480722853"
     },
     "user_tz": 420
    },
    "id": "cSuMOp93yHi_",
    "outputId": "e8251b4a-f85e-452d-ae4a-9a8ea263dd48"
   },
   "outputs": [
    {
     "data": {
      "text/plain": [
       "46.99112451769762"
      ]
     },
     "execution_count": 14,
     "metadata": {},
     "output_type": "execute_result"
    }
   ],
   "source": [
    "L = np.random.random(100)\n",
    "sum(L)"
   ]
  },
  {
   "cell_type": "code",
   "execution_count": 15,
   "metadata": {
    "colab": {
     "base_uri": "https://localhost:8080/",
     "height": 34
    },
    "colab_type": "code",
    "executionInfo": {
     "elapsed": 342,
     "status": "ok",
     "timestamp": 1588010207838,
     "user": {
      "displayName": "Sanjay Agarwal",
      "photoUrl": "",
      "userId": "01124094544480722853"
     },
     "user_tz": 420
    },
    "id": "5USWmCBNyHjB",
    "outputId": "13aaf326-e260-4c6e-979a-f317b2a21b4b"
   },
   "outputs": [
    {
     "data": {
      "text/plain": [
       "46.991124517697614"
      ]
     },
     "execution_count": 15,
     "metadata": {},
     "output_type": "execute_result"
    }
   ],
   "source": [
    "np.sum(L)"
   ]
  },
  {
   "cell_type": "code",
   "execution_count": 16,
   "metadata": {
    "colab": {
     "base_uri": "https://localhost:8080/",
     "height": 52
    },
    "colab_type": "code",
    "executionInfo": {
     "elapsed": 8654,
     "status": "ok",
     "timestamp": 1588010216786,
     "user": {
      "displayName": "Sanjay Agarwal",
      "photoUrl": "",
      "userId": "01124094544480722853"
     },
     "user_tz": 420
    },
    "id": "iRDDzAOOyHjD",
    "outputId": "b5a66e55-b631-4e80-b7ac-6f47105bc69b"
   },
   "outputs": [
    {
     "name": "stdout",
     "output_type": "stream",
     "text": [
      "154 ms ± 2.27 ms per loop (mean ± std. dev. of 7 runs, 10 loops each)\n",
      "1.01 ms ± 11.6 µs per loop (mean ± std. dev. of 7 runs, 1000 loops each)\n"
     ]
    }
   ],
   "source": [
    "big_array = np.random.rand(1000000)\n",
    "%timeit sum(big_array)\n",
    "%timeit np.sum(big_array)"
   ]
  },
  {
   "cell_type": "code",
   "execution_count": 17,
   "metadata": {
    "colab": {
     "base_uri": "https://localhost:8080/",
     "height": 34
    },
    "colab_type": "code",
    "executionInfo": {
     "elapsed": 8181,
     "status": "ok",
     "timestamp": 1588010216942,
     "user": {
      "displayName": "Sanjay Agarwal",
      "photoUrl": "",
      "userId": "01124094544480722853"
     },
     "user_tz": 420
    },
    "id": "fVEtFTWHyHjH",
    "outputId": "4d0194f8-5bc5-46b4-b461-edde1424af99"
   },
   "outputs": [
    {
     "data": {
      "text/plain": [
       "499994.5954255374"
      ]
     },
     "execution_count": 17,
     "metadata": {},
     "output_type": "execute_result"
    }
   ],
   "source": [
    "sum(big_array)"
   ]
  },
  {
   "cell_type": "code",
   "execution_count": 18,
   "metadata": {
    "colab": {
     "base_uri": "https://localhost:8080/",
     "height": 34
    },
    "colab_type": "code",
    "executionInfo": {
     "elapsed": 7616,
     "status": "ok",
     "timestamp": 1588010216944,
     "user": {
      "displayName": "Sanjay Agarwal",
      "photoUrl": "",
      "userId": "01124094544480722853"
     },
     "user_tz": 420
    },
    "id": "0DUxDcYxyHjK",
    "outputId": "9096db1f-3176-4879-80d0-e848fd7a12a8"
   },
   "outputs": [
    {
     "data": {
      "text/plain": [
       "499994.5954255416"
      ]
     },
     "execution_count": 18,
     "metadata": {},
     "output_type": "execute_result"
    }
   ],
   "source": [
    "np.sum(big_array)"
   ]
  },
  {
   "cell_type": "code",
   "execution_count": 19,
   "metadata": {
    "colab": {
     "base_uri": "https://localhost:8080/",
     "height": 34
    },
    "colab_type": "code",
    "executionInfo": {
     "elapsed": 6951,
     "status": "ok",
     "timestamp": 1588010217184,
     "user": {
      "displayName": "Sanjay Agarwal",
      "photoUrl": "",
      "userId": "01124094544480722853"
     },
     "user_tz": 420
    },
    "id": "FrcBFWjwyHjN",
    "outputId": "19b77cc9-e429-41bf-b944-862d0a7e93c4"
   },
   "outputs": [
    {
     "data": {
      "text/plain": [
       "(1.6241177801523676e-06, 0.9999981620832777)"
      ]
     },
     "execution_count": 19,
     "metadata": {},
     "output_type": "execute_result"
    }
   ],
   "source": [
    "min(big_array), max(big_array)"
   ]
  },
  {
   "cell_type": "code",
   "execution_count": 20,
   "metadata": {
    "colab": {
     "base_uri": "https://localhost:8080/",
     "height": 34
    },
    "colab_type": "code",
    "executionInfo": {
     "elapsed": 6227,
     "status": "ok",
     "timestamp": 1588010217188,
     "user": {
      "displayName": "Sanjay Agarwal",
      "photoUrl": "",
      "userId": "01124094544480722853"
     },
     "user_tz": 420
    },
    "id": "BRSXSzwSyHjP",
    "outputId": "ad5d74da-7c54-40ee-e519-89ffd11d16c8"
   },
   "outputs": [
    {
     "data": {
      "text/plain": [
       "(1.6241177801523676e-06, 0.9999981620832777)"
      ]
     },
     "execution_count": 20,
     "metadata": {},
     "output_type": "execute_result"
    }
   ],
   "source": [
    "np.min(big_array), np.max(big_array)"
   ]
  },
  {
   "cell_type": "code",
   "execution_count": 21,
   "metadata": {
    "colab": {
     "base_uri": "https://localhost:8080/",
     "height": 52
    },
    "colab_type": "code",
    "executionInfo": {
     "elapsed": 11665,
     "status": "ok",
     "timestamp": 1588010223284,
     "user": {
      "displayName": "Sanjay Agarwal",
      "photoUrl": "",
      "userId": "01124094544480722853"
     },
     "user_tz": 420
    },
    "id": "wvNb4tPeyHjR",
    "outputId": "93a9337d-08bf-4dc6-a778-16e7ae28ffac"
   },
   "outputs": [
    {
     "name": "stdout",
     "output_type": "stream",
     "text": [
      "91.2 ms ± 2.5 ms per loop (mean ± std. dev. of 7 runs, 10 loops each)\n",
      "452 µs ± 7.39 µs per loop (mean ± std. dev. of 7 runs, 1000 loops each)\n"
     ]
    }
   ],
   "source": [
    "%timeit min(big_array)\n",
    "%timeit np.min(big_array)"
   ]
  },
  {
   "cell_type": "code",
   "execution_count": 22,
   "metadata": {
    "colab": {
     "base_uri": "https://localhost:8080/",
     "height": 70
    },
    "colab_type": "code",
    "executionInfo": {
     "elapsed": 10950,
     "status": "ok",
     "timestamp": 1588010223285,
     "user": {
      "displayName": "Sanjay Agarwal",
      "photoUrl": "",
      "userId": "01124094544480722853"
     },
     "user_tz": 420
    },
    "id": "ZjMOq_yQyHjT",
    "outputId": "a4a7efa1-788e-4ead-9923-925ac8690baa"
   },
   "outputs": [
    {
     "name": "stdout",
     "output_type": "stream",
     "text": [
      "[[0.17733285 0.79651384 0.33467495 0.53391085]\n",
      " [0.32692603 0.73638102 0.81999113 0.10925792]\n",
      " [0.86953989 0.22008779 0.01505127 0.44355481]]\n"
     ]
    }
   ],
   "source": [
    "M = np.random.random((3, 4))\n",
    "print(M)"
   ]
  },
  {
   "cell_type": "code",
   "execution_count": 23,
   "metadata": {
    "colab": {
     "base_uri": "https://localhost:8080/",
     "height": 34
    },
    "colab_type": "code",
    "executionInfo": {
     "elapsed": 10383,
     "status": "ok",
     "timestamp": 1588010223286,
     "user": {
      "displayName": "Sanjay Agarwal",
      "photoUrl": "",
      "userId": "01124094544480722853"
     },
     "user_tz": 420
    },
    "id": "jyITDsfMyHjV",
    "outputId": "0826e4d5-a72e-4b0e-8c61-e8191de520da"
   },
   "outputs": [
    {
     "data": {
      "text/plain": [
       "5.383222353916965"
      ]
     },
     "execution_count": 23,
     "metadata": {},
     "output_type": "execute_result"
    }
   ],
   "source": [
    "M.sum()"
   ]
  },
  {
   "cell_type": "code",
   "execution_count": 24,
   "metadata": {
    "colab": {
     "base_uri": "https://localhost:8080/",
     "height": 34
    },
    "colab_type": "code",
    "executionInfo": {
     "elapsed": 9742,
     "status": "ok",
     "timestamp": 1588010223287,
     "user": {
      "displayName": "Sanjay Agarwal",
      "photoUrl": "",
      "userId": "01124094544480722853"
     },
     "user_tz": 420
    },
    "id": "mpvOBxlSyHjX",
    "outputId": "f638a2ce-4654-4f20-a4cf-abfc3ac9d549"
   },
   "outputs": [
    {
     "data": {
      "text/plain": [
       "array([0.17733285, 0.22008779, 0.01505127, 0.10925792])"
      ]
     },
     "execution_count": 24,
     "metadata": {},
     "output_type": "execute_result"
    }
   ],
   "source": [
    "M.min(axis=0)"
   ]
  },
  {
   "cell_type": "code",
   "execution_count": 25,
   "metadata": {
    "colab": {
     "base_uri": "https://localhost:8080/",
     "height": 34
    },
    "colab_type": "code",
    "executionInfo": {
     "elapsed": 300,
     "status": "ok",
     "timestamp": 1588010229251,
     "user": {
      "displayName": "Sanjay Agarwal",
      "photoUrl": "",
      "userId": "01124094544480722853"
     },
     "user_tz": 420
    },
    "id": "smkY1wiiyHja",
    "outputId": "1d584b10-2efa-4ae0-d388-55fecbcb4c80"
   },
   "outputs": [
    {
     "data": {
      "text/plain": [
       "array([0.17733285, 0.10925792, 0.01505127])"
      ]
     },
     "execution_count": 25,
     "metadata": {},
     "output_type": "execute_result"
    }
   ],
   "source": [
    "M.min(axis=1)"
   ]
  },
  {
   "cell_type": "code",
   "execution_count": 27,
   "metadata": {
    "colab": {},
    "colab_type": "code",
    "id": "UH2FSq_TyHjd"
   },
   "outputs": [],
   "source": [
    "data = np.loadtxt(\"president_heights.csv\",dtype=str,delimiter=\",\")"
   ]
  },
  {
   "cell_type": "code",
   "execution_count": 28,
   "metadata": {
    "colab": {
     "base_uri": "https://localhost:8080/",
     "height": 781
    },
    "colab_type": "code",
    "executionInfo": {
     "elapsed": 378,
     "status": "ok",
     "timestamp": 1588010421888,
     "user": {
      "displayName": "Sanjay Agarwal",
      "photoUrl": "",
      "userId": "01124094544480722853"
     },
     "user_tz": 420
    },
    "id": "pJwa-p3NyHjg",
    "outputId": "369c409c-29a0-4a90-f018-0ea24b65fe67"
   },
   "outputs": [
    {
     "name": "stdout",
     "output_type": "stream",
     "text": [
      "[['order' 'name' 'height(cm)']\n",
      " ['1' 'George Washington' '189']\n",
      " ['2' 'John Adams' '170']\n",
      " ['3' 'Thomas Jefferson' '189']\n",
      " ['4' 'James Madison' '163']\n",
      " ['5' 'James Monroe' '183']\n",
      " ['6' 'John Quincy Adams' '171']\n",
      " ['7' 'Andrew Jackson' '185']\n",
      " ['8' 'Martin Van Buren' '168']\n",
      " ['9' 'William Henry Harrison' '173']\n",
      " ['10' 'John Tyler' '183']\n",
      " ['11' 'James K. Polk' '173']\n",
      " ['12' 'Zachary Taylor' '173']\n",
      " ['13' 'Millard Fillmore' '175']\n",
      " ['14' 'Franklin Pierce' '178']\n",
      " ['15' 'James Buchanan' '183']\n",
      " ['16' 'Abraham Lincoln' '193']\n",
      " ['17' 'Andrew Johnson' '178']\n",
      " ['18' 'Ulysses S. Grant' '173']\n",
      " ['19' 'Rutherford B. Hayes' '174']\n",
      " ['20' 'James A. Garfield' '183']\n",
      " ['21' 'Chester A. Arthur' '183']\n",
      " ['23' 'Benjamin Harrison' '168']\n",
      " ['25' 'William McKinley' '170']\n",
      " ['26' 'Theodore Roosevelt' '178']\n",
      " ['27' 'William Howard Taft' '182']\n",
      " ['28' 'Woodrow Wilson' '180']\n",
      " ['29' 'Warren G. Harding' '183']\n",
      " ['30' 'Calvin Coolidge' '178']\n",
      " ['31' 'Herbert Hoover' '182']\n",
      " ['32' 'Franklin D. Roosevelt' '188']\n",
      " ['33' 'Harry S. Truman' '175']\n",
      " ['34' 'Dwight D. Eisenhower' '179']\n",
      " ['35' 'John F. Kennedy' '183']\n",
      " ['36' 'Lyndon B. Johnson' '193']\n",
      " ['37' 'Richard Nixon' '182']\n",
      " ['38' 'Gerald Ford' '183']\n",
      " ['39' 'Jimmy Carter' '177']\n",
      " ['40' 'Ronald Reagan' '185']\n",
      " ['41' 'George H. W. Bush' '188']\n",
      " ['42' 'Bill Clinton' '188']\n",
      " ['43' 'George W. Bush' '182']\n",
      " ['44' 'Barack Obama' '185']]\n"
     ]
    }
   ],
   "source": [
    "print(data)"
   ]
  },
  {
   "cell_type": "code",
   "execution_count": 29,
   "metadata": {
    "colab": {},
    "colab_type": "code",
    "id": "rYfbhCP3yHjj"
   },
   "outputs": [],
   "source": [
    "col_heights = data[1:,2]"
   ]
  },
  {
   "cell_type": "code",
   "execution_count": 30,
   "metadata": {
    "colab": {
     "base_uri": "https://localhost:8080/",
     "height": 87
    },
    "colab_type": "code",
    "executionInfo": {
     "elapsed": 366,
     "status": "ok",
     "timestamp": 1588010426876,
     "user": {
      "displayName": "Sanjay Agarwal",
      "photoUrl": "",
      "userId": "01124094544480722853"
     },
     "user_tz": 420
    },
    "id": "nw4cUTw6yHjl",
    "outputId": "58083b94-4cf5-413d-f6a3-d5f0cdd5bc9d"
   },
   "outputs": [
    {
     "name": "stdout",
     "output_type": "stream",
     "text": [
      "['189' '170' '189' '163' '183' '171' '185' '168' '173' '183' '173' '173'\n",
      " '175' '178' '183' '193' '178' '173' '174' '183' '183' '168' '170' '178'\n",
      " '182' '180' '183' '178' '182' '188' '175' '179' '183' '193' '182' '183'\n",
      " '177' '185' '188' '188' '182' '185']\n"
     ]
    }
   ],
   "source": [
    "print(col_heights)"
   ]
  },
  {
   "cell_type": "code",
   "execution_count": 31,
   "metadata": {
    "colab": {},
    "colab_type": "code",
    "id": "2J47Az3SyHjn"
   },
   "outputs": [],
   "source": [
    "list1 = [int(col_height) for col_height in col_heights]"
   ]
  },
  {
   "cell_type": "code",
   "execution_count": 32,
   "metadata": {
    "colab": {},
    "colab_type": "code",
    "id": "keq7tdWIyHjr"
   },
   "outputs": [],
   "source": [
    "heights = np.array(list1)"
   ]
  },
  {
   "cell_type": "code",
   "execution_count": 33,
   "metadata": {
    "colab": {
     "base_uri": "https://localhost:8080/",
     "height": 87
    },
    "colab_type": "code",
    "executionInfo": {
     "elapsed": 355,
     "status": "ok",
     "timestamp": 1588010439702,
     "user": {
      "displayName": "Sanjay Agarwal",
      "photoUrl": "",
      "userId": "01124094544480722853"
     },
     "user_tz": 420
    },
    "id": "H-rnG0rAyHjt",
    "outputId": "502107b0-eb80-4c3d-cd73-24b9af8ca5cb"
   },
   "outputs": [
    {
     "name": "stdout",
     "output_type": "stream",
     "text": [
      "Mean height:        179.73809523809524\n",
      "Standard deviation: 6.931843442745892\n",
      "Minimum height:     163\n",
      "Maximum height:     193\n"
     ]
    }
   ],
   "source": [
    "print(\"Mean height:       \", heights.mean())\n",
    "print(\"Standard deviation:\", heights.std())\n",
    "print(\"Minimum height:    \", heights.min())\n",
    "print(\"Maximum height:    \", heights.max())"
   ]
  },
  {
   "cell_type": "code",
   "execution_count": 34,
   "metadata": {
    "colab": {
     "base_uri": "https://localhost:8080/",
     "height": 70
    },
    "colab_type": "code",
    "executionInfo": {
     "elapsed": 346,
     "status": "ok",
     "timestamp": 1588010443032,
     "user": {
      "displayName": "Sanjay Agarwal",
      "photoUrl": "",
      "userId": "01124094544480722853"
     },
     "user_tz": 420
    },
    "id": "sYJM5rX2yHjv",
    "outputId": "3d5337a9-f876-40ef-8c4f-bf753cfd969c"
   },
   "outputs": [
    {
     "name": "stdout",
     "output_type": "stream",
     "text": [
      "25th percentile:    174.25\n",
      "Median:             182.0\n",
      "75th percentile:    183.0\n"
     ]
    }
   ],
   "source": [
    "print(\"25th percentile:   \", np.percentile(heights, 25))\n",
    "print(\"Median:            \", np.median(heights))\n",
    "print(\"75th percentile:   \", np.percentile(heights, 75))"
   ]
  },
  {
   "cell_type": "code",
   "execution_count": 35,
   "metadata": {
    "colab": {},
    "colab_type": "code",
    "id": "aCioi7lXyHjx"
   },
   "outputs": [],
   "source": [
    "%matplotlib inline\n",
    "import matplotlib.pyplot as plt\n",
    "# import seaborn; seaborn.set()  # set plot style"
   ]
  },
  {
   "cell_type": "code",
   "execution_count": 36,
   "metadata": {
    "colab": {
     "base_uri": "https://localhost:8080/",
     "height": 294
    },
    "colab_type": "code",
    "executionInfo": {
     "elapsed": 451,
     "status": "ok",
     "timestamp": 1588010447141,
     "user": {
      "displayName": "Sanjay Agarwal",
      "photoUrl": "",
      "userId": "01124094544480722853"
     },
     "user_tz": 420
    },
    "id": "WFyj6brZyHjy",
    "outputId": "427b5dd1-c9a1-47d7-95a0-a88f62e7be3a"
   },
   "outputs": [
    {
     "data": {
      "image/png": "[encoded data removed]",
      "text/plain": [
       "<Figure size 432x288 with 1 Axes>"
      ]
     },
     "metadata": {
      "needs_background": "light"
     },
     "output_type": "display_data"
    }
   ],
   "source": [
    "plt.hist(heights)\n",
    "plt.title('Height Distribution of US Presidents')\n",
    "plt.xlabel('height (cm)')\n",
    "plt.ylabel('number');"
   ]
  },
  {
   "cell_type": "code",
   "execution_count": 37,
   "metadata": {
    "colab": {},
    "colab_type": "code",
    "id": "1F9nyITwyHj1"
   },
   "outputs": [],
   "source": [
    "x = np.array([1, 2, 3, 4, 5])"
   ]
  },
  {
   "cell_type": "code",
   "execution_count": 38,
   "metadata": {
    "colab": {
     "base_uri": "https://localhost:8080/",
     "height": 34
    },
    "colab_type": "code",
    "executionInfo": {
     "elapsed": 325,
     "status": "ok",
     "timestamp": 1588010452895,
     "user": {
      "displayName": "Sanjay Agarwal",
      "photoUrl": "",
      "userId": "01124094544480722853"
     },
     "user_tz": 420
    },
    "id": "HaLF2kLDyHj2",
    "outputId": "bedc03de-a805-49dd-bfbd-8ee5576a5467"
   },
   "outputs": [
    {
     "data": {
      "text/plain": [
       "array([False, False, False,  True,  True])"
      ]
     },
     "execution_count": 38,
     "metadata": {},
     "output_type": "execute_result"
    }
   ],
   "source": [
    "x > 3"
   ]
  },
  {
   "cell_type": "code",
   "execution_count": 39,
   "metadata": {
    "colab": {
     "base_uri": "https://localhost:8080/",
     "height": 34
    },
    "colab_type": "code",
    "executionInfo": {
     "elapsed": 310,
     "status": "ok",
     "timestamp": 1588010454343,
     "user": {
      "displayName": "Sanjay Agarwal",
      "photoUrl": "",
      "userId": "01124094544480722853"
     },
     "user_tz": 420
    },
    "id": "z8emlCeayHj5",
    "outputId": "23aeed69-a971-44b3-9be3-8dedc4bbfaca"
   },
   "outputs": [
    {
     "data": {
      "text/plain": [
       "array([ True,  True, False,  True,  True])"
      ]
     },
     "execution_count": 39,
     "metadata": {},
     "output_type": "execute_result"
    }
   ],
   "source": [
    "x != 3"
   ]
  },
  {
   "cell_type": "code",
   "execution_count": 40,
   "metadata": {
    "colab": {
     "base_uri": "https://localhost:8080/",
     "height": 34
    },
    "colab_type": "code",
    "executionInfo": {
     "elapsed": 342,
     "status": "ok",
     "timestamp": 1588010455794,
     "user": {
      "displayName": "Sanjay Agarwal",
      "photoUrl": "",
      "userId": "01124094544480722853"
     },
     "user_tz": 420
    },
    "id": "ncuV76ENyHj7",
    "outputId": "9c8bb6f5-4123-4c3d-a843-32774c60c6c8"
   },
   "outputs": [
    {
     "data": {
      "text/plain": [
       "array([False, False, False, False,  True])"
      ]
     },
     "execution_count": 40,
     "metadata": {},
     "output_type": "execute_result"
    }
   ],
   "source": [
    "(x > 3) & (x%5 == 0)"
   ]
  },
  {
   "cell_type": "code",
   "execution_count": 41,
   "metadata": {
    "colab": {
     "base_uri": "https://localhost:8080/",
     "height": 34
    },
    "colab_type": "code",
    "executionInfo": {
     "elapsed": 357,
     "status": "ok",
     "timestamp": 1588010456960,
     "user": {
      "displayName": "Sanjay Agarwal",
      "photoUrl": "",
      "userId": "01124094544480722853"
     },
     "user_tz": 420
    },
    "id": "fI6G71VJyHj-",
    "outputId": "daff2281-3224-4049-8e98-6447a49899a8"
   },
   "outputs": [
    {
     "data": {
      "text/plain": [
       "4"
      ]
     },
     "execution_count": 41,
     "metadata": {},
     "output_type": "execute_result"
    }
   ],
   "source": [
    "np.count_nonzero(x < 5) # "
   ]
  },
  {
   "cell_type": "code",
   "execution_count": 42,
   "metadata": {
    "colab": {
     "base_uri": "https://localhost:8080/",
     "height": 87
    },
    "colab_type": "code",
    "executionInfo": {
     "elapsed": 353,
     "status": "ok",
     "timestamp": 1588010458300,
     "user": {
      "displayName": "Sanjay Agarwal",
      "photoUrl": "",
      "userId": "01124094544480722853"
     },
     "user_tz": 420
    },
    "id": "pGPJKzigyHkC",
    "outputId": "30ef5e07-8f8d-4d22-83e8-1cfdfd46017b"
   },
   "outputs": [
    {
     "name": "stdout",
     "output_type": "stream",
     "text": [
      "[[6 3 7 4 6 9]\n",
      " [2 6 7 4 3 7]\n",
      " [7 2 5 4 1 7]\n",
      " [5 1 4 0 9 5]]\n"
     ]
    }
   ],
   "source": [
    "rand = np.random.RandomState(42)\n",
    "X = rand.randint(0, 10, (4, 6))\n",
    "print(X)"
   ]
  },
  {
   "cell_type": "code",
   "execution_count": 43,
   "metadata": {
    "colab": {
     "base_uri": "https://localhost:8080/",
     "height": 87
    },
    "colab_type": "code",
    "executionInfo": {
     "elapsed": 357,
     "status": "ok",
     "timestamp": 1588010461708,
     "user": {
      "displayName": "Sanjay Agarwal",
      "photoUrl": "",
      "userId": "01124094544480722853"
     },
     "user_tz": 420
    },
    "id": "WpVt14T5yHkE",
    "outputId": "7a8db9df-b35c-405d-ef1f-a52572fd33c7"
   },
   "outputs": [
    {
     "data": {
      "text/plain": [
       "array([[2, 1, 4, 0, 1, 5],\n",
       "       [5, 2, 5, 4, 3, 7],\n",
       "       [6, 3, 7, 4, 6, 7],\n",
       "       [7, 6, 7, 4, 9, 9]])"
      ]
     },
     "execution_count": 43,
     "metadata": {},
     "output_type": "execute_result"
    }
   ],
   "source": [
    "# sort each column of X\n",
    "np.sort(X, axis=0)"
   ]
  },
  {
   "cell_type": "code",
   "execution_count": 44,
   "metadata": {
    "colab": {
     "base_uri": "https://localhost:8080/",
     "height": 87
    },
    "colab_type": "code",
    "executionInfo": {
     "elapsed": 338,
     "status": "ok",
     "timestamp": 1588010463237,
     "user": {
      "displayName": "Sanjay Agarwal",
      "photoUrl": "",
      "userId": "01124094544480722853"
     },
     "user_tz": 420
    },
    "id": "QcCMN88PyHkG",
    "outputId": "6fdb6968-79a9-44fc-9b36-3d25e630b0d0"
   },
   "outputs": [
    {
     "data": {
      "text/plain": [
       "array([[3, 4, 6, 6, 7, 9],\n",
       "       [2, 3, 4, 6, 7, 7],\n",
       "       [1, 2, 4, 5, 7, 7],\n",
       "       [0, 1, 4, 5, 5, 9]])"
      ]
     },
     "execution_count": 44,
     "metadata": {},
     "output_type": "execute_result"
    }
   ],
   "source": [
    "# sort each row of X\n",
    "np.sort(X, axis=1)"
   ]
  },
  {
   "cell_type": "code",
   "execution_count": 0,
   "metadata": {
    "colab": {},
    "colab_type": "code",
    "id": "EEFRVxpHyHkK"
   },
   "outputs": [],
   "source": []
  }
 ],
 "metadata": {
  "colab": {
   "collapsed_sections": [],
   "name": "C3_NumPy_More.ipynb",
   "provenance": []
  },
  "kernelspec": {
   "display_name": "Python 3",
   "language": "python",
   "name": "python3"
  },
  "language_info": {
   "codemirror_mode": {
    "name": "ipython",
    "version": 3
   },
   "file_extension": ".py",
   "mimetype": "text/x-python",
   "name": "python",
   "nbconvert_exporter": "python",
   "pygments_lexer": "ipython3",
   "version": "3.8.3"
  }
 },
 "nbformat": 4,
 "nbformat_minor": 1
}
